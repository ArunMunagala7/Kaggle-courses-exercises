{
 "cells": [
  {
   "cell_type": "markdown",
   "id": "5e1c7755",
   "metadata": {
    "papermill": {
     "duration": 0.005328,
     "end_time": "2023-01-01T08:32:43.814584",
     "exception": false,
     "start_time": "2023-01-01T08:32:43.809256",
     "status": "completed"
    },
    "tags": []
   },
   "source": [
    "**This notebook is an exercise in the [SQL](https://www.kaggle.com/learn/intro-to-sql) course.  You can reference the tutorial at [this link](https://www.kaggle.com/dansbecker/getting-started-with-sql-and-bigquery).**\n",
    "\n",
    "---\n"
   ]
  },
  {
   "cell_type": "markdown",
   "id": "e76097bf",
   "metadata": {
    "papermill": {
     "duration": 0.004195,
     "end_time": "2023-01-01T08:32:43.823884",
     "exception": false,
     "start_time": "2023-01-01T08:32:43.819689",
     "status": "completed"
    },
    "tags": []
   },
   "source": [
    "# Introduction\n",
    "\n",
    "The first test of your new data exploration skills uses data describing crime in the city of Chicago.\n",
    "\n",
    "Before you get started, run the following cell. It sets up the automated feedback system to review your answers."
   ]
  },
  {
   "cell_type": "code",
   "execution_count": 1,
   "id": "63c40ffc",
   "metadata": {
    "execution": {
     "iopub.execute_input": "2023-01-01T08:32:43.834999Z",
     "iopub.status.busy": "2023-01-01T08:32:43.834588Z",
     "iopub.status.idle": "2023-01-01T08:32:44.625470Z",
     "shell.execute_reply": "2023-01-01T08:32:44.623987Z"
    },
    "papermill": {
     "duration": 0.799584,
     "end_time": "2023-01-01T08:32:44.628214",
     "exception": false,
     "start_time": "2023-01-01T08:32:43.828630",
     "status": "completed"
    },
    "tags": []
   },
   "outputs": [
    {
     "name": "stdout",
     "output_type": "stream",
     "text": [
      "Using Kaggle's public dataset BigQuery integration.\n",
      "Setup Complete\n"
     ]
    }
   ],
   "source": [
    "# Set up feedack system\n",
    "from learntools.core import binder\n",
    "binder.bind(globals())\n",
    "from learntools.sql.ex1 import *\n",
    "print(\"Setup Complete\")"
   ]
  },
  {
   "cell_type": "markdown",
   "id": "63405485",
   "metadata": {
    "papermill": {
     "duration": 0.004529,
     "end_time": "2023-01-01T08:32:44.637597",
     "exception": false,
     "start_time": "2023-01-01T08:32:44.633068",
     "status": "completed"
    },
    "tags": []
   },
   "source": [
    "Use the next code cell to fetch the dataset."
   ]
  },
  {
   "cell_type": "code",
   "execution_count": 2,
   "id": "65db2cc0",
   "metadata": {
    "execution": {
     "iopub.execute_input": "2023-01-01T08:32:44.648378Z",
     "iopub.status.busy": "2023-01-01T08:32:44.648005Z",
     "iopub.status.idle": "2023-01-01T08:32:44.938797Z",
     "shell.execute_reply": "2023-01-01T08:32:44.937640Z"
    },
    "papermill": {
     "duration": 0.299234,
     "end_time": "2023-01-01T08:32:44.941423",
     "exception": false,
     "start_time": "2023-01-01T08:32:44.642189",
     "status": "completed"
    },
    "tags": []
   },
   "outputs": [
    {
     "name": "stdout",
     "output_type": "stream",
     "text": [
      "Using Kaggle's public dataset BigQuery integration.\n"
     ]
    }
   ],
   "source": [
    "from google.cloud import bigquery\n",
    " \n",
    "# Create a \"Client\" object\n",
    "client = bigquery.Client()\n",
    "\n",
    "# Construct a reference to the \"chicago_crime\" dataset\n",
    "dataset_ref = client.dataset(\"chicago_crime\", project=\"bigquery-public-data\")\n",
    "\n",
    "# API request - fetch the dataset\n",
    "dataset = client.get_dataset(dataset_ref)"
   ]
  },
  {
   "cell_type": "markdown",
   "id": "05180fb6",
   "metadata": {
    "papermill": {
     "duration": 0.004433,
     "end_time": "2023-01-01T08:32:44.950936",
     "exception": false,
     "start_time": "2023-01-01T08:32:44.946503",
     "status": "completed"
    },
    "tags": []
   },
   "source": [
    "# Exercises\n",
    "\n",
    "### 1) Count tables in the dataset\n",
    "\n",
    "How many tables are in the Chicago Crime dataset?"
   ]
  },
  {
   "cell_type": "code",
   "execution_count": 3,
   "id": "9153433c",
   "metadata": {
    "execution": {
     "iopub.execute_input": "2023-01-01T08:32:44.962124Z",
     "iopub.status.busy": "2023-01-01T08:32:44.961733Z",
     "iopub.status.idle": "2023-01-01T08:32:45.124576Z",
     "shell.execute_reply": "2023-01-01T08:32:45.123246Z"
    },
    "papermill": {
     "duration": 0.170979,
     "end_time": "2023-01-01T08:32:45.126650",
     "exception": false,
     "start_time": "2023-01-01T08:32:44.955671",
     "status": "completed"
    },
    "tags": []
   },
   "outputs": [
    {
     "name": "stdout",
     "output_type": "stream",
     "text": [
      "1\n"
     ]
    }
   ],
   "source": [
    "# Write the code you need here to figure out the answer\n",
    "tables=list(client.list_tables(dataset))\n",
    "print(len(tables))"
   ]
  },
  {
   "cell_type": "code",
   "execution_count": 4,
   "id": "d028de83",
   "metadata": {
    "execution": {
     "iopub.execute_input": "2023-01-01T08:32:45.137899Z",
     "iopub.status.busy": "2023-01-01T08:32:45.137582Z",
     "iopub.status.idle": "2023-01-01T08:32:45.148169Z",
     "shell.execute_reply": "2023-01-01T08:32:45.147208Z"
    },
    "papermill": {
     "duration": 0.018598,
     "end_time": "2023-01-01T08:32:45.150129",
     "exception": false,
     "start_time": "2023-01-01T08:32:45.131531",
     "status": "completed"
    },
    "tags": []
   },
   "outputs": [
    {
     "data": {
      "application/javascript": [
       "parent.postMessage({\"jupyterEvent\": \"custom.exercise_interaction\", \"data\": {\"outcomeType\": 1, \"valueTowardsCompletion\": 0.3333333333333333, \"interactionType\": 1, \"questionType\": 1, \"questionId\": \"1_CountTables\", \"learnToolsVersion\": \"0.3.4\", \"failureMessage\": \"\", \"exceptionClass\": \"\", \"trace\": \"\"}}, \"*\")"
      ],
      "text/plain": [
       "<IPython.core.display.Javascript object>"
      ]
     },
     "metadata": {},
     "output_type": "display_data"
    },
    {
     "data": {
      "text/markdown": [
       "<span style=\"color:#33cc33\">Correct</span>"
      ],
      "text/plain": [
       "Correct"
      ]
     },
     "metadata": {},
     "output_type": "display_data"
    }
   ],
   "source": [
    "num_tables = 1  # Store the answer as num_tables and then run this cell\n",
    "\n",
    "# Check your answer\n",
    "q_1.check()"
   ]
  },
  {
   "cell_type": "markdown",
   "id": "155ffdc5",
   "metadata": {
    "papermill": {
     "duration": 0.005044,
     "end_time": "2023-01-01T08:32:45.161497",
     "exception": false,
     "start_time": "2023-01-01T08:32:45.156453",
     "status": "completed"
    },
    "tags": []
   },
   "source": [
    "For a hint or the solution, uncomment the appropriate line below."
   ]
  },
  {
   "cell_type": "code",
   "execution_count": 5,
   "id": "c4a5fba9",
   "metadata": {
    "execution": {
     "iopub.execute_input": "2023-01-01T08:32:45.173558Z",
     "iopub.status.busy": "2023-01-01T08:32:45.173152Z",
     "iopub.status.idle": "2023-01-01T08:32:45.186241Z",
     "shell.execute_reply": "2023-01-01T08:32:45.185142Z"
    },
    "papermill": {
     "duration": 0.021874,
     "end_time": "2023-01-01T08:32:45.188319",
     "exception": false,
     "start_time": "2023-01-01T08:32:45.166445",
     "status": "completed"
    },
    "tags": []
   },
   "outputs": [
    {
     "data": {
      "application/javascript": [
       "parent.postMessage({\"jupyterEvent\": \"custom.exercise_interaction\", \"data\": {\"interactionType\": 2, \"questionType\": 1, \"questionId\": \"1_CountTables\", \"learnToolsVersion\": \"0.3.4\", \"valueTowardsCompletion\": 0.0, \"failureMessage\": \"\", \"exceptionClass\": \"\", \"trace\": \"\", \"outcomeType\": 4}}, \"*\")"
      ],
      "text/plain": [
       "<IPython.core.display.Javascript object>"
      ]
     },
     "metadata": {},
     "output_type": "display_data"
    },
    {
     "data": {
      "text/markdown": [
       "<span style=\"color:#3366cc\">Hint:</span> Use the `list_tables()` method to get a list of the tables in the dataset."
      ],
      "text/plain": [
       "Hint: Use the `list_tables()` method to get a list of the tables in the dataset."
      ]
     },
     "metadata": {},
     "output_type": "display_data"
    },
    {
     "data": {
      "application/javascript": [
       "parent.postMessage({\"jupyterEvent\": \"custom.exercise_interaction\", \"data\": {\"interactionType\": 3, \"questionType\": 1, \"questionId\": \"1_CountTables\", \"learnToolsVersion\": \"0.3.4\", \"valueTowardsCompletion\": 0.0, \"failureMessage\": \"\", \"exceptionClass\": \"\", \"trace\": \"\", \"outcomeType\": 4}}, \"*\")"
      ],
      "text/plain": [
       "<IPython.core.display.Javascript object>"
      ]
     },
     "metadata": {},
     "output_type": "display_data"
    },
    {
     "data": {
      "text/markdown": [
       "<span style=\"color:#33cc99\">Solution:</span> \n",
       "```python\n",
       "\n",
       "# List all the tables in the \"chicago_crime\" dataset\n",
       "tables = list(client.list_tables(dataset))\n",
       "\n",
       "# Print number of tables in the dataset\n",
       "print(len(tables))\n",
       "\n",
       "num_tables = 1\n",
       "\n",
       "```"
      ],
      "text/plain": [
       "Solution: \n",
       "```python\n",
       "\n",
       "# List all the tables in the \"chicago_crime\" dataset\n",
       "tables = list(client.list_tables(dataset))\n",
       "\n",
       "# Print number of tables in the dataset\n",
       "print(len(tables))\n",
       "\n",
       "num_tables = 1\n",
       "\n",
       "```"
      ]
     },
     "metadata": {},
     "output_type": "display_data"
    }
   ],
   "source": [
    "q_1.hint()\n",
    "q_1.solution()"
   ]
  },
  {
   "cell_type": "markdown",
   "id": "0eb94310",
   "metadata": {
    "papermill": {
     "duration": 0.005229,
     "end_time": "2023-01-01T08:32:45.199180",
     "exception": false,
     "start_time": "2023-01-01T08:32:45.193951",
     "status": "completed"
    },
    "tags": []
   },
   "source": [
    "### 2) Explore the table schema\n",
    "\n",
    "How many columns in the `crime` table have `TIMESTAMP` data?"
   ]
  },
  {
   "cell_type": "code",
   "execution_count": 6,
   "id": "ca955427",
   "metadata": {
    "execution": {
     "iopub.execute_input": "2023-01-01T08:32:45.212411Z",
     "iopub.status.busy": "2023-01-01T08:32:45.212058Z",
     "iopub.status.idle": "2023-01-01T08:32:45.374005Z",
     "shell.execute_reply": "2023-01-01T08:32:45.372450Z"
    },
    "papermill": {
     "duration": 0.171785,
     "end_time": "2023-01-01T08:32:45.376429",
     "exception": false,
     "start_time": "2023-01-01T08:32:45.204644",
     "status": "completed"
    },
    "tags": []
   },
   "outputs": [
    {
     "data": {
      "text/plain": [
       "[SchemaField('unique_key', 'INTEGER', 'REQUIRED', None, (), None),\n",
       " SchemaField('case_number', 'STRING', 'NULLABLE', None, (), None),\n",
       " SchemaField('date', 'TIMESTAMP', 'NULLABLE', None, (), None),\n",
       " SchemaField('block', 'STRING', 'NULLABLE', None, (), None),\n",
       " SchemaField('iucr', 'STRING', 'NULLABLE', None, (), None),\n",
       " SchemaField('primary_type', 'STRING', 'NULLABLE', None, (), None),\n",
       " SchemaField('description', 'STRING', 'NULLABLE', None, (), None),\n",
       " SchemaField('location_description', 'STRING', 'NULLABLE', None, (), None),\n",
       " SchemaField('arrest', 'BOOLEAN', 'NULLABLE', None, (), None),\n",
       " SchemaField('domestic', 'BOOLEAN', 'NULLABLE', None, (), None),\n",
       " SchemaField('beat', 'INTEGER', 'NULLABLE', None, (), None),\n",
       " SchemaField('district', 'INTEGER', 'NULLABLE', None, (), None),\n",
       " SchemaField('ward', 'INTEGER', 'NULLABLE', None, (), None),\n",
       " SchemaField('community_area', 'INTEGER', 'NULLABLE', None, (), None),\n",
       " SchemaField('fbi_code', 'STRING', 'NULLABLE', None, (), None),\n",
       " SchemaField('x_coordinate', 'FLOAT', 'NULLABLE', None, (), None),\n",
       " SchemaField('y_coordinate', 'FLOAT', 'NULLABLE', None, (), None),\n",
       " SchemaField('year', 'INTEGER', 'NULLABLE', None, (), None),\n",
       " SchemaField('updated_on', 'TIMESTAMP', 'NULLABLE', None, (), None),\n",
       " SchemaField('latitude', 'FLOAT', 'NULLABLE', None, (), None),\n",
       " SchemaField('longitude', 'FLOAT', 'NULLABLE', None, (), None),\n",
       " SchemaField('location', 'STRING', 'NULLABLE', None, (), None)]"
      ]
     },
     "execution_count": 6,
     "metadata": {},
     "output_type": "execute_result"
    }
   ],
   "source": [
    "# Write the code to figure out the answer\n",
    "table_ref = dataset_ref.table(\"crime\")\n",
    "table = client.get_table(table_ref)\n",
    "table.schema"
   ]
  },
  {
   "cell_type": "code",
   "execution_count": 7,
   "id": "024654f9",
   "metadata": {
    "execution": {
     "iopub.execute_input": "2023-01-01T08:32:45.390232Z",
     "iopub.status.busy": "2023-01-01T08:32:45.389876Z",
     "iopub.status.idle": "2023-01-01T08:32:45.399556Z",
     "shell.execute_reply": "2023-01-01T08:32:45.398278Z"
    },
    "papermill": {
     "duration": 0.018783,
     "end_time": "2023-01-01T08:32:45.401588",
     "exception": false,
     "start_time": "2023-01-01T08:32:45.382805",
     "status": "completed"
    },
    "tags": []
   },
   "outputs": [
    {
     "data": {
      "application/javascript": [
       "parent.postMessage({\"jupyterEvent\": \"custom.exercise_interaction\", \"data\": {\"outcomeType\": 1, \"valueTowardsCompletion\": 0.3333333333333333, \"interactionType\": 1, \"questionType\": 1, \"questionId\": \"2_CountTimestampFields\", \"learnToolsVersion\": \"0.3.4\", \"failureMessage\": \"\", \"exceptionClass\": \"\", \"trace\": \"\"}}, \"*\")"
      ],
      "text/plain": [
       "<IPython.core.display.Javascript object>"
      ]
     },
     "metadata": {},
     "output_type": "display_data"
    },
    {
     "data": {
      "text/markdown": [
       "<span style=\"color:#33cc33\">Correct</span>"
      ],
      "text/plain": [
       "Correct"
      ]
     },
     "metadata": {},
     "output_type": "display_data"
    }
   ],
   "source": [
    "num_timestamp_fields = 2# Put your answer here\n",
    "\n",
    "# Check your answer\n",
    "q_2.check()"
   ]
  },
  {
   "cell_type": "markdown",
   "id": "314db857",
   "metadata": {
    "papermill": {
     "duration": 0.005528,
     "end_time": "2023-01-01T08:32:45.413278",
     "exception": false,
     "start_time": "2023-01-01T08:32:45.407750",
     "status": "completed"
    },
    "tags": []
   },
   "source": [
    "For a hint or the solution, uncomment the appropriate line below."
   ]
  },
  {
   "cell_type": "code",
   "execution_count": 8,
   "id": "c629f630",
   "metadata": {
    "execution": {
     "iopub.execute_input": "2023-01-01T08:32:45.426535Z",
     "iopub.status.busy": "2023-01-01T08:32:45.426179Z",
     "iopub.status.idle": "2023-01-01T08:32:45.438991Z",
     "shell.execute_reply": "2023-01-01T08:32:45.437580Z"
    },
    "papermill": {
     "duration": 0.022083,
     "end_time": "2023-01-01T08:32:45.441139",
     "exception": false,
     "start_time": "2023-01-01T08:32:45.419056",
     "status": "completed"
    },
    "tags": []
   },
   "outputs": [
    {
     "data": {
      "application/javascript": [
       "parent.postMessage({\"jupyterEvent\": \"custom.exercise_interaction\", \"data\": {\"interactionType\": 2, \"questionType\": 1, \"questionId\": \"2_CountTimestampFields\", \"learnToolsVersion\": \"0.3.4\", \"valueTowardsCompletion\": 0.0, \"failureMessage\": \"\", \"exceptionClass\": \"\", \"trace\": \"\", \"outcomeType\": 4}}, \"*\")"
      ],
      "text/plain": [
       "<IPython.core.display.Javascript object>"
      ]
     },
     "metadata": {},
     "output_type": "display_data"
    },
    {
     "data": {
      "text/markdown": [
       "<span style=\"color:#3366cc\">Hint:</span> Begin by fetching the `crime` table. Then take a look at the table schema, and check the field type of each column.  How many times does `'TIMESTAMP'` appear?"
      ],
      "text/plain": [
       "Hint: Begin by fetching the `crime` table. Then take a look at the table schema, and check the field type of each column.  How many times does `'TIMESTAMP'` appear?"
      ]
     },
     "metadata": {},
     "output_type": "display_data"
    },
    {
     "data": {
      "application/javascript": [
       "parent.postMessage({\"jupyterEvent\": \"custom.exercise_interaction\", \"data\": {\"interactionType\": 3, \"questionType\": 1, \"questionId\": \"2_CountTimestampFields\", \"learnToolsVersion\": \"0.3.4\", \"valueTowardsCompletion\": 0.0, \"failureMessage\": \"\", \"exceptionClass\": \"\", \"trace\": \"\", \"outcomeType\": 4}}, \"*\")"
      ],
      "text/plain": [
       "<IPython.core.display.Javascript object>"
      ]
     },
     "metadata": {},
     "output_type": "display_data"
    },
    {
     "data": {
      "text/markdown": [
       "<span style=\"color:#33cc99\">Solution:</span> \n",
       "```python\n",
       "\n",
       "# Construct a reference to the \"crime\" table\n",
       "table_ref = dataset_ref.table(\"crime\")\n",
       "\n",
       "# API request - fetch the table\n",
       "table = client.get_table(table_ref)\n",
       "\n",
       "# Print information on all the columns in the \"crime\" table in the \"chicago_crime\" dataset\n",
       "print(table.schema)\n",
       "\n",
       "num_timestamp_fields = 2\n",
       "\n",
       "```"
      ],
      "text/plain": [
       "Solution: \n",
       "```python\n",
       "\n",
       "# Construct a reference to the \"crime\" table\n",
       "table_ref = dataset_ref.table(\"crime\")\n",
       "\n",
       "# API request - fetch the table\n",
       "table = client.get_table(table_ref)\n",
       "\n",
       "# Print information on all the columns in the \"crime\" table in the \"chicago_crime\" dataset\n",
       "print(table.schema)\n",
       "\n",
       "num_timestamp_fields = 2\n",
       "\n",
       "```"
      ]
     },
     "metadata": {},
     "output_type": "display_data"
    }
   ],
   "source": [
    "q_2.hint()\n",
    "q_2.solution()"
   ]
  },
  {
   "cell_type": "markdown",
   "id": "8a3ff646",
   "metadata": {
    "papermill": {
     "duration": 0.005779,
     "end_time": "2023-01-01T08:32:45.453242",
     "exception": false,
     "start_time": "2023-01-01T08:32:45.447463",
     "status": "completed"
    },
    "tags": []
   },
   "source": [
    "### 3) Create a crime map\n",
    "\n",
    "If you wanted to create a map with a dot at the location of each crime, what are the names of the two fields you likely need to pull out of the `crime` table to plot the crimes on a map?"
   ]
  },
  {
   "cell_type": "code",
   "execution_count": 9,
   "id": "5ce3fcb9",
   "metadata": {
    "execution": {
     "iopub.execute_input": "2023-01-01T08:32:45.467340Z",
     "iopub.status.busy": "2023-01-01T08:32:45.466385Z",
     "iopub.status.idle": "2023-01-01T08:32:45.471264Z",
     "shell.execute_reply": "2023-01-01T08:32:45.470510Z"
    },
    "papermill": {
     "duration": 0.01368,
     "end_time": "2023-01-01T08:32:45.472818",
     "exception": false,
     "start_time": "2023-01-01T08:32:45.459138",
     "status": "completed"
    },
    "tags": []
   },
   "outputs": [],
   "source": [
    "# Write the code here to explore the data so you can find the answer\n"
   ]
  },
  {
   "cell_type": "code",
   "execution_count": 10,
   "id": "e82a67bd",
   "metadata": {
    "execution": {
     "iopub.execute_input": "2023-01-01T08:32:45.486622Z",
     "iopub.status.busy": "2023-01-01T08:32:45.486198Z",
     "iopub.status.idle": "2023-01-01T08:32:45.494730Z",
     "shell.execute_reply": "2023-01-01T08:32:45.493333Z"
    },
    "papermill": {
     "duration": 0.018262,
     "end_time": "2023-01-01T08:32:45.497197",
     "exception": false,
     "start_time": "2023-01-01T08:32:45.478935",
     "status": "completed"
    },
    "tags": []
   },
   "outputs": [
    {
     "data": {
      "application/javascript": [
       "parent.postMessage({\"jupyterEvent\": \"custom.exercise_interaction\", \"data\": {\"outcomeType\": 1, \"valueTowardsCompletion\": 0.3333333333333333, \"interactionType\": 1, \"questionType\": 2, \"questionId\": \"3_IdentifyFieldsForPlotting\", \"learnToolsVersion\": \"0.3.4\", \"failureMessage\": \"\", \"exceptionClass\": \"\", \"trace\": \"\"}}, \"*\")"
      ],
      "text/plain": [
       "<IPython.core.display.Javascript object>"
      ]
     },
     "metadata": {},
     "output_type": "display_data"
    },
    {
     "data": {
      "text/markdown": [
       "<span style=\"color:#33cc33\">Correct</span>"
      ],
      "text/plain": [
       "Correct"
      ]
     },
     "metadata": {},
     "output_type": "display_data"
    }
   ],
   "source": [
    "fields_for_plotting = ['latitude','longitude'] # Put your answers here\n",
    "\n",
    "# Check your answer\n",
    "q_3.check()"
   ]
  },
  {
   "cell_type": "markdown",
   "id": "9d6e869c",
   "metadata": {
    "papermill": {
     "duration": 0.006153,
     "end_time": "2023-01-01T08:32:45.509918",
     "exception": false,
     "start_time": "2023-01-01T08:32:45.503765",
     "status": "completed"
    },
    "tags": []
   },
   "source": [
    "For a hint or the solution, uncomment the appropriate line below."
   ]
  },
  {
   "cell_type": "code",
   "execution_count": 11,
   "id": "7b898c6c",
   "metadata": {
    "execution": {
     "iopub.execute_input": "2023-01-01T08:32:45.524512Z",
     "iopub.status.busy": "2023-01-01T08:32:45.524124Z",
     "iopub.status.idle": "2023-01-01T08:32:45.535631Z",
     "shell.execute_reply": "2023-01-01T08:32:45.534524Z"
    },
    "papermill": {
     "duration": 0.021359,
     "end_time": "2023-01-01T08:32:45.537827",
     "exception": false,
     "start_time": "2023-01-01T08:32:45.516468",
     "status": "completed"
    },
    "tags": []
   },
   "outputs": [
    {
     "data": {
      "application/javascript": [
       "parent.postMessage({\"jupyterEvent\": \"custom.exercise_interaction\", \"data\": {\"interactionType\": 2, \"questionType\": 2, \"questionId\": \"3_IdentifyFieldsForPlotting\", \"learnToolsVersion\": \"0.3.4\", \"valueTowardsCompletion\": 0.0, \"failureMessage\": \"\", \"exceptionClass\": \"\", \"trace\": \"\", \"outcomeType\": 4}}, \"*\")"
      ],
      "text/plain": [
       "<IPython.core.display.Javascript object>"
      ]
     },
     "metadata": {},
     "output_type": "display_data"
    },
    {
     "data": {
      "text/markdown": [
       "<span style=\"color:#3366cc\">Hint:</span> Look at the table schema.  There are a couple options, but two of the fields are things commonly used to plot on maps. Both are `'FLOAT'` types. Use quotes around the field names in your answer."
      ],
      "text/plain": [
       "Hint: Look at the table schema.  There are a couple options, but two of the fields are things commonly used to plot on maps. Both are `'FLOAT'` types. Use quotes around the field names in your answer."
      ]
     },
     "metadata": {},
     "output_type": "display_data"
    },
    {
     "data": {
      "application/javascript": [
       "parent.postMessage({\"jupyterEvent\": \"custom.exercise_interaction\", \"data\": {\"interactionType\": 3, \"questionType\": 2, \"questionId\": \"3_IdentifyFieldsForPlotting\", \"learnToolsVersion\": \"0.3.4\", \"valueTowardsCompletion\": 0.0, \"failureMessage\": \"\", \"exceptionClass\": \"\", \"trace\": \"\", \"outcomeType\": 4}}, \"*\")"
      ],
      "text/plain": [
       "<IPython.core.display.Javascript object>"
      ]
     },
     "metadata": {},
     "output_type": "display_data"
    },
    {
     "data": {
      "text/markdown": [
       "<span style=\"color:#33cc99\">Solution:</span> \n",
       "```python\n",
       "fields_for_plotting = ['latitude', 'longitude']\n",
       "```"
      ],
      "text/plain": [
       "Solution: \n",
       "```python\n",
       "fields_for_plotting = ['latitude', 'longitude']\n",
       "```"
      ]
     },
     "metadata": {},
     "output_type": "display_data"
    }
   ],
   "source": [
    "q_3.hint()\n",
    "q_3.solution()"
   ]
  },
  {
   "cell_type": "markdown",
   "id": "c98e6a27",
   "metadata": {
    "papermill": {
     "duration": 0.00681,
     "end_time": "2023-01-01T08:32:45.551812",
     "exception": false,
     "start_time": "2023-01-01T08:32:45.545002",
     "status": "completed"
    },
    "tags": []
   },
   "source": [
    "Thinking about the question above, there are a few columns that appear to have geographic data. Look at a few values (with the `list_rows()` command) to see if you can determine their relationship.  Two columns will still be hard to interpret. But it should be obvious how the `location` column relates to `latitude` and `longitude`."
   ]
  },
  {
   "cell_type": "code",
   "execution_count": 12,
   "id": "f28aeed8",
   "metadata": {
    "execution": {
     "iopub.execute_input": "2023-01-01T08:32:45.567529Z",
     "iopub.status.busy": "2023-01-01T08:32:45.567156Z",
     "iopub.status.idle": "2023-01-01T08:32:45.572018Z",
     "shell.execute_reply": "2023-01-01T08:32:45.570845Z"
    },
    "papermill": {
     "duration": 0.015122,
     "end_time": "2023-01-01T08:32:45.573977",
     "exception": false,
     "start_time": "2023-01-01T08:32:45.558855",
     "status": "completed"
    },
    "tags": []
   },
   "outputs": [],
   "source": [
    "# Scratch space for your code"
   ]
  },
  {
   "cell_type": "markdown",
   "id": "c5a98aa3",
   "metadata": {
    "papermill": {
     "duration": 0.006915,
     "end_time": "2023-01-01T08:32:45.588140",
     "exception": false,
     "start_time": "2023-01-01T08:32:45.581225",
     "status": "completed"
    },
    "tags": []
   },
   "source": [
    "# Keep going\n",
    "\n",
    "You've looked at the schema, but you haven't yet done anything exciting with the data itself. Things get more interesting when you get to the data, so keep going to **[write your first SQL query](https://www.kaggle.com/dansbecker/select-from-where).**"
   ]
  },
  {
   "cell_type": "markdown",
   "id": "11b035e7",
   "metadata": {
    "papermill": {
     "duration": 0.006703,
     "end_time": "2023-01-01T08:32:45.601844",
     "exception": false,
     "start_time": "2023-01-01T08:32:45.595141",
     "status": "completed"
    },
    "tags": []
   },
   "source": [
    "---\n",
    "\n",
    "\n",
    "\n",
    "\n",
    "*Have questions or comments? Visit the [course discussion forum](https://www.kaggle.com/learn/intro-to-sql/discussion) to chat with other learners.*"
   ]
  }
 ],
 "metadata": {
  "kernelspec": {
   "display_name": "Python 3",
   "language": "python",
   "name": "python3"
  },
  "language_info": {
   "codemirror_mode": {
    "name": "ipython",
    "version": 3
   },
   "file_extension": ".py",
   "mimetype": "text/x-python",
   "name": "python",
   "nbconvert_exporter": "python",
   "pygments_lexer": "ipython3",
   "version": "3.7.12"
  },
  "papermill": {
   "default_parameters": {},
   "duration": 11.369984,
   "end_time": "2023-01-01T08:32:46.229835",
   "environment_variables": {},
   "exception": null,
   "input_path": "__notebook__.ipynb",
   "output_path": "__notebook__.ipynb",
   "parameters": {},
   "start_time": "2023-01-01T08:32:34.859851",
   "version": "2.3.4"
  }
 },
 "nbformat": 4,
 "nbformat_minor": 5
}
