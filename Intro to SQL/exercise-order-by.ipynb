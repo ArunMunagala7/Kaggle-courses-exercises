{
 "cells": [
  {
   "cell_type": "markdown",
   "id": "3874ad24",
   "metadata": {
    "papermill": {
     "duration": 0.005172,
     "end_time": "2023-01-01T19:11:39.302596",
     "exception": false,
     "start_time": "2023-01-01T19:11:39.297424",
     "status": "completed"
    },
    "tags": []
   },
   "source": [
    "**This notebook is an exercise in the [SQL](https://www.kaggle.com/learn/intro-to-sql) course.  You can reference the tutorial at [this link](https://www.kaggle.com/dansbecker/order-by).**\n",
    "\n",
    "---\n"
   ]
  },
  {
   "cell_type": "markdown",
   "id": "1e2a8dbe",
   "metadata": {
    "papermill": {
     "duration": 0.003683,
     "end_time": "2023-01-01T19:11:39.310594",
     "exception": false,
     "start_time": "2023-01-01T19:11:39.306911",
     "status": "completed"
    },
    "tags": []
   },
   "source": [
    "# Introduction\n",
    "\n",
    "You've built up your SQL skills enough that the remaining hands-on exercises will use different datasets than you see in the explanations. If you need to get to know a new dataset, you can run a couple of **SELECT** queries to extract and review the data you need. \n",
    "\n",
    "The next exercises are also more challenging than what you've done so far. Don't worry, you are ready for it!\n",
    "\n",
    "Run the code in the following cell to get everything set up:"
   ]
  },
  {
   "cell_type": "code",
   "execution_count": 1,
   "id": "4dd5df4d",
   "metadata": {
    "execution": {
     "iopub.execute_input": "2023-01-01T19:11:39.321584Z",
     "iopub.status.busy": "2023-01-01T19:11:39.320618Z",
     "iopub.status.idle": "2023-01-01T19:11:41.577545Z",
     "shell.execute_reply": "2023-01-01T19:11:41.575666Z"
    },
    "papermill": {
     "duration": 2.26626,
     "end_time": "2023-01-01T19:11:41.580926",
     "exception": false,
     "start_time": "2023-01-01T19:11:39.314666",
     "status": "completed"
    },
    "tags": []
   },
   "outputs": [
    {
     "name": "stdout",
     "output_type": "stream",
     "text": [
      "Using Kaggle's public dataset BigQuery integration.\n"
     ]
    },
    {
     "name": "stderr",
     "output_type": "stream",
     "text": [
      "/opt/conda/lib/python3.7/site-packages/google/cloud/bigquery/client.py:440: UserWarning: Cannot create BigQuery Storage client, the dependency google-cloud-bigquery-storage is not installed.\n",
      "  \"Cannot create BigQuery Storage client, the dependency \"\n"
     ]
    },
    {
     "name": "stdout",
     "output_type": "stream",
     "text": [
      "Setup Complete\n"
     ]
    }
   ],
   "source": [
    "# Set up feedback system\n",
    "from learntools.core import binder\n",
    "binder.bind(globals())\n",
    "from learntools.sql.ex4 import *\n",
    "print(\"Setup Complete\")"
   ]
  },
  {
   "cell_type": "markdown",
   "id": "cb9e0d01",
   "metadata": {
    "papermill": {
     "duration": 0.00382,
     "end_time": "2023-01-01T19:11:41.589025",
     "exception": false,
     "start_time": "2023-01-01T19:11:41.585205",
     "status": "completed"
    },
    "tags": []
   },
   "source": [
    "The World Bank has made tons of interesting education data available through BigQuery. Run the following cell to see the first few rows of the `international_education` table from the `world_bank_intl_education` dataset."
   ]
  },
  {
   "cell_type": "code",
   "execution_count": 2,
   "id": "7b65bc66",
   "metadata": {
    "execution": {
     "iopub.execute_input": "2023-01-01T19:11:41.599617Z",
     "iopub.status.busy": "2023-01-01T19:11:41.598792Z",
     "iopub.status.idle": "2023-01-01T19:11:42.484378Z",
     "shell.execute_reply": "2023-01-01T19:11:42.483241Z"
    },
    "papermill": {
     "duration": 0.894066,
     "end_time": "2023-01-01T19:11:42.487188",
     "exception": false,
     "start_time": "2023-01-01T19:11:41.593122",
     "status": "completed"
    },
    "tags": []
   },
   "outputs": [
    {
     "name": "stdout",
     "output_type": "stream",
     "text": [
      "Using Kaggle's public dataset BigQuery integration.\n"
     ]
    },
    {
     "name": "stderr",
     "output_type": "stream",
     "text": [
      "/opt/conda/lib/python3.7/site-packages/ipykernel_launcher.py:19: UserWarning: Cannot use bqstorage_client if max_results is set, reverting to fetching data with the tabledata.list endpoint.\n"
     ]
    },
    {
     "data": {
      "text/html": [
       "<div>\n",
       "<style scoped>\n",
       "    .dataframe tbody tr th:only-of-type {\n",
       "        vertical-align: middle;\n",
       "    }\n",
       "\n",
       "    .dataframe tbody tr th {\n",
       "        vertical-align: top;\n",
       "    }\n",
       "\n",
       "    .dataframe thead th {\n",
       "        text-align: right;\n",
       "    }\n",
       "</style>\n",
       "<table border=\"1\" class=\"dataframe\">\n",
       "  <thead>\n",
       "    <tr style=\"text-align: right;\">\n",
       "      <th></th>\n",
       "      <th>country_name</th>\n",
       "      <th>country_code</th>\n",
       "      <th>indicator_name</th>\n",
       "      <th>indicator_code</th>\n",
       "      <th>value</th>\n",
       "      <th>year</th>\n",
       "    </tr>\n",
       "  </thead>\n",
       "  <tbody>\n",
       "    <tr>\n",
       "      <th>0</th>\n",
       "      <td>Chad</td>\n",
       "      <td>TCD</td>\n",
       "      <td>Enrolment in lower secondary education, both s...</td>\n",
       "      <td>UIS.E.2</td>\n",
       "      <td>321921.0</td>\n",
       "      <td>2012</td>\n",
       "    </tr>\n",
       "    <tr>\n",
       "      <th>1</th>\n",
       "      <td>Chad</td>\n",
       "      <td>TCD</td>\n",
       "      <td>Enrolment in upper secondary education, both s...</td>\n",
       "      <td>UIS.E.3</td>\n",
       "      <td>68809.0</td>\n",
       "      <td>2006</td>\n",
       "    </tr>\n",
       "    <tr>\n",
       "      <th>2</th>\n",
       "      <td>Chad</td>\n",
       "      <td>TCD</td>\n",
       "      <td>Enrolment in upper secondary education, both s...</td>\n",
       "      <td>UIS.E.3</td>\n",
       "      <td>30551.0</td>\n",
       "      <td>1999</td>\n",
       "    </tr>\n",
       "    <tr>\n",
       "      <th>3</th>\n",
       "      <td>Chad</td>\n",
       "      <td>TCD</td>\n",
       "      <td>Enrolment in upper secondary education, both s...</td>\n",
       "      <td>UIS.E.3</td>\n",
       "      <td>79784.0</td>\n",
       "      <td>2007</td>\n",
       "    </tr>\n",
       "    <tr>\n",
       "      <th>4</th>\n",
       "      <td>Chad</td>\n",
       "      <td>TCD</td>\n",
       "      <td>Repeaters in primary education, all grades, bo...</td>\n",
       "      <td>UIS.R.1</td>\n",
       "      <td>282699.0</td>\n",
       "      <td>2006</td>\n",
       "    </tr>\n",
       "  </tbody>\n",
       "</table>\n",
       "</div>"
      ],
      "text/plain": [
       "  country_name country_code  \\\n",
       "0         Chad          TCD   \n",
       "1         Chad          TCD   \n",
       "2         Chad          TCD   \n",
       "3         Chad          TCD   \n",
       "4         Chad          TCD   \n",
       "\n",
       "                                      indicator_name indicator_code     value  \\\n",
       "0  Enrolment in lower secondary education, both s...        UIS.E.2  321921.0   \n",
       "1  Enrolment in upper secondary education, both s...        UIS.E.3   68809.0   \n",
       "2  Enrolment in upper secondary education, both s...        UIS.E.3   30551.0   \n",
       "3  Enrolment in upper secondary education, both s...        UIS.E.3   79784.0   \n",
       "4  Repeaters in primary education, all grades, bo...        UIS.R.1  282699.0   \n",
       "\n",
       "   year  \n",
       "0  2012  \n",
       "1  2006  \n",
       "2  1999  \n",
       "3  2007  \n",
       "4  2006  "
      ]
     },
     "execution_count": 2,
     "metadata": {},
     "output_type": "execute_result"
    }
   ],
   "source": [
    "from google.cloud import bigquery\n",
    "\n",
    "# Create a \"Client\" object\n",
    "client = bigquery.Client()\n",
    "\n",
    "# Construct a reference to the \"world_bank_intl_education\" dataset\n",
    "dataset_ref = client.dataset(\"world_bank_intl_education\", project=\"bigquery-public-data\")\n",
    "\n",
    "# API request - fetch the dataset\n",
    "dataset = client.get_dataset(dataset_ref)\n",
    "\n",
    "# Construct a reference to the \"international_education\" table\n",
    "table_ref = dataset_ref.table(\"international_education\")\n",
    "\n",
    "# API request - fetch the table\n",
    "table = client.get_table(table_ref)\n",
    "\n",
    "# Preview the first five lines of the \"international_education\" table\n",
    "client.list_rows(table, max_results=5).to_dataframe()"
   ]
  },
  {
   "cell_type": "markdown",
   "id": "b64cf9e2",
   "metadata": {
    "papermill": {
     "duration": 0.004245,
     "end_time": "2023-01-01T19:11:42.496255",
     "exception": false,
     "start_time": "2023-01-01T19:11:42.492010",
     "status": "completed"
    },
    "tags": []
   },
   "source": [
    "# Exercises\n",
    "\n",
    "The value in the `indicator_code` column describes what type of data is shown in a given row.  \n",
    "\n",
    "One interesting indicator code is `SE.XPD.TOTL.GD.ZS`, which corresponds to \"Government expenditure on education as % of GDP (%)\".\n",
    "\n",
    "### 1) Government expenditure on education\n",
    "\n",
    "Which countries spend the largest fraction of GDP on education?  \n",
    "\n",
    "To answer this question, consider only the rows in the dataset corresponding to indicator code `SE.XPD.TOTL.GD.ZS`, and write a query that returns the average value in the `value` column for each country in the dataset between the years 2010-2017 (including 2010 and 2017 in the average). \n",
    "\n",
    "Requirements:\n",
    "- Your results should have the country name rather than the country code. You will have one row for each country.\n",
    "- The aggregate function for average is **AVG()**.  Use the name `avg_ed_spending_pct` for the column created by this aggregation.\n",
    "- Order the results so the countries that spend the largest fraction of GDP on education show up first.\n",
    "\n",
    "In case it's useful to see a sample query, here's a query you saw in the tutorial (using a different dataset):\n",
    "```\n",
    "# Query to find out the number of accidents for each day of the week\n",
    "query = \"\"\"\n",
    "        SELECT COUNT(consecutive_number) AS num_accidents, \n",
    "               EXTRACT(DAYOFWEEK FROM timestamp_of_crash) AS day_of_week\n",
    "        FROM `bigquery-public-data.nhtsa_traffic_fatalities.accident_2015`\n",
    "        GROUP BY day_of_week\n",
    "        ORDER BY num_accidents DESC\n",
    "        \"\"\"\n",
    "```"
   ]
  },
  {
   "cell_type": "code",
   "execution_count": 3,
   "id": "ab723fcd",
   "metadata": {
    "execution": {
     "iopub.execute_input": "2023-01-01T19:11:42.507298Z",
     "iopub.status.busy": "2023-01-01T19:11:42.506839Z",
     "iopub.status.idle": "2023-01-01T19:11:43.544172Z",
     "shell.execute_reply": "2023-01-01T19:11:43.542178Z"
    },
    "papermill": {
     "duration": 1.046395,
     "end_time": "2023-01-01T19:11:43.547238",
     "exception": false,
     "start_time": "2023-01-01T19:11:42.500843",
     "status": "completed"
    },
    "tags": []
   },
   "outputs": [
    {
     "name": "stderr",
     "output_type": "stream",
     "text": [
      "/opt/conda/lib/python3.7/site-packages/google/cloud/bigquery/client.py:440: UserWarning: Cannot create BigQuery Storage client, the dependency google-cloud-bigquery-storage is not installed.\n",
      "  \"Cannot create BigQuery Storage client, the dependency \"\n"
     ]
    },
    {
     "name": "stdout",
     "output_type": "stream",
     "text": [
      "            country_name  avg_ed_spending_pct\n",
      "0                   Cuba            12.837270\n",
      "1  Micronesia, Fed. Sts.            12.467750\n",
      "2        Solomon Islands            10.001080\n",
      "3                Moldova             8.372153\n",
      "4                Namibia             8.349610\n"
     ]
    },
    {
     "data": {
      "application/javascript": [
       "parent.postMessage({\"jupyterEvent\": \"custom.exercise_interaction\", \"data\": {\"outcomeType\": 1, \"valueTowardsCompletion\": 0.5, \"interactionType\": 1, \"questionType\": 2, \"questionId\": \"1_EducationSpending\", \"learnToolsVersion\": \"0.3.4\", \"failureMessage\": \"\", \"exceptionClass\": \"\", \"trace\": \"\"}}, \"*\")"
      ],
      "text/plain": [
       "<IPython.core.display.Javascript object>"
      ]
     },
     "metadata": {},
     "output_type": "display_data"
    },
    {
     "data": {
      "text/markdown": [
       "<span style=\"color:#33cc33\">Correct</span>"
      ],
      "text/plain": [
       "Correct"
      ]
     },
     "metadata": {},
     "output_type": "display_data"
    }
   ],
   "source": [
    "# Your code goes here\n",
    "country_spend_pct_query = \"\"\"\n",
    "                          SELECT country_name,AVG(value) AS avg_ed_spending_pct\n",
    "                          FROM `bigquery-public-data.world_bank_intl_education.international_education`\n",
    "                          WHERE indicator_code='SE.XPD.TOTL.GD.ZS' AND year<=2017 AND year>=2010\n",
    "                          GROUP BY country_name\n",
    "                          ORDER BY avg_ed_spending_pct DESC\n",
    "                          \"\"\"\n",
    "\n",
    "# Set up the query (cancel the query if it would use too much of \n",
    "# your quota, with the limit set to 1 GB)\n",
    "safe_config = bigquery.QueryJobConfig(maximum_bytes_billed=10**10)\n",
    "country_spend_pct_query_job = client.query(country_spend_pct_query, job_config=safe_config)\n",
    "\n",
    "# API request - run the query, and return a pandas DataFrame\n",
    "country_spending_results = country_spend_pct_query_job.to_dataframe()\n",
    "\n",
    "# View top few rows of results\n",
    "print(country_spending_results.head())\n",
    "\n",
    "# Check your answer\n",
    "q_1.check()"
   ]
  },
  {
   "cell_type": "markdown",
   "id": "74f29918",
   "metadata": {
    "papermill": {
     "duration": 0.004709,
     "end_time": "2023-01-01T19:11:43.557306",
     "exception": false,
     "start_time": "2023-01-01T19:11:43.552597",
     "status": "completed"
    },
    "tags": []
   },
   "source": [
    "For a hint or the solution, uncomment the appropriate line below."
   ]
  },
  {
   "cell_type": "code",
   "execution_count": 4,
   "id": "1c095cbf",
   "metadata": {
    "execution": {
     "iopub.execute_input": "2023-01-01T19:11:43.569367Z",
     "iopub.status.busy": "2023-01-01T19:11:43.568952Z",
     "iopub.status.idle": "2023-01-01T19:11:43.582152Z",
     "shell.execute_reply": "2023-01-01T19:11:43.580908Z"
    },
    "papermill": {
     "duration": 0.022408,
     "end_time": "2023-01-01T19:11:43.584787",
     "exception": false,
     "start_time": "2023-01-01T19:11:43.562379",
     "status": "completed"
    },
    "tags": []
   },
   "outputs": [
    {
     "data": {
      "application/javascript": [
       "parent.postMessage({\"jupyterEvent\": \"custom.exercise_interaction\", \"data\": {\"interactionType\": 2, \"questionType\": 2, \"questionId\": \"1_EducationSpending\", \"learnToolsVersion\": \"0.3.4\", \"valueTowardsCompletion\": 0.0, \"failureMessage\": \"\", \"exceptionClass\": \"\", \"trace\": \"\", \"outcomeType\": 4}}, \"*\")"
      ],
      "text/plain": [
       "<IPython.core.display.Javascript object>"
      ]
     },
     "metadata": {},
     "output_type": "display_data"
    },
    {
     "data": {
      "text/markdown": [
       "<span style=\"color:#3366cc\">Hint:</span> The part before `FROM` should be `SELECT country_name, AVG(value) AS avg_ed_spending_pct`."
      ],
      "text/plain": [
       "Hint: The part before `FROM` should be `SELECT country_name, AVG(value) AS avg_ed_spending_pct`."
      ]
     },
     "metadata": {},
     "output_type": "display_data"
    },
    {
     "data": {
      "application/javascript": [
       "parent.postMessage({\"jupyterEvent\": \"custom.exercise_interaction\", \"data\": {\"interactionType\": 3, \"questionType\": 2, \"questionId\": \"1_EducationSpending\", \"learnToolsVersion\": \"0.3.4\", \"valueTowardsCompletion\": 0.0, \"failureMessage\": \"\", \"exceptionClass\": \"\", \"trace\": \"\", \"outcomeType\": 4}}, \"*\")"
      ],
      "text/plain": [
       "<IPython.core.display.Javascript object>"
      ]
     },
     "metadata": {},
     "output_type": "display_data"
    },
    {
     "data": {
      "text/markdown": [
       "<span style=\"color:#33cc99\">Solution:</span> \n",
       "```python\n",
       "\n",
       "country_spend_pct_query = \"\"\"\n",
       "                          SELECT country_name, AVG(value) AS avg_ed_spending_pct\n",
       "                          FROM `bigquery-public-data.world_bank_intl_education.international_education`\n",
       "                          WHERE indicator_code = 'SE.XPD.TOTL.GD.ZS' and year >= 2010 and year <= 2017\n",
       "                          GROUP BY country_name\n",
       "                          ORDER BY avg_ed_spending_pct DESC\n",
       "                          \"\"\"\n",
       "\n",
       "\n",
       "```"
      ],
      "text/plain": [
       "Solution: \n",
       "```python\n",
       "\n",
       "country_spend_pct_query = \"\"\"\n",
       "                          SELECT country_name, AVG(value) AS avg_ed_spending_pct\n",
       "                          FROM `bigquery-public-data.world_bank_intl_education.international_education`\n",
       "                          WHERE indicator_code = 'SE.XPD.TOTL.GD.ZS' and year >= 2010 and year <= 2017\n",
       "                          GROUP BY country_name\n",
       "                          ORDER BY avg_ed_spending_pct DESC\n",
       "                          \"\"\"\n",
       "\n",
       "\n",
       "```"
      ]
     },
     "metadata": {},
     "output_type": "display_data"
    }
   ],
   "source": [
    "q_1.hint()\n",
    "q_1.solution()"
   ]
  },
  {
   "cell_type": "markdown",
   "id": "e7a128f3",
   "metadata": {
    "papermill": {
     "duration": 0.005118,
     "end_time": "2023-01-01T19:11:43.595686",
     "exception": false,
     "start_time": "2023-01-01T19:11:43.590568",
     "status": "completed"
    },
    "tags": []
   },
   "source": [
    "### 2) Identify interesting codes to explore\n",
    "\n",
    "The last question started by telling you to focus on rows with the code `SE.XPD.TOTL.GD.ZS`. But how would you find more interesting indicator codes to explore?\n",
    "\n",
    "There are 1000s of codes in the dataset, so it would be time consuming to review them all. But many codes are available for only a few countries. When browsing the options for different codes, you might restrict yourself to codes that are reported by many countries.\n",
    "\n",
    "Write a query below that selects the indicator code and indicator name for all codes with at least 175 rows in the year 2016.\n",
    "\n",
    "Requirements:\n",
    "- You should have one row for each indicator code.\n",
    "- The columns in your results should be called `indicator_code`, `indicator_name`, and `num_rows`.\n",
    "- Only select codes with 175 or more rows in the raw database (exactly 175 rows would be included).\n",
    "- To get both the `indicator_code` and `indicator_name` in your resulting DataFrame, you need to include both in your **SELECT** statement (in addition to a **COUNT()** aggregation). This requires you to include both in your **GROUP BY** clause.\n",
    "- Order from results most frequent to least frequent."
   ]
  },
  {
   "cell_type": "code",
   "execution_count": 5,
   "id": "419daf64",
   "metadata": {
    "execution": {
     "iopub.execute_input": "2023-01-01T19:11:43.608255Z",
     "iopub.status.busy": "2023-01-01T19:11:43.607870Z",
     "iopub.status.idle": "2023-01-01T19:11:44.557578Z",
     "shell.execute_reply": "2023-01-01T19:11:44.556134Z"
    },
    "papermill": {
     "duration": 0.959078,
     "end_time": "2023-01-01T19:11:44.560158",
     "exception": false,
     "start_time": "2023-01-01T19:11:43.601080",
     "status": "completed"
    },
    "tags": []
   },
   "outputs": [
    {
     "name": "stderr",
     "output_type": "stream",
     "text": [
      "/opt/conda/lib/python3.7/site-packages/google/cloud/bigquery/client.py:440: UserWarning: Cannot create BigQuery Storage client, the dependency google-cloud-bigquery-storage is not installed.\n",
      "  \"Cannot create BigQuery Storage client, the dependency \"\n"
     ]
    },
    {
     "name": "stdout",
     "output_type": "stream",
     "text": [
      "   indicator_code                       indicator_name  num_rows\n",
      "0     SP.POP.GROW         Population growth (annual %)       232\n",
      "1     SP.POP.TOTL                    Population, total       232\n",
      "2  IT.NET.USER.P2      Internet users (per 100 people)       223\n",
      "3     SH.DYN.MORT  Mortality rate, under-5 (per 1,000)       213\n",
      "4  SP.POP.0014.TO         Population, ages 0-14, total       213\n"
     ]
    },
    {
     "data": {
      "application/javascript": [
       "parent.postMessage({\"jupyterEvent\": \"custom.exercise_interaction\", \"data\": {\"outcomeType\": 1, \"valueTowardsCompletion\": 0.5, \"interactionType\": 1, \"questionType\": 2, \"questionId\": \"2_FindInterestingCodes\", \"learnToolsVersion\": \"0.3.4\", \"failureMessage\": \"\", \"exceptionClass\": \"\", \"trace\": \"\"}}, \"*\")"
      ],
      "text/plain": [
       "<IPython.core.display.Javascript object>"
      ]
     },
     "metadata": {},
     "output_type": "display_data"
    },
    {
     "data": {
      "text/markdown": [
       "<span style=\"color:#33cc33\">Correct</span>"
      ],
      "text/plain": [
       "Correct"
      ]
     },
     "metadata": {},
     "output_type": "display_data"
    }
   ],
   "source": [
    "# Your code goes here\n",
    "code_count_query = \"\"\"\n",
    "    SELECT indicator_code,indicator_name,COUNT(1) as num_rows\n",
    "    FROM `bigquery-public-data.world_bank_intl_education.international_education`\n",
    "    WHERE year=2016\n",
    "    GROUP BY indicator_code,indicator_name\n",
    "    HAVING COUNT(1)>=175\n",
    "    ORDER BY COUNT(1) DESC\n",
    "\"\"\"\n",
    "\n",
    "# Set up the query\n",
    "safe_config = bigquery.QueryJobConfig(maximum_bytes_billed=10**10)\n",
    "code_count_query_job = client.query(code_count_query, job_config=safe_config)\n",
    "\n",
    "# API request - run the query, and return a pandas DataFrame\n",
    "code_count_results = code_count_query_job.to_dataframe()\n",
    "\n",
    "# View top few rows of results\n",
    "print(code_count_results.head())\n",
    "\n",
    "# Check your answer\n",
    "q_2.check()"
   ]
  },
  {
   "cell_type": "markdown",
   "id": "5fe2e8bb",
   "metadata": {
    "papermill": {
     "duration": 0.006582,
     "end_time": "2023-01-01T19:11:44.572892",
     "exception": false,
     "start_time": "2023-01-01T19:11:44.566310",
     "status": "completed"
    },
    "tags": []
   },
   "source": [
    "For a hint or the solution, uncomment the appropriate line below."
   ]
  },
  {
   "cell_type": "code",
   "execution_count": 6,
   "id": "00e4295e",
   "metadata": {
    "execution": {
     "iopub.execute_input": "2023-01-01T19:11:44.586972Z",
     "iopub.status.busy": "2023-01-01T19:11:44.586428Z",
     "iopub.status.idle": "2023-01-01T19:11:44.602249Z",
     "shell.execute_reply": "2023-01-01T19:11:44.600915Z"
    },
    "papermill": {
     "duration": 0.026437,
     "end_time": "2023-01-01T19:11:44.605143",
     "exception": false,
     "start_time": "2023-01-01T19:11:44.578706",
     "status": "completed"
    },
    "tags": []
   },
   "outputs": [
    {
     "data": {
      "application/javascript": [
       "parent.postMessage({\"jupyterEvent\": \"custom.exercise_interaction\", \"data\": {\"interactionType\": 2, \"questionType\": 2, \"questionId\": \"2_FindInterestingCodes\", \"learnToolsVersion\": \"0.3.4\", \"valueTowardsCompletion\": 0.0, \"failureMessage\": \"\", \"exceptionClass\": \"\", \"trace\": \"\", \"outcomeType\": 4}}, \"*\")"
      ],
      "text/plain": [
       "<IPython.core.display.Javascript object>"
      ]
     },
     "metadata": {},
     "output_type": "display_data"
    },
    {
     "data": {
      "text/markdown": [
       "<span style=\"color:#3366cc\">Hint:</span> The part before `FROM` is `SELECT indicator_code, indicator_name, COUNT(1) AS num_rows`."
      ],
      "text/plain": [
       "Hint: The part before `FROM` is `SELECT indicator_code, indicator_name, COUNT(1) AS num_rows`."
      ]
     },
     "metadata": {},
     "output_type": "display_data"
    },
    {
     "data": {
      "application/javascript": [
       "parent.postMessage({\"jupyterEvent\": \"custom.exercise_interaction\", \"data\": {\"interactionType\": 3, \"questionType\": 2, \"questionId\": \"2_FindInterestingCodes\", \"learnToolsVersion\": \"0.3.4\", \"valueTowardsCompletion\": 0.0, \"failureMessage\": \"\", \"exceptionClass\": \"\", \"trace\": \"\", \"outcomeType\": 4}}, \"*\")"
      ],
      "text/plain": [
       "<IPython.core.display.Javascript object>"
      ]
     },
     "metadata": {},
     "output_type": "display_data"
    },
    {
     "data": {
      "text/markdown": [
       "<span style=\"color:#33cc99\">Solution:</span> \n",
       "```python\n",
       "\n",
       "code_count_query = \"\"\"\n",
       "                   SELECT indicator_code, indicator_name, COUNT(1) AS num_rows\n",
       "                   FROM `bigquery-public-data.world_bank_intl_education.international_education`\n",
       "                   WHERE year = 2016\n",
       "                   GROUP BY indicator_name, indicator_code\n",
       "                   HAVING COUNT(1) >= 175\n",
       "                   ORDER BY COUNT(1) DESC\n",
       "                   \"\"\"\n",
       "\n",
       "```"
      ],
      "text/plain": [
       "Solution: \n",
       "```python\n",
       "\n",
       "code_count_query = \"\"\"\n",
       "                   SELECT indicator_code, indicator_name, COUNT(1) AS num_rows\n",
       "                   FROM `bigquery-public-data.world_bank_intl_education.international_education`\n",
       "                   WHERE year = 2016\n",
       "                   GROUP BY indicator_name, indicator_code\n",
       "                   HAVING COUNT(1) >= 175\n",
       "                   ORDER BY COUNT(1) DESC\n",
       "                   \"\"\"\n",
       "\n",
       "```"
      ]
     },
     "metadata": {},
     "output_type": "display_data"
    }
   ],
   "source": [
    "q_2.hint()\n",
    "q_2.solution()"
   ]
  },
  {
   "cell_type": "markdown",
   "id": "a2397ec4",
   "metadata": {
    "papermill": {
     "duration": 0.006045,
     "end_time": "2023-01-01T19:11:44.617655",
     "exception": false,
     "start_time": "2023-01-01T19:11:44.611610",
     "status": "completed"
    },
    "tags": []
   },
   "source": [
    "# Keep Going\n",
    "**[Click here](https://www.kaggle.com/dansbecker/as-with)** to learn how to use **AS** and **WITH** to clean up your code and help you construct more complex queries."
   ]
  },
  {
   "cell_type": "markdown",
   "id": "c887bf1a",
   "metadata": {
    "papermill": {
     "duration": 0.00591,
     "end_time": "2023-01-01T19:11:44.629948",
     "exception": false,
     "start_time": "2023-01-01T19:11:44.624038",
     "status": "completed"
    },
    "tags": []
   },
   "source": [
    "---\n",
    "\n",
    "\n",
    "\n",
    "\n",
    "*Have questions or comments? Visit the [course discussion forum](https://www.kaggle.com/learn/intro-to-sql/discussion) to chat with other learners.*"
   ]
  }
 ],
 "metadata": {
  "kernelspec": {
   "display_name": "Python 3",
   "language": "python",
   "name": "python3"
  },
  "language_info": {
   "codemirror_mode": {
    "name": "ipython",
    "version": 3
   },
   "file_extension": ".py",
   "mimetype": "text/x-python",
   "name": "python",
   "nbconvert_exporter": "python",
   "pygments_lexer": "ipython3",
   "version": "3.7.12"
  },
  "papermill": {
   "default_parameters": {},
   "duration": 16.889939,
   "end_time": "2023-01-01T19:11:45.359504",
   "environment_variables": {},
   "exception": null,
   "input_path": "__notebook__.ipynb",
   "output_path": "__notebook__.ipynb",
   "parameters": {},
   "start_time": "2023-01-01T19:11:28.469565",
   "version": "2.3.4"
  }
 },
 "nbformat": 4,
 "nbformat_minor": 5
}
