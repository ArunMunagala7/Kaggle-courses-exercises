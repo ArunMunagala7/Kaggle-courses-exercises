{
 "cells": [
  {
   "cell_type": "markdown",
   "id": "c6fa4ede",
   "metadata": {
    "papermill": {
     "duration": 0.006394,
     "end_time": "2023-01-01T13:55:38.294950",
     "exception": false,
     "start_time": "2023-01-01T13:55:38.288556",
     "status": "completed"
    },
    "tags": []
   },
   "source": [
    "**This notebook is an exercise in the [SQL](https://www.kaggle.com/learn/intro-to-sql) course.  You can reference the tutorial at [this link](https://www.kaggle.com/dansbecker/select-from-where).**\n",
    "\n",
    "---\n"
   ]
  },
  {
   "cell_type": "markdown",
   "id": "cbcd5153",
   "metadata": {
    "papermill": {
     "duration": 0.006002,
     "end_time": "2023-01-01T13:55:38.306873",
     "exception": false,
     "start_time": "2023-01-01T13:55:38.300871",
     "status": "completed"
    },
    "tags": []
   },
   "source": [
    "# Introduction\n",
    "\n",
    "Try writing some **SELECT** statements of your own to explore a large dataset of air pollution measurements.\n",
    "\n",
    "Run the cell below to set up the feedback system."
   ]
  },
  {
   "cell_type": "code",
   "execution_count": 1,
   "id": "4b09e036",
   "metadata": {
    "execution": {
     "iopub.execute_input": "2023-01-01T13:55:38.316870Z",
     "iopub.status.busy": "2023-01-01T13:55:38.316382Z",
     "iopub.status.idle": "2023-01-01T13:56:12.465004Z",
     "shell.execute_reply": "2023-01-01T13:56:12.463963Z"
    },
    "papermill": {
     "duration": 34.160574,
     "end_time": "2023-01-01T13:56:12.471510",
     "exception": false,
     "start_time": "2023-01-01T13:55:38.310936",
     "status": "completed"
    },
    "tags": []
   },
   "outputs": [
    {
     "name": "stdout",
     "output_type": "stream",
     "text": [
      "Using Kaggle's public dataset BigQuery integration.\n"
     ]
    },
    {
     "name": "stderr",
     "output_type": "stream",
     "text": [
      "/opt/conda/lib/python3.7/site-packages/google/cloud/bigquery/client.py:440: UserWarning: Cannot create BigQuery Storage client, the dependency google-cloud-bigquery-storage is not installed.\n",
      "  \"Cannot create BigQuery Storage client, the dependency \"\n"
     ]
    },
    {
     "name": "stdout",
     "output_type": "stream",
     "text": [
      "Setup Complete\n"
     ]
    }
   ],
   "source": [
    "# Set up feedback system\n",
    "from learntools.core import binder\n",
    "binder.bind(globals())\n",
    "from learntools.sql.ex2 import *\n",
    "print(\"Setup Complete\")"
   ]
  },
  {
   "cell_type": "markdown",
   "id": "4c2efecc",
   "metadata": {
    "papermill": {
     "duration": 0.004038,
     "end_time": "2023-01-01T13:56:12.480585",
     "exception": false,
     "start_time": "2023-01-01T13:56:12.476547",
     "status": "completed"
    },
    "tags": []
   },
   "source": [
    "The code cell below fetches the `global_air_quality` table from the `openaq` dataset.  We also preview the first five rows of the table."
   ]
  },
  {
   "cell_type": "code",
   "execution_count": 2,
   "id": "e6a8629d",
   "metadata": {
    "execution": {
     "iopub.execute_input": "2023-01-01T13:56:12.491719Z",
     "iopub.status.busy": "2023-01-01T13:56:12.490506Z",
     "iopub.status.idle": "2023-01-01T13:56:13.337998Z",
     "shell.execute_reply": "2023-01-01T13:56:13.336800Z"
    },
    "papermill": {
     "duration": 0.855508,
     "end_time": "2023-01-01T13:56:13.340456",
     "exception": false,
     "start_time": "2023-01-01T13:56:12.484948",
     "status": "completed"
    },
    "tags": []
   },
   "outputs": [
    {
     "name": "stdout",
     "output_type": "stream",
     "text": [
      "Using Kaggle's public dataset BigQuery integration.\n"
     ]
    },
    {
     "name": "stderr",
     "output_type": "stream",
     "text": [
      "/opt/conda/lib/python3.7/site-packages/ipykernel_launcher.py:19: UserWarning: Cannot use bqstorage_client if max_results is set, reverting to fetching data with the tabledata.list endpoint.\n"
     ]
    },
    {
     "data": {
      "text/html": [
       "<div>\n",
       "<style scoped>\n",
       "    .dataframe tbody tr th:only-of-type {\n",
       "        vertical-align: middle;\n",
       "    }\n",
       "\n",
       "    .dataframe tbody tr th {\n",
       "        vertical-align: top;\n",
       "    }\n",
       "\n",
       "    .dataframe thead th {\n",
       "        text-align: right;\n",
       "    }\n",
       "</style>\n",
       "<table border=\"1\" class=\"dataframe\">\n",
       "  <thead>\n",
       "    <tr style=\"text-align: right;\">\n",
       "      <th></th>\n",
       "      <th>location</th>\n",
       "      <th>city</th>\n",
       "      <th>country</th>\n",
       "      <th>pollutant</th>\n",
       "      <th>value</th>\n",
       "      <th>timestamp</th>\n",
       "      <th>unit</th>\n",
       "      <th>source_name</th>\n",
       "      <th>latitude</th>\n",
       "      <th>longitude</th>\n",
       "      <th>averaged_over_in_hours</th>\n",
       "      <th>location_geom</th>\n",
       "    </tr>\n",
       "  </thead>\n",
       "  <tbody>\n",
       "    <tr>\n",
       "      <th>0</th>\n",
       "      <td>Borówiec, ul. Drapałka</td>\n",
       "      <td>Borówiec</td>\n",
       "      <td>PL</td>\n",
       "      <td>bc</td>\n",
       "      <td>0.85217</td>\n",
       "      <td>2022-04-28 07:00:00+00:00</td>\n",
       "      <td>µg/m³</td>\n",
       "      <td>GIOS</td>\n",
       "      <td>1.0</td>\n",
       "      <td>52.276794</td>\n",
       "      <td>17.074114</td>\n",
       "      <td>POINT(52.276794 1)</td>\n",
       "    </tr>\n",
       "    <tr>\n",
       "      <th>1</th>\n",
       "      <td>Kraków, ul. Bulwarowa</td>\n",
       "      <td>Kraków</td>\n",
       "      <td>PL</td>\n",
       "      <td>bc</td>\n",
       "      <td>0.91284</td>\n",
       "      <td>2022-04-27 23:00:00+00:00</td>\n",
       "      <td>µg/m³</td>\n",
       "      <td>GIOS</td>\n",
       "      <td>1.0</td>\n",
       "      <td>50.069308</td>\n",
       "      <td>20.053492</td>\n",
       "      <td>POINT(50.069308 1)</td>\n",
       "    </tr>\n",
       "    <tr>\n",
       "      <th>2</th>\n",
       "      <td>Płock, ul. Reja</td>\n",
       "      <td>Płock</td>\n",
       "      <td>PL</td>\n",
       "      <td>bc</td>\n",
       "      <td>1.41000</td>\n",
       "      <td>2022-03-30 04:00:00+00:00</td>\n",
       "      <td>µg/m³</td>\n",
       "      <td>GIOS</td>\n",
       "      <td>1.0</td>\n",
       "      <td>52.550938</td>\n",
       "      <td>19.709791</td>\n",
       "      <td>POINT(52.550938 1)</td>\n",
       "    </tr>\n",
       "    <tr>\n",
       "      <th>3</th>\n",
       "      <td>Elbląg, ul. Bażyńskiego</td>\n",
       "      <td>Elbląg</td>\n",
       "      <td>PL</td>\n",
       "      <td>bc</td>\n",
       "      <td>0.33607</td>\n",
       "      <td>2022-05-03 13:00:00+00:00</td>\n",
       "      <td>µg/m³</td>\n",
       "      <td>GIOS</td>\n",
       "      <td>1.0</td>\n",
       "      <td>54.167847</td>\n",
       "      <td>19.410942</td>\n",
       "      <td>POINT(54.167847 1)</td>\n",
       "    </tr>\n",
       "    <tr>\n",
       "      <th>4</th>\n",
       "      <td>Piastów, ul. Pułaskiego</td>\n",
       "      <td>Piastów</td>\n",
       "      <td>PL</td>\n",
       "      <td>bc</td>\n",
       "      <td>0.51000</td>\n",
       "      <td>2022-05-11 05:00:00+00:00</td>\n",
       "      <td>µg/m³</td>\n",
       "      <td>GIOS</td>\n",
       "      <td>1.0</td>\n",
       "      <td>52.191728</td>\n",
       "      <td>20.837489</td>\n",
       "      <td>POINT(52.191728 1)</td>\n",
       "    </tr>\n",
       "  </tbody>\n",
       "</table>\n",
       "</div>"
      ],
      "text/plain": [
       "                  location      city country pollutant    value  \\\n",
       "0   Borówiec, ul. Drapałka  Borówiec      PL        bc  0.85217   \n",
       "1    Kraków, ul. Bulwarowa    Kraków      PL        bc  0.91284   \n",
       "2          Płock, ul. Reja     Płock      PL        bc  1.41000   \n",
       "3  Elbląg, ul. Bażyńskiego    Elbląg      PL        bc  0.33607   \n",
       "4  Piastów, ul. Pułaskiego   Piastów      PL        bc  0.51000   \n",
       "\n",
       "                  timestamp   unit source_name  latitude  longitude  \\\n",
       "0 2022-04-28 07:00:00+00:00  µg/m³        GIOS       1.0  52.276794   \n",
       "1 2022-04-27 23:00:00+00:00  µg/m³        GIOS       1.0  50.069308   \n",
       "2 2022-03-30 04:00:00+00:00  µg/m³        GIOS       1.0  52.550938   \n",
       "3 2022-05-03 13:00:00+00:00  µg/m³        GIOS       1.0  54.167847   \n",
       "4 2022-05-11 05:00:00+00:00  µg/m³        GIOS       1.0  52.191728   \n",
       "\n",
       "   averaged_over_in_hours       location_geom  \n",
       "0               17.074114  POINT(52.276794 1)  \n",
       "1               20.053492  POINT(50.069308 1)  \n",
       "2               19.709791  POINT(52.550938 1)  \n",
       "3               19.410942  POINT(54.167847 1)  \n",
       "4               20.837489  POINT(52.191728 1)  "
      ]
     },
     "execution_count": 2,
     "metadata": {},
     "output_type": "execute_result"
    }
   ],
   "source": [
    "from google.cloud import bigquery\n",
    "\n",
    "# Create a \"Client\" object\n",
    "client = bigquery.Client()\n",
    "\n",
    "# Construct a reference to the \"openaq\" dataset\n",
    "dataset_ref = client.dataset(\"openaq\", project=\"bigquery-public-data\")\n",
    "\n",
    "# API request - fetch the dataset\n",
    "dataset = client.get_dataset(dataset_ref)\n",
    "\n",
    "# Construct a reference to the \"global_air_quality\" table\n",
    "table_ref = dataset_ref.table(\"global_air_quality\")\n",
    "\n",
    "# API request - fetch the table\n",
    "table = client.get_table(table_ref)\n",
    "\n",
    "# Preview the first five lines of the \"global_air_quality\" table\n",
    "client.list_rows(table, max_results=5).to_dataframe()"
   ]
  },
  {
   "cell_type": "markdown",
   "id": "2241aff9",
   "metadata": {
    "papermill": {
     "duration": 0.004333,
     "end_time": "2023-01-01T13:56:13.349670",
     "exception": false,
     "start_time": "2023-01-01T13:56:13.345337",
     "status": "completed"
    },
    "tags": []
   },
   "source": [
    "# Exercises\n",
    "\n",
    "### 1) Units of measurement\n",
    "\n",
    "Which countries have reported pollution levels in units of \"ppm\"?  In the code cell below, set `first_query` to an SQL query that pulls the appropriate entries from the `country` column.\n",
    "\n",
    "In case it's useful to see an example query, here's some code from the tutorial:\n",
    "\n",
    "```\n",
    "query = \"\"\"\n",
    "        SELECT city\n",
    "        FROM `bigquery-public-data.openaq.global_air_quality`\n",
    "        WHERE country = 'US'\n",
    "        \"\"\"\n",
    "```"
   ]
  },
  {
   "cell_type": "code",
   "execution_count": 3,
   "id": "3cc5461f",
   "metadata": {
    "execution": {
     "iopub.execute_input": "2023-01-01T13:56:13.360682Z",
     "iopub.status.busy": "2023-01-01T13:56:13.360274Z",
     "iopub.status.idle": "2023-01-01T13:56:27.473416Z",
     "shell.execute_reply": "2023-01-01T13:56:27.472050Z"
    },
    "papermill": {
     "duration": 14.121716,
     "end_time": "2023-01-01T13:56:27.475944",
     "exception": false,
     "start_time": "2023-01-01T13:56:13.354228",
     "status": "completed"
    },
    "tags": []
   },
   "outputs": [
    {
     "name": "stderr",
     "output_type": "stream",
     "text": [
      "/opt/conda/lib/python3.7/site-packages/google/cloud/bigquery/client.py:440: UserWarning: Cannot create BigQuery Storage client, the dependency google-cloud-bigquery-storage is not installed.\n",
      "  \"Cannot create BigQuery Storage client, the dependency \"\n"
     ]
    },
    {
     "name": "stdout",
     "output_type": "stream",
     "text": [
      "  country\n",
      "0      AR\n",
      "1      IL\n",
      "2      IL\n",
      "3      AR\n",
      "4      AR\n",
      "You got the right countries. Nice job! Some countries showed up many times in the results. To get each country only once you can run `SELECT DISTINCT country ...`. The DISTINCT keyword ensures each column shows up once, which you'll want in some cases.\n"
     ]
    },
    {
     "data": {
      "application/javascript": [
       "parent.postMessage({\"jupyterEvent\": \"custom.exercise_interaction\", \"data\": {\"outcomeType\": 1, \"valueTowardsCompletion\": 0.5, \"interactionType\": 1, \"questionType\": 2, \"questionId\": \"1_WhichCountries\", \"learnToolsVersion\": \"0.3.4\", \"failureMessage\": \"\", \"exceptionClass\": \"\", \"trace\": \"\"}}, \"*\")"
      ],
      "text/plain": [
       "<IPython.core.display.Javascript object>"
      ]
     },
     "metadata": {},
     "output_type": "display_data"
    },
    {
     "data": {
      "text/markdown": [
       "<span style=\"color:#33cc33\">Correct</span>"
      ],
      "text/plain": [
       "Correct"
      ]
     },
     "metadata": {},
     "output_type": "display_data"
    }
   ],
   "source": [
    "# Query to select countries with units of \"ppm\"\n",
    "first_query = \"\"\"\n",
    "     SELECT country\n",
    "     FROM `bigquery-public-data.openaq.global_air_quality`\n",
    "     WHERE unit = \"ppm\"\n",
    "\"\"\" # Your code goes here\n",
    "\n",
    "# Set up the query (cancel the query if it would use too much of \n",
    "# your quota, with the limit set to 10 GB)\n",
    "safe_config = bigquery.QueryJobConfig(maximum_bytes_billed=10**10)\n",
    "first_query_job = client.query(first_query, job_config=safe_config)\n",
    "\n",
    "# API request - run the query, and return a pandas DataFrame\n",
    "first_results = first_query_job.to_dataframe()\n",
    "\n",
    "# View top few rows of results\n",
    "print(first_results.head())\n",
    "\n",
    "# Check your answer\n",
    "q_1.check()"
   ]
  },
  {
   "cell_type": "markdown",
   "id": "4ae68b88",
   "metadata": {
    "papermill": {
     "duration": 0.004919,
     "end_time": "2023-01-01T13:56:27.486128",
     "exception": false,
     "start_time": "2023-01-01T13:56:27.481209",
     "status": "completed"
    },
    "tags": []
   },
   "source": [
    "For the solution, uncomment the line below."
   ]
  },
  {
   "cell_type": "code",
   "execution_count": 4,
   "id": "ef4f1efb",
   "metadata": {
    "execution": {
     "iopub.execute_input": "2023-01-01T13:56:27.498986Z",
     "iopub.status.busy": "2023-01-01T13:56:27.497846Z",
     "iopub.status.idle": "2023-01-01T13:56:27.508627Z",
     "shell.execute_reply": "2023-01-01T13:56:27.507305Z"
    },
    "papermill": {
     "duration": 0.020003,
     "end_time": "2023-01-01T13:56:27.511266",
     "exception": false,
     "start_time": "2023-01-01T13:56:27.491263",
     "status": "completed"
    },
    "tags": []
   },
   "outputs": [
    {
     "data": {
      "application/javascript": [
       "parent.postMessage({\"jupyterEvent\": \"custom.exercise_interaction\", \"data\": {\"interactionType\": 3, \"questionType\": 2, \"questionId\": \"1_WhichCountries\", \"learnToolsVersion\": \"0.3.4\", \"valueTowardsCompletion\": 0.0, \"failureMessage\": \"\", \"exceptionClass\": \"\", \"trace\": \"\", \"outcomeType\": 4}}, \"*\")"
      ],
      "text/plain": [
       "<IPython.core.display.Javascript object>"
      ]
     },
     "metadata": {},
     "output_type": "display_data"
    },
    {
     "data": {
      "text/markdown": [
       "<span style=\"color:#33cc99\">Solution:</span> \n",
       "```python\n",
       "\n",
       "first_query = \"\"\"\n",
       "              SELECT country\n",
       "              FROM `bigquery-public-data.openaq.global_air_quality`\n",
       "              WHERE unit = \"ppm\"\n",
       "              \"\"\"\n",
       "\n",
       "# Or to get each country just once, you could use\n",
       "first_query = \"\"\"\n",
       "              SELECT DISTINCT country\n",
       "              FROM `bigquery-public-data.openaq.global_air_quality`\n",
       "              WHERE unit = \"ppm\"\n",
       "              \"\"\"\n",
       "\n",
       "```"
      ],
      "text/plain": [
       "Solution: \n",
       "```python\n",
       "\n",
       "first_query = \"\"\"\n",
       "              SELECT country\n",
       "              FROM `bigquery-public-data.openaq.global_air_quality`\n",
       "              WHERE unit = \"ppm\"\n",
       "              \"\"\"\n",
       "\n",
       "# Or to get each country just once, you could use\n",
       "first_query = \"\"\"\n",
       "              SELECT DISTINCT country\n",
       "              FROM `bigquery-public-data.openaq.global_air_quality`\n",
       "              WHERE unit = \"ppm\"\n",
       "              \"\"\"\n",
       "\n",
       "```"
      ]
     },
     "metadata": {},
     "output_type": "display_data"
    }
   ],
   "source": [
    "q_1.solution()"
   ]
  },
  {
   "cell_type": "markdown",
   "id": "d3b18920",
   "metadata": {
    "papermill": {
     "duration": 0.005405,
     "end_time": "2023-01-01T13:56:27.522428",
     "exception": false,
     "start_time": "2023-01-01T13:56:27.517023",
     "status": "completed"
    },
    "tags": []
   },
   "source": [
    "### 2) High air quality\n",
    "\n",
    "Which pollution levels were reported to be exactly 0?  \n",
    "- Set `zero_pollution_query` to select **all columns** of the rows where the `value` column is 0.\n",
    "- Set `zero_pollution_results` to a pandas DataFrame containing the query results."
   ]
  },
  {
   "cell_type": "code",
   "execution_count": 5,
   "id": "2f329fcd",
   "metadata": {
    "execution": {
     "iopub.execute_input": "2023-01-01T13:56:27.536015Z",
     "iopub.status.busy": "2023-01-01T13:56:27.535117Z",
     "iopub.status.idle": "2023-01-01T13:56:47.110758Z",
     "shell.execute_reply": "2023-01-01T13:56:47.109275Z"
    },
    "papermill": {
     "duration": 19.585257,
     "end_time": "2023-01-01T13:56:47.113394",
     "exception": false,
     "start_time": "2023-01-01T13:56:27.528137",
     "status": "completed"
    },
    "tags": []
   },
   "outputs": [
    {
     "name": "stderr",
     "output_type": "stream",
     "text": [
      "/opt/conda/lib/python3.7/site-packages/google/cloud/bigquery/client.py:440: UserWarning: Cannot create BigQuery Storage client, the dependency google-cloud-bigquery-storage is not installed.\n",
      "  \"Cannot create BigQuery Storage client, the dependency \"\n"
     ]
    },
    {
     "name": "stdout",
     "output_type": "stream",
     "text": [
      "                       location          city country pollutant  value  \\\n",
      "0    Żary, ul. Szymanowskiego 8          Żary      PL        bc    0.0   \n",
      "1       Starachowice, ul. Złota  Starachowice      PL        bc    0.0   \n",
      "2    Żary, ul. Szymanowskiego 8          Żary      PL        bc    0.0   \n",
      "3  Koszalin, ul. Armii Krajowej      Koszalin      PL        bc    0.0   \n",
      "4       Starachowice, ul. Złota  Starachowice      PL        bc    0.0   \n",
      "\n",
      "                  timestamp   unit source_name  latitude  longitude  \\\n",
      "0 2022-05-18 15:00:00+00:00  µg/m³        GIOS       1.0  51.642656   \n",
      "1 2022-05-07 11:00:00+00:00  µg/m³        GIOS       1.0  51.050611   \n",
      "2 2022-05-04 16:00:00+00:00  µg/m³        GIOS       1.0  51.642656   \n",
      "3 2022-05-17 14:00:00+00:00  µg/m³        GIOS       1.0  54.193986   \n",
      "4 2022-05-15 14:00:00+00:00  µg/m³        GIOS       1.0  51.050611   \n",
      "\n",
      "   averaged_over_in_hours       location_geom  \n",
      "0               15.127808  POINT(51.642656 1)  \n",
      "1               21.084175  POINT(51.050611 1)  \n",
      "2               15.127808  POINT(51.642656 1)  \n",
      "3               16.172544  POINT(54.193986 1)  \n",
      "4               21.084175  POINT(51.050611 1)  \n"
     ]
    },
    {
     "data": {
      "application/javascript": [
       "parent.postMessage({\"jupyterEvent\": \"custom.exercise_interaction\", \"data\": {\"outcomeType\": 1, \"valueTowardsCompletion\": 0.5, \"interactionType\": 1, \"questionType\": 2, \"questionId\": \"2_ZeroPollution\", \"learnToolsVersion\": \"0.3.4\", \"failureMessage\": \"\", \"exceptionClass\": \"\", \"trace\": \"\"}}, \"*\")"
      ],
      "text/plain": [
       "<IPython.core.display.Javascript object>"
      ]
     },
     "metadata": {},
     "output_type": "display_data"
    },
    {
     "data": {
      "text/markdown": [
       "<span style=\"color:#33cc33\">Correct</span>"
      ],
      "text/plain": [
       "Correct"
      ]
     },
     "metadata": {},
     "output_type": "display_data"
    }
   ],
   "source": [
    "# Query to select all columns where pollution levels are exactly 0\n",
    "zero_pollution_query = \"\"\"\n",
    "    SELECT *\n",
    "    FROM `bigquery-public-data.openaq.global_air_quality`\n",
    "    WHERE value=0\n",
    "\"\"\"# Your code goes here\n",
    "\n",
    "# Set up the query\n",
    "safe_config = bigquery.QueryJobConfig(maximum_bytes_billed=10**10)\n",
    "query_job = client.query(zero_pollution_query, job_config=safe_config)\n",
    "\n",
    "# API request - run the query and return a pandas DataFrame\n",
    "zero_pollution_results =query_job.to_dataframe()# Your code goes here\n",
    "\n",
    "print(zero_pollution_results.head())\n",
    "\n",
    "# Check your answer\n",
    "q_2.check()"
   ]
  },
  {
   "cell_type": "markdown",
   "id": "3a721c27",
   "metadata": {
    "papermill": {
     "duration": 0.006499,
     "end_time": "2023-01-01T13:56:47.126476",
     "exception": false,
     "start_time": "2023-01-01T13:56:47.119977",
     "status": "completed"
    },
    "tags": []
   },
   "source": [
    "For the solution, uncomment the line below."
   ]
  },
  {
   "cell_type": "code",
   "execution_count": 6,
   "id": "bbaaf120",
   "metadata": {
    "execution": {
     "iopub.execute_input": "2023-01-01T13:56:47.141635Z",
     "iopub.status.busy": "2023-01-01T13:56:47.141199Z",
     "iopub.status.idle": "2023-01-01T13:56:47.152810Z",
     "shell.execute_reply": "2023-01-01T13:56:47.150995Z"
    },
    "papermill": {
     "duration": 0.022039,
     "end_time": "2023-01-01T13:56:47.155423",
     "exception": false,
     "start_time": "2023-01-01T13:56:47.133384",
     "status": "completed"
    },
    "tags": []
   },
   "outputs": [
    {
     "data": {
      "application/javascript": [
       "parent.postMessage({\"jupyterEvent\": \"custom.exercise_interaction\", \"data\": {\"interactionType\": 3, \"questionType\": 2, \"questionId\": \"2_ZeroPollution\", \"learnToolsVersion\": \"0.3.4\", \"valueTowardsCompletion\": 0.0, \"failureMessage\": \"\", \"exceptionClass\": \"\", \"trace\": \"\", \"outcomeType\": 4}}, \"*\")"
      ],
      "text/plain": [
       "<IPython.core.display.Javascript object>"
      ]
     },
     "metadata": {},
     "output_type": "display_data"
    },
    {
     "data": {
      "text/markdown": [
       "<span style=\"color:#33cc99\">Solution:</span> \n",
       "```python\n",
       "\n",
       "zero_pollution_query = \"\"\"\n",
       "                       SELECT *\n",
       "                       FROM `bigquery-public-data.openaq.global_air_quality`\n",
       "                       WHERE value = 0\n",
       "                       \"\"\"\n",
       "\n",
       "safe_config = bigquery.QueryJobConfig(maximum_bytes_billed=10**10)\n",
       "query_job = client.query(zero_pollution_query, job_config=safe_config)\n",
       "\n",
       "zero_pollution_results = query_job.to_dataframe()\n",
       "\n",
       "```"
      ],
      "text/plain": [
       "Solution: \n",
       "```python\n",
       "\n",
       "zero_pollution_query = \"\"\"\n",
       "                       SELECT *\n",
       "                       FROM `bigquery-public-data.openaq.global_air_quality`\n",
       "                       WHERE value = 0\n",
       "                       \"\"\"\n",
       "\n",
       "safe_config = bigquery.QueryJobConfig(maximum_bytes_billed=10**10)\n",
       "query_job = client.query(zero_pollution_query, job_config=safe_config)\n",
       "\n",
       "zero_pollution_results = query_job.to_dataframe()\n",
       "\n",
       "```"
      ]
     },
     "metadata": {},
     "output_type": "display_data"
    }
   ],
   "source": [
    "q_2.solution()"
   ]
  },
  {
   "cell_type": "markdown",
   "id": "437b138f",
   "metadata": {
    "papermill": {
     "duration": 0.005975,
     "end_time": "2023-01-01T13:56:47.168956",
     "exception": false,
     "start_time": "2023-01-01T13:56:47.162981",
     "status": "completed"
    },
    "tags": []
   },
   "source": [
    "That query wasn't too complicated, and it got the data you want. But these **SELECT** queries don't organizing data in a way that answers the most interesting questions. For that, we'll need the **GROUP BY** command. \n",
    "\n",
    "If you know how to use [`groupby()`](https://pandas.pydata.org/pandas-docs/stable/reference/api/pandas.DataFrame.groupby.html) in pandas, this is similar. But BigQuery works quickly with far larger datasets.\n",
    "\n",
    "Fortunately, that's next."
   ]
  },
  {
   "cell_type": "markdown",
   "id": "ae5800a6",
   "metadata": {
    "papermill": {
     "duration": 0.006222,
     "end_time": "2023-01-01T13:56:47.181209",
     "exception": false,
     "start_time": "2023-01-01T13:56:47.174987",
     "status": "completed"
    },
    "tags": []
   },
   "source": [
    "# Keep going\n",
    "**[GROUP BY](https://www.kaggle.com/dansbecker/group-by-having-count)** clauses and their extensions give you the power to pull interesting statistics out of data, rather than receiving it in just its raw format."
   ]
  },
  {
   "cell_type": "markdown",
   "id": "c30bd76f",
   "metadata": {
    "papermill": {
     "duration": 0.005717,
     "end_time": "2023-01-01T13:56:47.193575",
     "exception": false,
     "start_time": "2023-01-01T13:56:47.187858",
     "status": "completed"
    },
    "tags": []
   },
   "source": [
    "---\n",
    "\n",
    "\n",
    "\n",
    "\n",
    "*Have questions or comments? Visit the [course discussion forum](https://www.kaggle.com/learn/intro-to-sql/discussion) to chat with other learners.*"
   ]
  }
 ],
 "metadata": {
  "kernelspec": {
   "display_name": "Python 3",
   "language": "python",
   "name": "python3"
  },
  "language_info": {
   "codemirror_mode": {
    "name": "ipython",
    "version": 3
   },
   "file_extension": ".py",
   "mimetype": "text/x-python",
   "name": "python",
   "nbconvert_exporter": "python",
   "pygments_lexer": "ipython3",
   "version": "3.7.12"
  },
  "papermill": {
   "default_parameters": {},
   "duration": 78.538238,
   "end_time": "2023-01-01T13:56:47.922223",
   "environment_variables": {},
   "exception": null,
   "input_path": "__notebook__.ipynb",
   "output_path": "__notebook__.ipynb",
   "parameters": {},
   "start_time": "2023-01-01T13:55:29.383985",
   "version": "2.3.4"
  }
 },
 "nbformat": 4,
 "nbformat_minor": 5
}
