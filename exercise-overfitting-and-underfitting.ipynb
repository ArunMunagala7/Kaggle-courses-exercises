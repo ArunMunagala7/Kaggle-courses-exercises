{
 "cells": [
  {
   "cell_type": "markdown",
   "id": "2addd90d",
   "metadata": {
    "papermill": {
     "duration": 0.005389,
     "end_time": "2022-12-31T07:08:41.716442",
     "exception": false,
     "start_time": "2022-12-31T07:08:41.711053",
     "status": "completed"
    },
    "tags": []
   },
   "source": [
    "**This notebook is an exercise in the [Intro to Deep Learning](https://www.kaggle.com/learn/intro-to-deep-learning) course.  You can reference the tutorial at [this link](https://www.kaggle.com/ryanholbrook/overfitting-and-underfitting).**\n",
    "\n",
    "---\n"
   ]
  },
  {
   "cell_type": "markdown",
   "id": "ccb187b4",
   "metadata": {
    "papermill": {
     "duration": 0.004036,
     "end_time": "2022-12-31T07:08:41.724966",
     "exception": false,
     "start_time": "2022-12-31T07:08:41.720930",
     "status": "completed"
    },
    "tags": []
   },
   "source": [
    "# Introduction #\n",
    "\n",
    "In this exercise, you’ll learn how to improve training outcomes by including an early stopping callback to prevent overfitting.\n",
    "\n",
    "When you're ready, run this next cell to set everything up!"
   ]
  },
  {
   "cell_type": "code",
   "execution_count": 1,
   "id": "cbaca4ca",
   "metadata": {
    "execution": {
     "iopub.execute_input": "2022-12-31T07:08:41.736030Z",
     "iopub.status.busy": "2022-12-31T07:08:41.735214Z",
     "iopub.status.idle": "2022-12-31T07:08:41.768263Z",
     "shell.execute_reply": "2022-12-31T07:08:41.767414Z"
    },
    "papermill": {
     "duration": 0.041009,
     "end_time": "2022-12-31T07:08:41.770304",
     "exception": false,
     "start_time": "2022-12-31T07:08:41.729295",
     "status": "completed"
    },
    "tags": []
   },
   "outputs": [],
   "source": [
    "# Setup plotting\n",
    "import matplotlib.pyplot as plt\n",
    "plt.style.use('seaborn-whitegrid')\n",
    "# Set Matplotlib defaults\n",
    "plt.rc('figure', autolayout=True)\n",
    "plt.rc('axes', labelweight='bold', labelsize='large',\n",
    "       titleweight='bold', titlesize=18, titlepad=10)\n",
    "plt.rc('animation', html='html5')\n",
    "\n",
    "# Setup feedback system\n",
    "from learntools.core import binder\n",
    "binder.bind(globals())\n",
    "from learntools.deep_learning_intro.ex4 import *"
   ]
  },
  {
   "cell_type": "markdown",
   "id": "caee69bb",
   "metadata": {
    "papermill": {
     "duration": 0.00456,
     "end_time": "2022-12-31T07:08:41.779177",
     "exception": false,
     "start_time": "2022-12-31T07:08:41.774617",
     "status": "completed"
    },
    "tags": []
   },
   "source": [
    "First load the *Spotify* dataset. Your task will be to predict the popularity of a song based on various audio features, like `'tempo'`, `'danceability'`, and `'mode'`."
   ]
  },
  {
   "cell_type": "code",
   "execution_count": 2,
   "id": "ea067159",
   "metadata": {
    "execution": {
     "iopub.execute_input": "2022-12-31T07:08:41.789390Z",
     "iopub.status.busy": "2022-12-31T07:08:41.788647Z",
     "iopub.status.idle": "2022-12-31T07:08:48.222855Z",
     "shell.execute_reply": "2022-12-31T07:08:48.220193Z"
    },
    "papermill": {
     "duration": 6.441475,
     "end_time": "2022-12-31T07:08:48.224990",
     "exception": false,
     "start_time": "2022-12-31T07:08:41.783515",
     "status": "completed"
    },
    "tags": []
   },
   "outputs": [
    {
     "name": "stdout",
     "output_type": "stream",
     "text": [
      "Input shape: [18]\n"
     ]
    }
   ],
   "source": [
    "import pandas as pd\n",
    "from sklearn.preprocessing import StandardScaler, OneHotEncoder\n",
    "from sklearn.compose import make_column_transformer\n",
    "from sklearn.model_selection import GroupShuffleSplit\n",
    "\n",
    "from tensorflow import keras\n",
    "from tensorflow.keras import layers\n",
    "from tensorflow.keras import callbacks\n",
    "\n",
    "spotify = pd.read_csv('../input/dl-course-data/spotify.csv')\n",
    "\n",
    "X = spotify.copy().dropna()\n",
    "y = X.pop('track_popularity')\n",
    "artists = X['track_artist']\n",
    "\n",
    "features_num = ['danceability', 'energy', 'key', 'loudness', 'mode',\n",
    "                'speechiness', 'acousticness', 'instrumentalness',\n",
    "                'liveness', 'valence', 'tempo', 'duration_ms']\n",
    "features_cat = ['playlist_genre']\n",
    "\n",
    "preprocessor = make_column_transformer(\n",
    "    (StandardScaler(), features_num),\n",
    "    (OneHotEncoder(), features_cat),\n",
    ")\n",
    "\n",
    "# We'll do a \"grouped\" split to keep all of an artist's songs in one\n",
    "# split or the other. This is to help prevent signal leakage.\n",
    "def group_split(X, y, group, train_size=0.75):\n",
    "    splitter = GroupShuffleSplit(train_size=train_size)\n",
    "    train, test = next(splitter.split(X, y, groups=group))\n",
    "    return (X.iloc[train], X.iloc[test], y.iloc[train], y.iloc[test])\n",
    "\n",
    "X_train, X_valid, y_train, y_valid = group_split(X, y, artists)\n",
    "\n",
    "X_train = preprocessor.fit_transform(X_train)\n",
    "X_valid = preprocessor.transform(X_valid)\n",
    "y_train = y_train / 100 # popularity is on a scale 0-100, so this rescales to 0-1.\n",
    "y_valid = y_valid / 100\n",
    "\n",
    "input_shape = [X_train.shape[1]]\n",
    "print(\"Input shape: {}\".format(input_shape))"
   ]
  },
  {
   "cell_type": "markdown",
   "id": "1744ffc0",
   "metadata": {
    "papermill": {
     "duration": 0.004404,
     "end_time": "2022-12-31T07:08:48.234156",
     "exception": false,
     "start_time": "2022-12-31T07:08:48.229752",
     "status": "completed"
    },
    "tags": []
   },
   "source": [
    "Let's start with the simplest network, a linear model. This model has low capacity.\n",
    "\n",
    "Run this next cell without any changes to train a linear model on the *Spotify* dataset."
   ]
  },
  {
   "cell_type": "code",
   "execution_count": 3,
   "id": "9b1f1a08",
   "metadata": {
    "execution": {
     "iopub.execute_input": "2022-12-31T07:08:48.244982Z",
     "iopub.status.busy": "2022-12-31T07:08:48.244314Z",
     "iopub.status.idle": "2022-12-31T07:09:02.081451Z",
     "shell.execute_reply": "2022-12-31T07:09:02.080546Z"
    },
    "lines_to_next_cell": 0,
    "papermill": {
     "duration": 13.844601,
     "end_time": "2022-12-31T07:09:02.083416",
     "exception": false,
     "start_time": "2022-12-31T07:08:48.238815",
     "status": "completed"
    },
    "tags": []
   },
   "outputs": [
    {
     "name": "stderr",
     "output_type": "stream",
     "text": [
      "2022-12-31 07:08:48.341560: I tensorflow/stream_executor/cuda/cuda_gpu_executor.cc:937] successful NUMA node read from SysFS had negative value (-1), but there must be at least one NUMA node, so returning NUMA node zero\n",
      "2022-12-31 07:08:48.438741: I tensorflow/stream_executor/cuda/cuda_gpu_executor.cc:937] successful NUMA node read from SysFS had negative value (-1), but there must be at least one NUMA node, so returning NUMA node zero\n",
      "2022-12-31 07:08:48.439592: I tensorflow/stream_executor/cuda/cuda_gpu_executor.cc:937] successful NUMA node read from SysFS had negative value (-1), but there must be at least one NUMA node, so returning NUMA node zero\n",
      "2022-12-31 07:08:48.440917: I tensorflow/core/platform/cpu_feature_guard.cc:142] This TensorFlow binary is optimized with oneAPI Deep Neural Network Library (oneDNN) to use the following CPU instructions in performance-critical operations:  AVX2 AVX512F FMA\n",
      "To enable them in other operations, rebuild TensorFlow with the appropriate compiler flags.\n",
      "2022-12-31 07:08:48.441223: I tensorflow/stream_executor/cuda/cuda_gpu_executor.cc:937] successful NUMA node read from SysFS had negative value (-1), but there must be at least one NUMA node, so returning NUMA node zero\n",
      "2022-12-31 07:08:48.441952: I tensorflow/stream_executor/cuda/cuda_gpu_executor.cc:937] successful NUMA node read from SysFS had negative value (-1), but there must be at least one NUMA node, so returning NUMA node zero\n",
      "2022-12-31 07:08:48.442620: I tensorflow/stream_executor/cuda/cuda_gpu_executor.cc:937] successful NUMA node read from SysFS had negative value (-1), but there must be at least one NUMA node, so returning NUMA node zero\n",
      "2022-12-31 07:08:50.744942: I tensorflow/stream_executor/cuda/cuda_gpu_executor.cc:937] successful NUMA node read from SysFS had negative value (-1), but there must be at least one NUMA node, so returning NUMA node zero\n",
      "2022-12-31 07:08:50.745821: I tensorflow/stream_executor/cuda/cuda_gpu_executor.cc:937] successful NUMA node read from SysFS had negative value (-1), but there must be at least one NUMA node, so returning NUMA node zero\n",
      "2022-12-31 07:08:50.746461: I tensorflow/stream_executor/cuda/cuda_gpu_executor.cc:937] successful NUMA node read from SysFS had negative value (-1), but there must be at least one NUMA node, so returning NUMA node zero\n",
      "2022-12-31 07:08:50.747068: I tensorflow/core/common_runtime/gpu/gpu_device.cc:1510] Created device /job:localhost/replica:0/task:0/device:GPU:0 with 15401 MB memory:  -> device: 0, name: Tesla P100-PCIE-16GB, pci bus id: 0000:00:04.0, compute capability: 6.0\n",
      "2022-12-31 07:08:51.206191: I tensorflow/compiler/mlir/mlir_graph_optimization_pass.cc:185] None of the MLIR Optimization Passes are enabled (registered 2)\n"
     ]
    },
    {
     "name": "stdout",
     "output_type": "stream",
     "text": [
      "Minimum Validation Loss: 0.1973\n"
     ]
    },
    {
     "data": {
      "image/png": "[encoded data removed]",
      "text/plain": [
       "<Figure size 432x288 with 1 Axes>"
      ]
     },
     "metadata": {},
     "output_type": "display_data"
    }
   ],
   "source": [
    "model = keras.Sequential([\n",
    "    layers.Dense(1, input_shape=input_shape),\n",
    "])\n",
    "model.compile(\n",
    "    optimizer='adam',\n",
    "    loss='mae',\n",
    ")\n",
    "history = model.fit(\n",
    "    X_train, y_train,\n",
    "    validation_data=(X_valid, y_valid),\n",
    "    batch_size=512,\n",
    "    epochs=50,\n",
    "    verbose=0, # suppress output since we'll plot the curves\n",
    ")\n",
    "history_df = pd.DataFrame(history.history)\n",
    "history_df.loc[0:, ['loss', 'val_loss']].plot()\n",
    "print(\"Minimum Validation Loss: {:0.4f}\".format(history_df['val_loss'].min()));"
   ]
  },
  {
   "cell_type": "markdown",
   "id": "0163978d",
   "metadata": {
    "papermill": {
     "duration": 0.004723,
     "end_time": "2022-12-31T07:09:02.093280",
     "exception": false,
     "start_time": "2022-12-31T07:09:02.088557",
     "status": "completed"
    },
    "tags": []
   },
   "source": [
    "It's not uncommon for the curves to follow a \"hockey stick\" pattern like you see here. This makes the final part of training hard to see, so let's start at epoch 10 instead:"
   ]
  },
  {
   "cell_type": "code",
   "execution_count": 4,
   "id": "863edab8",
   "metadata": {
    "execution": {
     "iopub.execute_input": "2022-12-31T07:09:02.104429Z",
     "iopub.status.busy": "2022-12-31T07:09:02.104152Z",
     "iopub.status.idle": "2022-12-31T07:09:02.419208Z",
     "shell.execute_reply": "2022-12-31T07:09:02.418349Z"
    },
    "papermill": {
     "duration": 0.322865,
     "end_time": "2022-12-31T07:09:02.421302",
     "exception": false,
     "start_time": "2022-12-31T07:09:02.098437",
     "status": "completed"
    },
    "tags": []
   },
   "outputs": [
    {
     "name": "stdout",
     "output_type": "stream",
     "text": [
      "Minimum Validation Loss: 0.1973\n"
     ]
    },
    {
     "data": {
      "image/png": "[encoded data removed]",
      "text/plain": [
       "<Figure size 432x288 with 1 Axes>"
      ]
     },
     "metadata": {},
     "output_type": "display_data"
    }
   ],
   "source": [
    "# Start the plot at epoch 10\n",
    "history_df.loc[10:, ['loss', 'val_loss']].plot()\n",
    "print(\"Minimum Validation Loss: {:0.4f}\".format(history_df['val_loss'].min()));"
   ]
  },
  {
   "cell_type": "markdown",
   "id": "8cfccbe7",
   "metadata": {
    "papermill": {
     "duration": 0.005339,
     "end_time": "2022-12-31T07:09:02.432377",
     "exception": false,
     "start_time": "2022-12-31T07:09:02.427038",
     "status": "completed"
    },
    "tags": []
   },
   "source": [
    "# 1) Evaluate Baseline\n",
    "\n",
    "What do you think? Would you say this model is underfitting, overfitting, just right?"
   ]
  },
  {
   "cell_type": "code",
   "execution_count": 5,
   "id": "ee9bbbfd",
   "metadata": {
    "execution": {
     "iopub.execute_input": "2022-12-31T07:09:02.444203Z",
     "iopub.status.busy": "2022-12-31T07:09:02.443907Z",
     "iopub.status.idle": "2022-12-31T07:09:02.452584Z",
     "shell.execute_reply": "2022-12-31T07:09:02.451642Z"
    },
    "papermill": {
     "duration": 0.016701,
     "end_time": "2022-12-31T07:09:02.454560",
     "exception": false,
     "start_time": "2022-12-31T07:09:02.437859",
     "status": "completed"
    },
    "tags": []
   },
   "outputs": [
    {
     "data": {
      "application/javascript": [
       "parent.postMessage({\"jupyterEvent\": \"custom.exercise_interaction\", \"data\": {\"outcomeType\": 1, \"valueTowardsCompletion\": 0.25, \"interactionType\": 1, \"questionType\": 4, \"questionId\": \"1_Q1\", \"learnToolsVersion\": \"0.3.4\", \"failureMessage\": \"\", \"exceptionClass\": \"\", \"trace\": \"\"}}, \"*\")"
      ],
      "text/plain": [
       "<IPython.core.display.Javascript object>"
      ]
     },
     "metadata": {},
     "output_type": "display_data"
    },
    {
     "data": {
      "text/markdown": [
       "<span style=\"color:#33cc33\">Correct:</span> \n",
       "\n",
       "The gap between these curves is quite small and the validation loss never increases, so it's more likely that the network is underfitting than overfitting. It would be worth experimenting with more capacity to see if that's the case."
      ],
      "text/plain": [
       "Correct: \n",
       "\n",
       "The gap between these curves is quite small and the validation loss never increases, so it's more likely that the network is underfitting than overfitting. It would be worth experimenting with more capacity to see if that's the case."
      ]
     },
     "metadata": {},
     "output_type": "display_data"
    }
   ],
   "source": [
    "# View the solution (Run this cell to receive credit!)\n",
    "q_1.check()"
   ]
  },
  {
   "cell_type": "markdown",
   "id": "94c97619",
   "metadata": {
    "papermill": {
     "duration": 0.005238,
     "end_time": "2022-12-31T07:09:02.466254",
     "exception": false,
     "start_time": "2022-12-31T07:09:02.461016",
     "status": "completed"
    },
    "tags": []
   },
   "source": [
    "Now let's add some capacity to our network. We'll add three hidden layers with 128 units each. Run the next cell to train the network and see the learning curves."
   ]
  },
  {
   "cell_type": "code",
   "execution_count": 6,
   "id": "9a75550e",
   "metadata": {
    "execution": {
     "iopub.execute_input": "2022-12-31T07:09:02.478437Z",
     "iopub.status.busy": "2022-12-31T07:09:02.478177Z",
     "iopub.status.idle": "2022-12-31T07:09:13.310308Z",
     "shell.execute_reply": "2022-12-31T07:09:13.309413Z"
    },
    "papermill": {
     "duration": 10.8407,
     "end_time": "2022-12-31T07:09:13.312368",
     "exception": false,
     "start_time": "2022-12-31T07:09:02.471668",
     "status": "completed"
    },
    "tags": []
   },
   "outputs": [
    {
     "name": "stdout",
     "output_type": "stream",
     "text": [
      "Epoch 1/50\n",
      "47/47 [==============================] - 1s 5ms/step - loss: 0.2243 - val_loss: 0.2058\n",
      "Epoch 2/50\n",
      "47/47 [==============================] - 0s 3ms/step - loss: 0.1989 - val_loss: 0.2007\n",
      "Epoch 3/50\n",
      "47/47 [==============================] - 0s 3ms/step - loss: 0.1956 - val_loss: 0.1998\n",
      "Epoch 4/50\n",
      "47/47 [==============================] - 0s 3ms/step - loss: 0.1929 - val_loss: 0.1976\n",
      "Epoch 5/50\n",
      "47/47 [==============================] - 0s 3ms/step - loss: 0.1913 - val_loss: 0.1999\n",
      "Epoch 6/50\n",
      "47/47 [==============================] - 0s 3ms/step - loss: 0.1897 - val_loss: 0.1977\n",
      "Epoch 7/50\n",
      "47/47 [==============================] - 0s 3ms/step - loss: 0.1880 - val_loss: 0.1981\n",
      "Epoch 8/50\n",
      "47/47 [==============================] - 0s 3ms/step - loss: 0.1873 - val_loss: 0.1970\n",
      "Epoch 9/50\n",
      "47/47 [==============================] - 0s 3ms/step - loss: 0.1858 - val_loss: 0.1984\n",
      "Epoch 10/50\n",
      "47/47 [==============================] - 0s 3ms/step - loss: 0.1849 - val_loss: 0.1970\n",
      "Epoch 11/50\n",
      "47/47 [==============================] - 0s 4ms/step - loss: 0.1846 - val_loss: 0.1975\n",
      "Epoch 12/50\n",
      "47/47 [==============================] - 0s 3ms/step - loss: 0.1838 - val_loss: 0.1968\n",
      "Epoch 13/50\n",
      "47/47 [==============================] - 0s 3ms/step - loss: 0.1826 - val_loss: 0.1976\n",
      "Epoch 14/50\n",
      "47/47 [==============================] - 0s 3ms/step - loss: 0.1822 - val_loss: 0.1982\n",
      "Epoch 15/50\n",
      "47/47 [==============================] - 0s 3ms/step - loss: 0.1813 - val_loss: 0.1969\n",
      "Epoch 16/50\n",
      "47/47 [==============================] - 0s 3ms/step - loss: 0.1807 - val_loss: 0.2012\n",
      "Epoch 17/50\n",
      "47/47 [==============================] - 0s 3ms/step - loss: 0.1806 - val_loss: 0.1975\n",
      "Epoch 18/50\n",
      "47/47 [==============================] - 0s 3ms/step - loss: 0.1795 - val_loss: 0.1978\n",
      "Epoch 19/50\n",
      "47/47 [==============================] - 0s 5ms/step - loss: 0.1790 - val_loss: 0.1997\n",
      "Epoch 20/50\n",
      "47/47 [==============================] - 0s 4ms/step - loss: 0.1786 - val_loss: 0.1974\n",
      "Epoch 21/50\n",
      "47/47 [==============================] - 0s 3ms/step - loss: 0.1783 - val_loss: 0.2018\n",
      "Epoch 22/50\n",
      "47/47 [==============================] - 0s 3ms/step - loss: 0.1775 - val_loss: 0.1987\n",
      "Epoch 23/50\n",
      "47/47 [==============================] - 0s 3ms/step - loss: 0.1763 - val_loss: 0.1979\n",
      "Epoch 24/50\n",
      "47/47 [==============================] - 0s 3ms/step - loss: 0.1765 - val_loss: 0.2002\n",
      "Epoch 25/50\n",
      "47/47 [==============================] - 0s 3ms/step - loss: 0.1755 - val_loss: 0.1994\n",
      "Epoch 26/50\n",
      "47/47 [==============================] - 0s 3ms/step - loss: 0.1753 - val_loss: 0.1996\n",
      "Epoch 27/50\n",
      "47/47 [==============================] - 0s 3ms/step - loss: 0.1746 - val_loss: 0.1989\n",
      "Epoch 28/50\n",
      "47/47 [==============================] - 0s 3ms/step - loss: 0.1742 - val_loss: 0.1997\n",
      "Epoch 29/50\n",
      "47/47 [==============================] - 0s 3ms/step - loss: 0.1749 - val_loss: 0.2035\n",
      "Epoch 30/50\n",
      "47/47 [==============================] - 0s 3ms/step - loss: 0.1735 - val_loss: 0.2014\n",
      "Epoch 31/50\n",
      "47/47 [==============================] - 0s 3ms/step - loss: 0.1742 - val_loss: 0.2004\n",
      "Epoch 32/50\n",
      "47/47 [==============================] - 0s 3ms/step - loss: 0.1729 - val_loss: 0.1997\n",
      "Epoch 33/50\n",
      "47/47 [==============================] - 0s 3ms/step - loss: 0.1723 - val_loss: 0.1995\n",
      "Epoch 34/50\n",
      "47/47 [==============================] - 0s 3ms/step - loss: 0.1711 - val_loss: 0.1998\n",
      "Epoch 35/50\n",
      "47/47 [==============================] - 0s 3ms/step - loss: 0.1713 - val_loss: 0.2002\n",
      "Epoch 36/50\n",
      "47/47 [==============================] - 0s 3ms/step - loss: 0.1718 - val_loss: 0.2015\n",
      "Epoch 37/50\n",
      "47/47 [==============================] - 0s 2ms/step - loss: 0.1718 - val_loss: 0.2027\n",
      "Epoch 38/50\n",
      "47/47 [==============================] - 0s 3ms/step - loss: 0.1713 - val_loss: 0.2010\n",
      "Epoch 39/50\n",
      "47/47 [==============================] - 0s 3ms/step - loss: 0.1703 - val_loss: 0.2035\n",
      "Epoch 40/50\n",
      "47/47 [==============================] - 0s 3ms/step - loss: 0.1695 - val_loss: 0.2024\n",
      "Epoch 41/50\n",
      "47/47 [==============================] - 0s 3ms/step - loss: 0.1691 - val_loss: 0.2018\n",
      "Epoch 42/50\n",
      "47/47 [==============================] - 0s 3ms/step - loss: 0.1679 - val_loss: 0.2023\n",
      "Epoch 43/50\n",
      "47/47 [==============================] - 0s 3ms/step - loss: 0.1681 - val_loss: 0.2015\n",
      "Epoch 44/50\n",
      "47/47 [==============================] - 0s 3ms/step - loss: 0.1672 - val_loss: 0.2024\n",
      "Epoch 45/50\n",
      "47/47 [==============================] - 0s 3ms/step - loss: 0.1666 - val_loss: 0.2036\n",
      "Epoch 46/50\n",
      "47/47 [==============================] - 0s 3ms/step - loss: 0.1662 - val_loss: 0.2027\n",
      "Epoch 47/50\n",
      "47/47 [==============================] - 0s 3ms/step - loss: 0.1664 - val_loss: 0.2041\n",
      "Epoch 48/50\n",
      "47/47 [==============================] - 0s 3ms/step - loss: 0.1655 - val_loss: 0.2032\n",
      "Epoch 49/50\n",
      "47/47 [==============================] - 0s 3ms/step - loss: 0.1653 - val_loss: 0.2030\n",
      "Epoch 50/50\n",
      "47/47 [==============================] - 0s 3ms/step - loss: 0.1657 - val_loss: 0.2041\n",
      "Minimum Validation Loss: 0.1968\n"
     ]
    },
    {
     "data": {
      "image/png": "[encoded data removed]",
      "text/plain": [
       "<Figure size 432x288 with 1 Axes>"
      ]
     },
     "metadata": {},
     "output_type": "display_data"
    }
   ],
   "source": [
    "model = keras.Sequential([\n",
    "    layers.Dense(128, activation='relu', input_shape=input_shape),\n",
    "    layers.Dense(64, activation='relu'),\n",
    "    layers.Dense(1)\n",
    "])\n",
    "model.compile(\n",
    "    optimizer='adam',\n",
    "    loss='mae',\n",
    ")\n",
    "history = model.fit(\n",
    "    X_train, y_train,\n",
    "    validation_data=(X_valid, y_valid),\n",
    "    batch_size=512,\n",
    "    epochs=50,\n",
    ")\n",
    "history_df = pd.DataFrame(history.history)\n",
    "history_df.loc[:, ['loss', 'val_loss']].plot()\n",
    "print(\"Minimum Validation Loss: {:0.4f}\".format(history_df['val_loss'].min()));"
   ]
  },
  {
   "cell_type": "markdown",
   "id": "9e146eed",
   "metadata": {
    "papermill": {
     "duration": 0.013485,
     "end_time": "2022-12-31T07:09:13.339931",
     "exception": false,
     "start_time": "2022-12-31T07:09:13.326446",
     "status": "completed"
    },
    "tags": []
   },
   "source": [
    "# 2) Add Capacity\n",
    "\n",
    "What is your evaluation of these curves? Underfitting, overfitting, just right?"
   ]
  },
  {
   "cell_type": "code",
   "execution_count": 7,
   "id": "4e99dc41",
   "metadata": {
    "execution": {
     "iopub.execute_input": "2022-12-31T07:09:13.368003Z",
     "iopub.status.busy": "2022-12-31T07:09:13.367698Z",
     "iopub.status.idle": "2022-12-31T07:09:13.376403Z",
     "shell.execute_reply": "2022-12-31T07:09:13.375517Z"
    },
    "papermill": {
     "duration": 0.02488,
     "end_time": "2022-12-31T07:09:13.378274",
     "exception": false,
     "start_time": "2022-12-31T07:09:13.353394",
     "status": "completed"
    },
    "tags": []
   },
   "outputs": [
    {
     "data": {
      "application/javascript": [
       "parent.postMessage({\"jupyterEvent\": \"custom.exercise_interaction\", \"data\": {\"outcomeType\": 1, \"valueTowardsCompletion\": 0.25, \"interactionType\": 1, \"questionType\": 4, \"questionId\": \"2_Q2\", \"learnToolsVersion\": \"0.3.4\", \"failureMessage\": \"\", \"exceptionClass\": \"\", \"trace\": \"\"}}, \"*\")"
      ],
      "text/plain": [
       "<IPython.core.display.Javascript object>"
      ]
     },
     "metadata": {},
     "output_type": "display_data"
    },
    {
     "data": {
      "text/markdown": [
       "<span style=\"color:#33cc33\">Correct:</span> \n",
       "\n",
       "Now the validation loss begins to rise very early, while the training loss continues to decrease. This indicates that the network has begun to overfit. At this point, we would need to try something to prevent it, either by reducing the number of units or through a method like early stopping. (We'll see another in the next lesson!)"
      ],
      "text/plain": [
       "Correct: \n",
       "\n",
       "Now the validation loss begins to rise very early, while the training loss continues to decrease. This indicates that the network has begun to overfit. At this point, we would need to try something to prevent it, either by reducing the number of units or through a method like early stopping. (We'll see another in the next lesson!)"
      ]
     },
     "metadata": {},
     "output_type": "display_data"
    }
   ],
   "source": [
    "# View the solution (Run this cell to receive credit!)\n",
    "q_2.check()"
   ]
  },
  {
   "cell_type": "markdown",
   "id": "813be2b0",
   "metadata": {
    "papermill": {
     "duration": 0.013456,
     "end_time": "2022-12-31T07:09:13.405292",
     "exception": false,
     "start_time": "2022-12-31T07:09:13.391836",
     "status": "completed"
    },
    "tags": []
   },
   "source": [
    "# 3) Define Early Stopping Callback\n",
    "\n",
    "Now define an early stopping callback that waits 5 epochs (`patience'`) for a change in validation loss of at least `0.001` (`min_delta`) and keeps the weights with the best loss (`restore_best_weights`)."
   ]
  },
  {
   "cell_type": "code",
   "execution_count": 8,
   "id": "7f71505e",
   "metadata": {
    "execution": {
     "iopub.execute_input": "2022-12-31T07:09:13.435015Z",
     "iopub.status.busy": "2022-12-31T07:09:13.434140Z",
     "iopub.status.idle": "2022-12-31T07:09:13.443544Z",
     "shell.execute_reply": "2022-12-31T07:09:13.442543Z"
    },
    "lines_to_next_cell": 0,
    "papermill": {
     "duration": 0.026327,
     "end_time": "2022-12-31T07:09:13.445691",
     "exception": false,
     "start_time": "2022-12-31T07:09:13.419364",
     "status": "completed"
    },
    "tags": []
   },
   "outputs": [
    {
     "data": {
      "application/javascript": [
       "parent.postMessage({\"jupyterEvent\": \"custom.exercise_interaction\", \"data\": {\"outcomeType\": 1, \"valueTowardsCompletion\": 0.25, \"interactionType\": 1, \"questionType\": 2, \"questionId\": \"3_Q3\", \"learnToolsVersion\": \"0.3.4\", \"failureMessage\": \"\", \"exceptionClass\": \"\", \"trace\": \"\"}}, \"*\")"
      ],
      "text/plain": [
       "<IPython.core.display.Javascript object>"
      ]
     },
     "metadata": {},
     "output_type": "display_data"
    },
    {
     "data": {
      "text/markdown": [
       "<span style=\"color:#33cc33\">Correct</span>"
      ],
      "text/plain": [
       "Correct"
      ]
     },
     "metadata": {},
     "output_type": "display_data"
    }
   ],
   "source": [
    "from tensorflow.keras import callbacks\n",
    "\n",
    "# YOUR CODE HERE: define an early stopping callback\n",
    "early_stopping = callbacks.EarlyStopping(\n",
    "  min_delta=0.001,\n",
    "  patience=5,\n",
    "  restore_best_weights=True,\n",
    ")\n",
    "\n",
    "# Check your answer\n",
    "q_3.check()"
   ]
  },
  {
   "cell_type": "code",
   "execution_count": 9,
   "id": "efdd6c0e",
   "metadata": {
    "execution": {
     "iopub.execute_input": "2022-12-31T07:09:13.474313Z",
     "iopub.status.busy": "2022-12-31T07:09:13.474031Z",
     "iopub.status.idle": "2022-12-31T07:09:13.485983Z",
     "shell.execute_reply": "2022-12-31T07:09:13.485141Z"
    },
    "papermill": {
     "duration": 0.028636,
     "end_time": "2022-12-31T07:09:13.488110",
     "exception": false,
     "start_time": "2022-12-31T07:09:13.459474",
     "status": "completed"
    },
    "tags": []
   },
   "outputs": [
    {
     "data": {
      "application/javascript": [
       "parent.postMessage({\"jupyterEvent\": \"custom.exercise_interaction\", \"data\": {\"interactionType\": 2, \"questionType\": 2, \"questionId\": \"3_Q3\", \"learnToolsVersion\": \"0.3.4\", \"valueTowardsCompletion\": 0.0, \"failureMessage\": \"\", \"exceptionClass\": \"\", \"trace\": \"\", \"outcomeType\": 4}}, \"*\")"
      ],
      "text/plain": [
       "<IPython.core.display.Javascript object>"
      ]
     },
     "metadata": {},
     "output_type": "display_data"
    },
    {
     "data": {
      "text/markdown": [
       "<span style=\"color:#3366cc\">Hint:</span> \n",
       "Your solution should look something like:\n",
       "\n",
       "```python\n",
       "early_stopping = callbacks.EarlyStopping(\n",
       "    patience=____,\n",
       "    min_delta=____,\n",
       "    restore_best_weights=____,\n",
       ")\n",
       "```\n"
      ],
      "text/plain": [
       "Hint: \n",
       "Your solution should look something like:\n",
       "\n",
       "```python\n",
       "early_stopping = callbacks.EarlyStopping(\n",
       "    patience=____,\n",
       "    min_delta=____,\n",
       "    restore_best_weights=____,\n",
       ")\n",
       "```"
      ]
     },
     "metadata": {},
     "output_type": "display_data"
    },
    {
     "data": {
      "application/javascript": [
       "parent.postMessage({\"jupyterEvent\": \"custom.exercise_interaction\", \"data\": {\"interactionType\": 3, \"questionType\": 2, \"questionId\": \"3_Q3\", \"learnToolsVersion\": \"0.3.4\", \"valueTowardsCompletion\": 0.0, \"failureMessage\": \"\", \"exceptionClass\": \"\", \"trace\": \"\", \"outcomeType\": 4}}, \"*\")"
      ],
      "text/plain": [
       "<IPython.core.display.Javascript object>"
      ]
     },
     "metadata": {},
     "output_type": "display_data"
    },
    {
     "data": {
      "text/markdown": [
       "<span style=\"color:#33cc99\">Solution:</span> \n",
       "```python\n",
       "\n",
       "early_stopping = callbacks.EarlyStopping(\n",
       "    patience=5,\n",
       "    min_delta=0.001,\n",
       "    restore_best_weights=True,\n",
       ")\n",
       "```"
      ],
      "text/plain": [
       "Solution: \n",
       "```python\n",
       "\n",
       "early_stopping = callbacks.EarlyStopping(\n",
       "    patience=5,\n",
       "    min_delta=0.001,\n",
       "    restore_best_weights=True,\n",
       ")\n",
       "```"
      ]
     },
     "metadata": {},
     "output_type": "display_data"
    }
   ],
   "source": [
    "# Lines below will give you a hint or solution code\n",
    "q_3.hint()\n",
    "q_3.solution()"
   ]
  },
  {
   "cell_type": "markdown",
   "id": "d61a286b",
   "metadata": {
    "papermill": {
     "duration": 0.014085,
     "end_time": "2022-12-31T07:09:13.516315",
     "exception": false,
     "start_time": "2022-12-31T07:09:13.502230",
     "status": "completed"
    },
    "tags": []
   },
   "source": [
    "Now run this cell to train the model and get the learning curves. Notice the `callbacks` argument in `model.fit`."
   ]
  },
  {
   "cell_type": "code",
   "execution_count": 10,
   "id": "b865d449",
   "metadata": {
    "execution": {
     "iopub.execute_input": "2022-12-31T07:09:13.545798Z",
     "iopub.status.busy": "2022-12-31T07:09:13.545512Z",
     "iopub.status.idle": "2022-12-31T07:09:15.836157Z",
     "shell.execute_reply": "2022-12-31T07:09:15.835157Z"
    },
    "papermill": {
     "duration": 2.307819,
     "end_time": "2022-12-31T07:09:15.838336",
     "exception": false,
     "start_time": "2022-12-31T07:09:13.530517",
     "status": "completed"
    },
    "tags": []
   },
   "outputs": [
    {
     "name": "stdout",
     "output_type": "stream",
     "text": [
      "Epoch 1/50\n",
      "47/47 [==============================] - 1s 5ms/step - loss: 0.2489 - val_loss: 0.2073\n",
      "Epoch 2/50\n",
      "47/47 [==============================] - 0s 3ms/step - loss: 0.2023 - val_loss: 0.2036\n",
      "Epoch 3/50\n",
      "47/47 [==============================] - 0s 4ms/step - loss: 0.1972 - val_loss: 0.2003\n",
      "Epoch 4/50\n",
      "47/47 [==============================] - 0s 3ms/step - loss: 0.1940 - val_loss: 0.1986\n",
      "Epoch 5/50\n",
      "47/47 [==============================] - 0s 3ms/step - loss: 0.1922 - val_loss: 0.1978\n",
      "Epoch 6/50\n",
      "47/47 [==============================] - 0s 2ms/step - loss: 0.1908 - val_loss: 0.1979\n",
      "Epoch 7/50\n",
      "47/47 [==============================] - 0s 3ms/step - loss: 0.1897 - val_loss: 0.1968\n",
      "Epoch 8/50\n",
      "47/47 [==============================] - 0s 3ms/step - loss: 0.1879 - val_loss: 0.1977\n",
      "Epoch 9/50\n",
      "47/47 [==============================] - 0s 3ms/step - loss: 0.1871 - val_loss: 0.1975\n",
      "Epoch 10/50\n",
      "47/47 [==============================] - 0s 3ms/step - loss: 0.1861 - val_loss: 0.1978\n",
      "Epoch 11/50\n",
      "47/47 [==============================] - 0s 3ms/step - loss: 0.1849 - val_loss: 0.1978\n",
      "Epoch 12/50\n",
      "47/47 [==============================] - 0s 3ms/step - loss: 0.1842 - val_loss: 0.1973\n",
      "Minimum Validation Loss: 0.1968\n"
     ]
    },
    {
     "data": {
      "image/png": "[encoded data removed]",
      "text/plain": [
       "<Figure size 432x288 with 1 Axes>"
      ]
     },
     "metadata": {},
     "output_type": "display_data"
    }
   ],
   "source": [
    "model = keras.Sequential([\n",
    "    layers.Dense(128, activation='relu', input_shape=input_shape),\n",
    "    layers.Dense(64, activation='relu'),    \n",
    "    layers.Dense(1)\n",
    "])\n",
    "model.compile(\n",
    "    optimizer='adam',\n",
    "    loss='mae',\n",
    ")\n",
    "history = model.fit(\n",
    "    X_train, y_train,\n",
    "    validation_data=(X_valid, y_valid),\n",
    "    batch_size=512,\n",
    "    epochs=50,\n",
    "    callbacks=[early_stopping]\n",
    ")\n",
    "history_df = pd.DataFrame(history.history)\n",
    "history_df.loc[:, ['loss', 'val_loss']].plot()\n",
    "print(\"Minimum Validation Loss: {:0.4f}\".format(history_df['val_loss'].min()));"
   ]
  },
  {
   "cell_type": "markdown",
   "id": "117b13b1",
   "metadata": {
    "papermill": {
     "duration": 0.01622,
     "end_time": "2022-12-31T07:09:15.871372",
     "exception": false,
     "start_time": "2022-12-31T07:09:15.855152",
     "status": "completed"
    },
    "tags": []
   },
   "source": [
    "# 4) Train and Interpret\n",
    "\n",
    "Was this an improvement compared to training without early stopping?"
   ]
  },
  {
   "cell_type": "code",
   "execution_count": 11,
   "id": "518c63a0",
   "metadata": {
    "execution": {
     "iopub.execute_input": "2022-12-31T07:09:15.906157Z",
     "iopub.status.busy": "2022-12-31T07:09:15.905311Z",
     "iopub.status.idle": "2022-12-31T07:09:15.914577Z",
     "shell.execute_reply": "2022-12-31T07:09:15.913545Z"
    },
    "papermill": {
     "duration": 0.030348,
     "end_time": "2022-12-31T07:09:15.918003",
     "exception": false,
     "start_time": "2022-12-31T07:09:15.887655",
     "status": "completed"
    },
    "tags": []
   },
   "outputs": [
    {
     "data": {
      "application/javascript": [
       "parent.postMessage({\"jupyterEvent\": \"custom.exercise_interaction\", \"data\": {\"outcomeType\": 1, \"valueTowardsCompletion\": 0.25, \"interactionType\": 1, \"questionType\": 4, \"questionId\": \"4_Q4\", \"learnToolsVersion\": \"0.3.4\", \"failureMessage\": \"\", \"exceptionClass\": \"\", \"trace\": \"\"}}, \"*\")"
      ],
      "text/plain": [
       "<IPython.core.display.Javascript object>"
      ]
     },
     "metadata": {},
     "output_type": "display_data"
    },
    {
     "data": {
      "text/markdown": [
       "<span style=\"color:#33cc33\">Correct:</span> \n",
       "\n",
       "The early stopping callback did stop the training once the network began overfitting. Moreover, by including `restore_best_weights` we still get to keep the model where validation loss was lowest."
      ],
      "text/plain": [
       "Correct: \n",
       "\n",
       "The early stopping callback did stop the training once the network began overfitting. Moreover, by including `restore_best_weights` we still get to keep the model where validation loss was lowest."
      ]
     },
     "metadata": {},
     "output_type": "display_data"
    }
   ],
   "source": [
    "# View the solution (Run this cell to receive credit!)\n",
    "q_4.check()"
   ]
  },
  {
   "cell_type": "markdown",
   "id": "5964f6cd",
   "metadata": {
    "papermill": {
     "duration": 0.016553,
     "end_time": "2022-12-31T07:09:15.951606",
     "exception": false,
     "start_time": "2022-12-31T07:09:15.935053",
     "status": "completed"
    },
    "tags": []
   },
   "source": [
    "If you like, try experimenting with `patience` and `min_delta` to see what difference it might make.\n",
    "\n",
    "# Keep Going #\n",
    "\n",
    "Move on to [**learn about a couple of special layers**](https://www.kaggle.com/ryanholbrook/dropout-and-batch-normalization): batch normalization and dropout."
   ]
  },
  {
   "cell_type": "markdown",
   "id": "dabbe486",
   "metadata": {
    "papermill": {
     "duration": 0.016274,
     "end_time": "2022-12-31T07:09:15.984383",
     "exception": false,
     "start_time": "2022-12-31T07:09:15.968109",
     "status": "completed"
    },
    "tags": []
   },
   "source": [
    "---\n",
    "\n",
    "\n",
    "\n",
    "\n",
    "*Have questions or comments? Visit the [course discussion forum](https://www.kaggle.com/learn/intro-to-deep-learning/discussion) to chat with other learners.*"
   ]
  }
 ],
 "metadata": {
  "kernelspec": {
   "display_name": "Python 3",
   "language": "python",
   "name": "python3"
  },
  "language_info": {
   "codemirror_mode": {
    "name": "ipython",
    "version": 3
   },
   "file_extension": ".py",
   "mimetype": "text/x-python",
   "name": "python",
   "nbconvert_exporter": "python",
   "pygments_lexer": "ipython3",
   "version": "3.7.12"
  },
  "papermill": {
   "default_parameters": {},
   "duration": 45.317922,
   "end_time": "2022-12-31T07:09:19.060709",
   "environment_variables": {},
   "exception": null,
   "input_path": "__notebook__.ipynb",
   "output_path": "__notebook__.ipynb",
   "parameters": {},
   "start_time": "2022-12-31T07:08:33.742787",
   "version": "2.3.4"
  }
 },
 "nbformat": 4,
 "nbformat_minor": 5
}
