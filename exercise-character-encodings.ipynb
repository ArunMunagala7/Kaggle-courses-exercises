{
 "cells": [
  {
   "cell_type": "markdown",
   "id": "aabe167e",
   "metadata": {
    "papermill": {
     "duration": 0.005842,
     "end_time": "2022-11-19T09:56:01.481429",
     "exception": false,
     "start_time": "2022-11-19T09:56:01.475587",
     "status": "completed"
    },
    "tags": []
   },
   "source": [
    "**This notebook is an exercise in the [Data Cleaning](https://www.kaggle.com/learn/data-cleaning) course.  You can reference the tutorial at [this link](https://www.kaggle.com/alexisbcook/character-encodings).**\n",
    "\n",
    "---\n"
   ]
  },
  {
   "cell_type": "markdown",
   "id": "a37a1447",
   "metadata": {
    "papermill": {
     "duration": 0.004427,
     "end_time": "2022-11-19T09:56:01.490744",
     "exception": false,
     "start_time": "2022-11-19T09:56:01.486317",
     "status": "completed"
    },
    "tags": []
   },
   "source": [
    "In this exercise, you'll apply what you learned in the **Character encodings** tutorial.\n",
    "\n",
    "# Setup\n",
    "\n",
    "The questions below will give you feedback on your work. Run the following cell to set up the feedback system."
   ]
  },
  {
   "cell_type": "code",
   "execution_count": 1,
   "id": "3d229e8e",
   "metadata": {
    "execution": {
     "iopub.execute_input": "2022-11-19T09:56:01.502548Z",
     "iopub.status.busy": "2022-11-19T09:56:01.501740Z",
     "iopub.status.idle": "2022-11-19T09:56:01.600141Z",
     "shell.execute_reply": "2022-11-19T09:56:01.598626Z"
    },
    "papermill": {
     "duration": 0.107943,
     "end_time": "2022-11-19T09:56:01.603421",
     "exception": false,
     "start_time": "2022-11-19T09:56:01.495478",
     "status": "completed"
    },
    "tags": []
   },
   "outputs": [
    {
     "name": "stdout",
     "output_type": "stream",
     "text": [
      "Setup Complete\n"
     ]
    }
   ],
   "source": [
    "from learntools.core import binder\n",
    "binder.bind(globals())\n",
    "from learntools.data_cleaning.ex4 import *\n",
    "print(\"Setup Complete\")"
   ]
  },
  {
   "cell_type": "markdown",
   "id": "6e2b3626",
   "metadata": {
    "papermill": {
     "duration": 0.004885,
     "end_time": "2022-11-19T09:56:01.613289",
     "exception": false,
     "start_time": "2022-11-19T09:56:01.608404",
     "status": "completed"
    },
    "tags": []
   },
   "source": [
    "# Get our environment set up\n",
    "\n",
    "The first thing we'll need to do is load in the libraries we'll be using."
   ]
  },
  {
   "cell_type": "code",
   "execution_count": 2,
   "id": "474752e7",
   "metadata": {
    "execution": {
     "iopub.execute_input": "2022-11-19T09:56:01.625252Z",
     "iopub.status.busy": "2022-11-19T09:56:01.624327Z",
     "iopub.status.idle": "2022-11-19T09:56:01.629894Z",
     "shell.execute_reply": "2022-11-19T09:56:01.628798Z"
    },
    "papermill": {
     "duration": 0.013939,
     "end_time": "2022-11-19T09:56:01.632241",
     "exception": false,
     "start_time": "2022-11-19T09:56:01.618302",
     "status": "completed"
    },
    "tags": []
   },
   "outputs": [],
   "source": [
    "# modules we'll use\n",
    "import pandas as pd\n",
    "import numpy as np\n",
    "\n",
    "# helpful character encoding module\n",
    "import chardet\n",
    "\n",
    "# set seed for reproducibility\n",
    "np.random.seed(0)"
   ]
  },
  {
   "cell_type": "markdown",
   "id": "6c4af8b2",
   "metadata": {
    "papermill": {
     "duration": 0.004552,
     "end_time": "2022-11-19T09:56:01.641658",
     "exception": false,
     "start_time": "2022-11-19T09:56:01.637106",
     "status": "completed"
    },
    "tags": []
   },
   "source": [
    "# 1) What are encodings?\n",
    "\n",
    "You're working with a dataset composed of bytes.  Run the code cell below to print a sample entry."
   ]
  },
  {
   "cell_type": "code",
   "execution_count": 3,
   "id": "95659e86",
   "metadata": {
    "execution": {
     "iopub.execute_input": "2022-11-19T09:56:01.653446Z",
     "iopub.status.busy": "2022-11-19T09:56:01.653011Z",
     "iopub.status.idle": "2022-11-19T09:56:01.659485Z",
     "shell.execute_reply": "2022-11-19T09:56:01.657918Z"
    },
    "papermill": {
     "duration": 0.015393,
     "end_time": "2022-11-19T09:56:01.661747",
     "exception": false,
     "start_time": "2022-11-19T09:56:01.646354",
     "status": "completed"
    },
    "tags": []
   },
   "outputs": [
    {
     "name": "stdout",
     "output_type": "stream",
     "text": [
      "b'\\xa7A\\xa6n'\n",
      "data type: <class 'bytes'>\n"
     ]
    }
   ],
   "source": [
    "sample_entry = b'\\xa7A\\xa6n'\n",
    "print(sample_entry)\n",
    "print('data type:', type(sample_entry))"
   ]
  },
  {
   "cell_type": "markdown",
   "id": "8c7bec1a",
   "metadata": {
    "papermill": {
     "duration": 0.005345,
     "end_time": "2022-11-19T09:56:01.672003",
     "exception": false,
     "start_time": "2022-11-19T09:56:01.666658",
     "status": "completed"
    },
    "tags": []
   },
   "source": [
    "You notice that it doesn't use the standard UTF-8 encoding. \n",
    "\n",
    "Use the next code cell to create a variable `new_entry` that changes the encoding from `\"big5-tw\"` to `\"utf-8\"`.  `new_entry` should have the bytes datatype."
   ]
  },
  {
   "cell_type": "code",
   "execution_count": 4,
   "id": "fa64bb16",
   "metadata": {
    "execution": {
     "iopub.execute_input": "2022-11-19T09:56:01.684325Z",
     "iopub.status.busy": "2022-11-19T09:56:01.683494Z",
     "iopub.status.idle": "2022-11-19T09:56:01.695059Z",
     "shell.execute_reply": "2022-11-19T09:56:01.693719Z"
    },
    "papermill": {
     "duration": 0.020759,
     "end_time": "2022-11-19T09:56:01.697762",
     "exception": false,
     "start_time": "2022-11-19T09:56:01.677003",
     "status": "completed"
    },
    "tags": []
   },
   "outputs": [
    {
     "data": {
      "application/javascript": [
       "parent.postMessage({\"jupyterEvent\": \"custom.exercise_interaction\", \"data\": {\"outcomeType\": 1, \"valueTowardsCompletion\": 0.3333333333333333, \"interactionType\": 1, \"questionType\": 1, \"questionId\": \"1_EncodingsIntro\", \"learnToolsVersion\": \"0.3.4\", \"failureMessage\": \"\", \"exceptionClass\": \"\", \"trace\": \"\"}}, \"*\")"
      ],
      "text/plain": [
       "<IPython.core.display.Javascript object>"
      ]
     },
     "metadata": {},
     "output_type": "display_data"
    },
    {
     "data": {
      "text/markdown": [
       "<span style=\"color:#33cc33\">Correct</span>"
      ],
      "text/plain": [
       "Correct"
      ]
     },
     "metadata": {},
     "output_type": "display_data"
    }
   ],
   "source": [
    "str= sample_entry.decode(\"big5-tw\")\n",
    "new_entry=str.encode(\"utf-8\",errors=\"replace\")\n",
    "# Check your answer\n",
    "q1.check()"
   ]
  },
  {
   "cell_type": "code",
   "execution_count": 5,
   "id": "18035657",
   "metadata": {
    "execution": {
     "iopub.execute_input": "2022-11-19T09:56:01.710510Z",
     "iopub.status.busy": "2022-11-19T09:56:01.710063Z",
     "iopub.status.idle": "2022-11-19T09:56:01.728595Z",
     "shell.execute_reply": "2022-11-19T09:56:01.727403Z"
    },
    "papermill": {
     "duration": 0.028347,
     "end_time": "2022-11-19T09:56:01.731613",
     "exception": false,
     "start_time": "2022-11-19T09:56:01.703266",
     "status": "completed"
    },
    "tags": []
   },
   "outputs": [
    {
     "data": {
      "application/javascript": [
       "parent.postMessage({\"jupyterEvent\": \"custom.exercise_interaction\", \"data\": {\"interactionType\": 2, \"questionType\": 1, \"questionId\": \"1_EncodingsIntro\", \"learnToolsVersion\": \"0.3.4\", \"valueTowardsCompletion\": 0.0, \"failureMessage\": \"\", \"exceptionClass\": \"\", \"trace\": \"\", \"outcomeType\": 4}}, \"*\")"
      ],
      "text/plain": [
       "<IPython.core.display.Javascript object>"
      ]
     },
     "metadata": {},
     "output_type": "display_data"
    },
    {
     "data": {
      "text/markdown": [
       "<span style=\"color:#3366cc\">Hint:</span> Try using `.decode()` to get the string, then `.encode()` to get the bytes representation, encoded in UTF-8."
      ],
      "text/plain": [
       "Hint: Try using `.decode()` to get the string, then `.encode()` to get the bytes representation, encoded in UTF-8."
      ]
     },
     "metadata": {},
     "output_type": "display_data"
    },
    {
     "data": {
      "application/javascript": [
       "parent.postMessage({\"jupyterEvent\": \"custom.exercise_interaction\", \"data\": {\"interactionType\": 3, \"questionType\": 1, \"questionId\": \"1_EncodingsIntro\", \"learnToolsVersion\": \"0.3.4\", \"valueTowardsCompletion\": 0.0, \"failureMessage\": \"\", \"exceptionClass\": \"\", \"trace\": \"\", \"outcomeType\": 4}}, \"*\")"
      ],
      "text/plain": [
       "<IPython.core.display.Javascript object>"
      ]
     },
     "metadata": {},
     "output_type": "display_data"
    },
    {
     "data": {
      "text/markdown": [
       "<span style=\"color:#33cc99\">Solution:</span> \n",
       "```python\n",
       "before = sample_entry.decode(\"big5-tw\")\n",
       "new_entry = before.encode()\n",
       "\n",
       "```"
      ],
      "text/plain": [
       "Solution: \n",
       "```python\n",
       "before = sample_entry.decode(\"big5-tw\")\n",
       "new_entry = before.encode()\n",
       "\n",
       "```"
      ]
     },
     "metadata": {},
     "output_type": "display_data"
    }
   ],
   "source": [
    "# Lines below will give you a hint or solution code\n",
    "q1.hint()\n",
    "q1.solution()"
   ]
  },
  {
   "cell_type": "markdown",
   "id": "d5c3e6d3",
   "metadata": {
    "papermill": {
     "duration": 0.00763,
     "end_time": "2022-11-19T09:56:01.745859",
     "exception": false,
     "start_time": "2022-11-19T09:56:01.738229",
     "status": "completed"
    },
    "tags": []
   },
   "source": [
    "# 2) Reading in files with encoding problems\n",
    "\n",
    "Use the code cell below to read in this file at path `\"../input/fatal-police-shootings-in-the-us/PoliceKillingsUS.csv\"`.  \n",
    "\n",
    "Figure out what the correct encoding should be and read in the file to a DataFrame `police_killings`."
   ]
  },
  {
   "cell_type": "code",
   "execution_count": 6,
   "id": "fd87735a",
   "metadata": {
    "execution": {
     "iopub.execute_input": "2022-11-19T09:56:01.762635Z",
     "iopub.status.busy": "2022-11-19T09:56:01.761784Z",
     "iopub.status.idle": "2022-11-19T09:56:01.797832Z",
     "shell.execute_reply": "2022-11-19T09:56:01.796660Z"
    },
    "papermill": {
     "duration": 0.045905,
     "end_time": "2022-11-19T09:56:01.800123",
     "exception": false,
     "start_time": "2022-11-19T09:56:01.754218",
     "status": "completed"
    },
    "tags": []
   },
   "outputs": [
    {
     "data": {
      "application/javascript": [
       "parent.postMessage({\"jupyterEvent\": \"custom.exercise_interaction\", \"data\": {\"outcomeType\": 1, \"valueTowardsCompletion\": 0.3333333333333333, \"interactionType\": 1, \"questionType\": 1, \"questionId\": \"2_ReadIn\", \"learnToolsVersion\": \"0.3.4\", \"failureMessage\": \"\", \"exceptionClass\": \"\", \"trace\": \"\"}}, \"*\")"
      ],
      "text/plain": [
       "<IPython.core.display.Javascript object>"
      ]
     },
     "metadata": {},
     "output_type": "display_data"
    },
    {
     "data": {
      "text/markdown": [
       "<span style=\"color:#33cc33\">Correct</span>"
      ],
      "text/plain": [
       "Correct"
      ]
     },
     "metadata": {},
     "output_type": "display_data"
    }
   ],
   "source": [
    "# TODO: Load in the DataFrame correctly.\n",
    "police_killings = pd.read_csv(\"../input/fatal-police-shootings-in-the-us/PoliceKillingsUS.csv\",encoding=\"Windows-1252\")\n",
    "\n",
    "# Check your answer\n",
    "q2.check()"
   ]
  },
  {
   "cell_type": "markdown",
   "id": "b5a22fa5",
   "metadata": {
    "papermill": {
     "duration": 0.005527,
     "end_time": "2022-11-19T09:56:01.811634",
     "exception": false,
     "start_time": "2022-11-19T09:56:01.806107",
     "status": "completed"
    },
    "tags": []
   },
   "source": [
    "Feel free to use any additional code cells for supplemental work.  To get credit for finishing this question, you'll need to run `q2.check()` and get a result of **Correct**."
   ]
  },
  {
   "cell_type": "code",
   "execution_count": 7,
   "id": "1b4b17a1",
   "metadata": {
    "execution": {
     "iopub.execute_input": "2022-11-19T09:56:01.827389Z",
     "iopub.status.busy": "2022-11-19T09:56:01.826255Z",
     "iopub.status.idle": "2022-11-19T09:56:03.420771Z",
     "shell.execute_reply": "2022-11-19T09:56:03.419478Z"
    },
    "papermill": {
     "duration": 1.604838,
     "end_time": "2022-11-19T09:56:03.423418",
     "exception": false,
     "start_time": "2022-11-19T09:56:01.818580",
     "status": "completed"
    },
    "tags": []
   },
   "outputs": [
    {
     "name": "stdout",
     "output_type": "stream",
     "text": [
      "{'encoding': 'Windows-1252', 'confidence': 0.73, 'language': ''}\n"
     ]
    }
   ],
   "source": [
    "# (Optional) Use this code cell for any additional work.\n",
    "with open(\"../input/fatal-police-shootings-in-the-us/PoliceKillingsUS.csv\", 'rb') as rawdata:\n",
    "    result = chardet.detect(rawdata.read(100000))\n",
    "    print(result)"
   ]
  },
  {
   "cell_type": "code",
   "execution_count": 8,
   "id": "2de959d0",
   "metadata": {
    "execution": {
     "iopub.execute_input": "2022-11-19T09:56:03.437679Z",
     "iopub.status.busy": "2022-11-19T09:56:03.437032Z",
     "iopub.status.idle": "2022-11-19T09:56:03.444878Z",
     "shell.execute_reply": "2022-11-19T09:56:03.443603Z"
    },
    "papermill": {
     "duration": 0.018059,
     "end_time": "2022-11-19T09:56:03.447427",
     "exception": false,
     "start_time": "2022-11-19T09:56:03.429368",
     "status": "completed"
    },
    "tags": []
   },
   "outputs": [
    {
     "data": {
      "application/javascript": [
       "parent.postMessage({\"jupyterEvent\": \"custom.exercise_interaction\", \"data\": {\"interactionType\": 2, \"questionType\": 1, \"questionId\": \"2_ReadIn\", \"learnToolsVersion\": \"0.3.4\", \"valueTowardsCompletion\": 0.0, \"failureMessage\": \"\", \"exceptionClass\": \"\", \"trace\": \"\", \"outcomeType\": 4}}, \"*\")"
      ],
      "text/plain": [
       "<IPython.core.display.Javascript object>"
      ]
     },
     "metadata": {},
     "output_type": "display_data"
    },
    {
     "data": {
      "text/markdown": [
       "<span style=\"color:#3366cc\">Hint:</span> If you try to guess the encoding with the first 10,000 bytes of the file, it might give you the wrong answer.  Try using 100,000 or more lines of the file."
      ],
      "text/plain": [
       "Hint: If you try to guess the encoding with the first 10,000 bytes of the file, it might give you the wrong answer.  Try using 100,000 or more lines of the file."
      ]
     },
     "metadata": {},
     "output_type": "display_data"
    }
   ],
   "source": [
    "# Lines below will give you a hint or solution code\n",
    "q2.hint()\n",
    "#q2.solution()"
   ]
  },
  {
   "cell_type": "markdown",
   "id": "1a2f4711",
   "metadata": {
    "papermill": {
     "duration": 0.005917,
     "end_time": "2022-11-19T09:56:03.459453",
     "exception": false,
     "start_time": "2022-11-19T09:56:03.453536",
     "status": "completed"
    },
    "tags": []
   },
   "source": [
    "# 3) Saving your files with UTF-8 encoding\n",
    "\n",
    "Save a version of the police killings dataset to CSV with UTF-8 encoding.  Your answer will be marked correct after saving this file.  \n",
    "\n",
    "Note: When using the `to_csv()` method, supply only the name of the file (e.g., `\"my_file.csv\"`).  This saves the file at the filepath `\"/kaggle/working/my_file.csv\"`."
   ]
  },
  {
   "cell_type": "code",
   "execution_count": 9,
   "id": "5aa46fd1",
   "metadata": {
    "execution": {
     "iopub.execute_input": "2022-11-19T09:56:03.473181Z",
     "iopub.status.busy": "2022-11-19T09:56:03.472755Z",
     "iopub.status.idle": "2022-11-19T09:56:03.506977Z",
     "shell.execute_reply": "2022-11-19T09:56:03.505893Z"
    },
    "papermill": {
     "duration": 0.043952,
     "end_time": "2022-11-19T09:56:03.509409",
     "exception": false,
     "start_time": "2022-11-19T09:56:03.465457",
     "status": "completed"
    },
    "tags": []
   },
   "outputs": [
    {
     "data": {
      "application/javascript": [
       "parent.postMessage({\"jupyterEvent\": \"custom.exercise_interaction\", \"data\": {\"outcomeType\": 1, \"valueTowardsCompletion\": 0.3333333333333333, \"interactionType\": 1, \"questionType\": 2, \"questionId\": \"3_SaveCSV\", \"learnToolsVersion\": \"0.3.4\", \"failureMessage\": \"\", \"exceptionClass\": \"\", \"trace\": \"\"}}, \"*\")"
      ],
      "text/plain": [
       "<IPython.core.display.Javascript object>"
      ]
     },
     "metadata": {},
     "output_type": "display_data"
    },
    {
     "data": {
      "text/markdown": [
       "<span style=\"color:#33cc33\">Correct</span>"
      ],
      "text/plain": [
       "Correct"
      ]
     },
     "metadata": {},
     "output_type": "display_data"
    }
   ],
   "source": [
    "# TODO: Save the police killings dataset to CSV\n",
    "police_killings.to_csv(\"my_file.csv\")\n",
    "# Check your answer\n",
    "q3.check()"
   ]
  },
  {
   "cell_type": "code",
   "execution_count": 10,
   "id": "e7ac014e",
   "metadata": {
    "execution": {
     "iopub.execute_input": "2022-11-19T09:56:03.524404Z",
     "iopub.status.busy": "2022-11-19T09:56:03.523656Z",
     "iopub.status.idle": "2022-11-19T09:56:03.535979Z",
     "shell.execute_reply": "2022-11-19T09:56:03.534795Z"
    },
    "papermill": {
     "duration": 0.022599,
     "end_time": "2022-11-19T09:56:03.538367",
     "exception": false,
     "start_time": "2022-11-19T09:56:03.515768",
     "status": "completed"
    },
    "tags": []
   },
   "outputs": [
    {
     "data": {
      "application/javascript": [
       "parent.postMessage({\"jupyterEvent\": \"custom.exercise_interaction\", \"data\": {\"interactionType\": 2, \"questionType\": 2, \"questionId\": \"3_SaveCSV\", \"learnToolsVersion\": \"0.3.4\", \"valueTowardsCompletion\": 0.0, \"failureMessage\": \"\", \"exceptionClass\": \"\", \"trace\": \"\", \"outcomeType\": 4}}, \"*\")"
      ],
      "text/plain": [
       "<IPython.core.display.Javascript object>"
      ]
     },
     "metadata": {},
     "output_type": "display_data"
    },
    {
     "data": {
      "text/markdown": [
       "<span style=\"color:#3366cc\">Hint:</span> Use `.to_csv().`"
      ],
      "text/plain": [
       "Hint: Use `.to_csv().`"
      ]
     },
     "metadata": {},
     "output_type": "display_data"
    },
    {
     "data": {
      "application/javascript": [
       "parent.postMessage({\"jupyterEvent\": \"custom.exercise_interaction\", \"data\": {\"interactionType\": 3, \"questionType\": 2, \"questionId\": \"3_SaveCSV\", \"learnToolsVersion\": \"0.3.4\", \"valueTowardsCompletion\": 0.0, \"failureMessage\": \"\", \"exceptionClass\": \"\", \"trace\": \"\", \"outcomeType\": 4}}, \"*\")"
      ],
      "text/plain": [
       "<IPython.core.display.Javascript object>"
      ]
     },
     "metadata": {},
     "output_type": "display_data"
    },
    {
     "data": {
      "text/markdown": [
       "<span style=\"color:#33cc99\">Solution:</span> \n",
       "```python\n",
       "\n",
       "police_killings.to_csv(\"my_file.csv\")\n",
       "\n",
       "```"
      ],
      "text/plain": [
       "Solution: \n",
       "```python\n",
       "\n",
       "police_killings.to_csv(\"my_file.csv\")\n",
       "\n",
       "```"
      ]
     },
     "metadata": {},
     "output_type": "display_data"
    }
   ],
   "source": [
    "# Lines below will give you a hint or solution code\n",
    "q3.hint()\n",
    "q3.solution()"
   ]
  },
  {
   "cell_type": "markdown",
   "id": "0b45dd64",
   "metadata": {
    "papermill": {
     "duration": 0.006432,
     "end_time": "2022-11-19T09:56:03.551706",
     "exception": false,
     "start_time": "2022-11-19T09:56:03.545274",
     "status": "completed"
    },
    "tags": []
   },
   "source": [
    "# (Optional) More practice\n",
    "\n",
    "Check out [this dataset of files in different character encodings](https://www.kaggle.com/rtatman/character-encoding-examples). Can you read in all the files with their original encodings and them save them out as UTF-8 files?\n",
    "\n",
    "If you have a file that's in UTF-8 but has just a couple of weird-looking characters in it, you can try out the [ftfy module](https://ftfy.readthedocs.io/en/latest/#) and see if it helps. \n",
    "\n",
    "# Keep going\n",
    "\n",
    "In the final lesson, learn how to [**clean up inconsistent text entries**](https://www.kaggle.com/alexisbcook/inconsistent-data-entry) in your dataset."
   ]
  },
  {
   "cell_type": "markdown",
   "id": "eff68804",
   "metadata": {
    "papermill": {
     "duration": 0.006309,
     "end_time": "2022-11-19T09:56:03.564700",
     "exception": false,
     "start_time": "2022-11-19T09:56:03.558391",
     "status": "completed"
    },
    "tags": []
   },
   "source": [
    "---\n",
    "\n",
    "\n",
    "\n",
    "\n",
    "*Have questions or comments? Visit the [course discussion forum](https://www.kaggle.com/learn/data-cleaning/discussion) to chat with other learners.*"
   ]
  }
 ],
 "metadata": {
  "kernelspec": {
   "display_name": "Python 3",
   "language": "python",
   "name": "python3"
  },
  "language_info": {
   "codemirror_mode": {
    "name": "ipython",
    "version": 3
   },
   "file_extension": ".py",
   "mimetype": "text/x-python",
   "name": "python",
   "nbconvert_exporter": "python",
   "pygments_lexer": "ipython3",
   "version": "3.7.12"
  },
  "papermill": {
   "default_parameters": {},
   "duration": 11.595254,
   "end_time": "2022-11-19T09:56:04.295249",
   "environment_variables": {},
   "exception": null,
   "input_path": "__notebook__.ipynb",
   "output_path": "__notebook__.ipynb",
   "parameters": {},
   "start_time": "2022-11-19T09:55:52.699995",
   "version": "2.3.4"
  }
 },
 "nbformat": 4,
 "nbformat_minor": 5
}
