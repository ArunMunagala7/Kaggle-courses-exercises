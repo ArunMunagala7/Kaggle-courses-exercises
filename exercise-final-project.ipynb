{
 "cells": [
  {
   "cell_type": "markdown",
   "id": "4115ab53",
   "metadata": {
    "papermill": {
     "duration": 0.005439,
     "end_time": "2022-11-15T11:40:52.582495",
     "exception": false,
     "start_time": "2022-11-15T11:40:52.577056",
     "status": "completed"
    },
    "tags": []
   },
   "source": [
    "**This notebook is an exercise in the [Data Visualization](https://www.kaggle.com/learn/data-visualization) course.  You can reference the tutorial at [this link](https://www.kaggle.com/alexisbcook/final-project).**\n",
    "\n",
    "---\n"
   ]
  },
  {
   "cell_type": "markdown",
   "id": "a4526c64",
   "metadata": {
    "papermill": {
     "duration": 0.004062,
     "end_time": "2022-11-15T11:40:52.591242",
     "exception": false,
     "start_time": "2022-11-15T11:40:52.587180",
     "status": "completed"
    },
    "tags": []
   },
   "source": [
    "Now it's time for you to demonstrate your new skills with a project of your own!\n",
    "\n",
    "In this exercise, you will work with a dataset of your choosing.  Once you've selected a dataset, you'll design and create your own plot to tell interesting stories behind the data!\n",
    "\n",
    "## Setup\n",
    "\n",
    "Run the next cell to import and configure the Python libraries that you need to complete the exercise."
   ]
  },
  {
   "cell_type": "code",
   "execution_count": 1,
   "id": "40a28a1c",
   "metadata": {
    "execution": {
     "iopub.execute_input": "2022-11-15T11:40:52.602581Z",
     "iopub.status.busy": "2022-11-15T11:40:52.602109Z",
     "iopub.status.idle": "2022-11-15T11:40:53.713649Z",
     "shell.execute_reply": "2022-11-15T11:40:53.712263Z"
    },
    "papermill": {
     "duration": 1.122111,
     "end_time": "2022-11-15T11:40:53.717973",
     "exception": false,
     "start_time": "2022-11-15T11:40:52.595862",
     "status": "completed"
    },
    "tags": []
   },
   "outputs": [
    {
     "name": "stdout",
     "output_type": "stream",
     "text": [
      "Setup Complete\n"
     ]
    }
   ],
   "source": [
    "import pandas as pd\n",
    "pd.plotting.register_matplotlib_converters()\n",
    "import matplotlib.pyplot as plt\n",
    "%matplotlib inline\n",
    "import seaborn as sns\n",
    "print(\"Setup Complete\")"
   ]
  },
  {
   "cell_type": "markdown",
   "id": "909dcc59",
   "metadata": {
    "papermill": {
     "duration": 0.004254,
     "end_time": "2022-11-15T11:40:53.727722",
     "exception": false,
     "start_time": "2022-11-15T11:40:53.723468",
     "status": "completed"
    },
    "tags": []
   },
   "source": [
    "The questions below will give you feedback on your work. Run the following cell to set up the feedback system."
   ]
  },
  {
   "cell_type": "code",
   "execution_count": 2,
   "id": "7b580da4",
   "metadata": {
    "execution": {
     "iopub.execute_input": "2022-11-15T11:40:53.740322Z",
     "iopub.status.busy": "2022-11-15T11:40:53.738971Z",
     "iopub.status.idle": "2022-11-15T11:40:53.788632Z",
     "shell.execute_reply": "2022-11-15T11:40:53.787697Z"
    },
    "papermill": {
     "duration": 0.059082,
     "end_time": "2022-11-15T11:40:53.791928",
     "exception": false,
     "start_time": "2022-11-15T11:40:53.732846",
     "status": "completed"
    },
    "tags": []
   },
   "outputs": [
    {
     "name": "stdout",
     "output_type": "stream",
     "text": [
      "Setup Complete\n"
     ]
    }
   ],
   "source": [
    "# Set up code checking\n",
    "from learntools.core import binder\n",
    "binder.bind(globals())\n",
    "from learntools.data_viz_to_coder.ex7 import *\n",
    "print(\"Setup Complete\")"
   ]
  },
  {
   "cell_type": "markdown",
   "id": "473af5c7",
   "metadata": {
    "papermill": {
     "duration": 0.004556,
     "end_time": "2022-11-15T11:40:53.801636",
     "exception": false,
     "start_time": "2022-11-15T11:40:53.797080",
     "status": "completed"
    },
    "tags": []
   },
   "source": [
    "## Step 1: Attach a dataset to the notebook\n",
    "\n",
    "Begin by selecting a CSV dataset from [Kaggle Datasets](https://www.kaggle.com/datasets).  If you're unsure how to do this, please revisit the instructions in the previous tutorial.\n",
    "\n",
    "Once you have selected a dataset, click on the **[+ Add data]** option in the top right corner.  This will generate a pop-up window that you can use to search for your chosen dataset.  \n",
    "\n",
    "![ex6_search_dataset](https://i.imgur.com/cIIWPUS.png)\n",
    "\n",
    "Once you have found the dataset, click on the **[Add]** button to attach it to the notebook.  You can check that it was successful by looking at the **Data** dropdown menu to the right of the notebook -- look for an **input** folder containing a subfolder that matches the name of the dataset.\n",
    "\n",
    "<center>\n",
    "<img src=\"https://i.imgur.com/nMYc1Nu.png\" width=30%><br/>\n",
    "</center>\n",
    "\n",
    "You can click on the carat to the left of the name of the dataset to double-check that it contains a CSV file.  For instance, the image below shows that the example dataset contains two CSV files: (1) **dc-wikia-data.csv**, and (2) **marvel-wikia-data.csv**.\n",
    "\n",
    "<center>\n",
    "<img src=\"https://i.imgur.com/B4sJkVA.png\" width=30%><br/>\n",
    "</center>\n",
    "\n",
    "Once you've uploaded a dataset with a CSV file, run the code cell below **without changes** to receive credit for your work!"
   ]
  },
  {
   "cell_type": "code",
   "execution_count": 3,
   "id": "f2c9c3e9",
   "metadata": {
    "execution": {
     "iopub.execute_input": "2022-11-15T11:40:53.813672Z",
     "iopub.status.busy": "2022-11-15T11:40:53.812927Z",
     "iopub.status.idle": "2022-11-15T11:40:53.835561Z",
     "shell.execute_reply": "2022-11-15T11:40:53.834271Z"
    },
    "papermill": {
     "duration": 0.031721,
     "end_time": "2022-11-15T11:40:53.838070",
     "exception": false,
     "start_time": "2022-11-15T11:40:53.806349",
     "status": "completed"
    },
    "tags": []
   },
   "outputs": [
    {
     "data": {
      "application/javascript": [
       "parent.postMessage({\"jupyterEvent\": \"custom.exercise_interaction\", \"data\": {\"outcomeType\": 1, \"valueTowardsCompletion\": 0.25, \"interactionType\": 1, \"questionType\": 2, \"questionId\": \"1_AttachData\", \"learnToolsVersion\": \"0.3.4\", \"failureMessage\": \"\", \"exceptionClass\": \"\", \"trace\": \"\"}}, \"*\")"
      ],
      "text/plain": [
       "<IPython.core.display.Javascript object>"
      ]
     },
     "metadata": {},
     "output_type": "display_data"
    },
    {
     "data": {
      "text/markdown": [
       "<span style=\"color:#33cc33\">Correct:</span> \n",
       "\n"
      ],
      "text/plain": [
       "Correct: \n"
      ]
     },
     "metadata": {},
     "output_type": "display_data"
    }
   ],
   "source": [
    "# Check for a dataset with a CSV file\n",
    "step_1.check()"
   ]
  },
  {
   "cell_type": "markdown",
   "id": "6bd0e731",
   "metadata": {
    "papermill": {
     "duration": 0.004374,
     "end_time": "2022-11-15T11:40:53.847268",
     "exception": false,
     "start_time": "2022-11-15T11:40:53.842894",
     "status": "completed"
    },
    "tags": []
   },
   "source": [
    "## Step 2: Specify the filepath\n",
    "\n",
    "Now that the dataset is attached to the notebook, you can find its filepath.  To do this, begin by clicking on the CSV file you'd like to use.  This will open the CSV file in a tab below the notebook.  You can find the filepath towards the top of this new tab.  \n",
    "\n",
    "![ex6_filepath](https://i.imgur.com/fgXQV47.png)\n",
    "\n",
    "After you find the filepath corresponding to your dataset, fill it in as the value for `my_filepath` in the code cell below, and run the code cell to check that you've provided a valid filepath.  For instance, in the case of this example dataset, we would set\n",
    "```\n",
    "my_filepath = \"../input/fivethirtyeight-comic-characters-dataset/dc-wikia-data.csv\"\n",
    "```  \n",
    "Note that **you must enclose the filepath in quotation marks**; otherwise, the code will return an error.\n",
    "\n",
    "Once you've entered the filepath, you can close the tab below the notebook by clicking on the **[X]** at the top of the tab."
   ]
  },
  {
   "cell_type": "code",
   "execution_count": 4,
   "id": "aca0a901",
   "metadata": {
    "execution": {
     "iopub.execute_input": "2022-11-15T11:40:53.859104Z",
     "iopub.status.busy": "2022-11-15T11:40:53.858653Z",
     "iopub.status.idle": "2022-11-15T11:40:53.868620Z",
     "shell.execute_reply": "2022-11-15T11:40:53.867341Z"
    },
    "papermill": {
     "duration": 0.019454,
     "end_time": "2022-11-15T11:40:53.871495",
     "exception": false,
     "start_time": "2022-11-15T11:40:53.852041",
     "status": "completed"
    },
    "tags": []
   },
   "outputs": [
    {
     "data": {
      "application/javascript": [
       "parent.postMessage({\"jupyterEvent\": \"custom.exercise_interaction\", \"data\": {\"outcomeType\": 1, \"valueTowardsCompletion\": 0.25, \"interactionType\": 1, \"questionType\": 2, \"questionId\": \"2_Filepath\", \"learnToolsVersion\": \"0.3.4\", \"failureMessage\": \"\", \"exceptionClass\": \"\", \"trace\": \"\"}}, \"*\")"
      ],
      "text/plain": [
       "<IPython.core.display.Javascript object>"
      ]
     },
     "metadata": {},
     "output_type": "display_data"
    },
    {
     "data": {
      "text/markdown": [
       "<span style=\"color:#33cc33\">Correct:</span> \n",
       "\n"
      ],
      "text/plain": [
       "Correct: \n"
      ]
     },
     "metadata": {},
     "output_type": "display_data"
    }
   ],
   "source": [
    "# Fill in the line below: Specify the path of the CSV file to read\n",
    "my_filepath =\"../input/premier-league/stats.csv\"\n",
    "\n",
    "# Check for a valid filepath to a CSV file in a dataset\n",
    "step_2.check()"
   ]
  },
  {
   "cell_type": "markdown",
   "id": "474b8f12",
   "metadata": {
    "papermill": {
     "duration": 0.004725,
     "end_time": "2022-11-15T11:40:53.881634",
     "exception": false,
     "start_time": "2022-11-15T11:40:53.876909",
     "status": "completed"
    },
    "tags": []
   },
   "source": [
    "## Step 3: Load the data\n",
    "\n",
    "Use the next code cell to load your data file into `my_data`.  Use the filepath that you specified in the previous step."
   ]
  },
  {
   "cell_type": "code",
   "execution_count": 5,
   "id": "c933bbf6",
   "metadata": {
    "execution": {
     "iopub.execute_input": "2022-11-15T11:40:53.898235Z",
     "iopub.status.busy": "2022-11-15T11:40:53.897535Z",
     "iopub.status.idle": "2022-11-15T11:40:53.931903Z",
     "shell.execute_reply": "2022-11-15T11:40:53.930896Z"
    },
    "papermill": {
     "duration": 0.045215,
     "end_time": "2022-11-15T11:40:53.934762",
     "exception": false,
     "start_time": "2022-11-15T11:40:53.889547",
     "status": "completed"
    },
    "tags": []
   },
   "outputs": [
    {
     "data": {
      "application/javascript": [
       "parent.postMessage({\"jupyterEvent\": \"custom.exercise_interaction\", \"data\": {\"outcomeType\": 1, \"valueTowardsCompletion\": 0.25, \"interactionType\": 1, \"questionType\": 2, \"questionId\": \"3_LoadData\", \"learnToolsVersion\": \"0.3.4\", \"failureMessage\": \"\", \"exceptionClass\": \"\", \"trace\": \"\"}}, \"*\")"
      ],
      "text/plain": [
       "<IPython.core.display.Javascript object>"
      ]
     },
     "metadata": {},
     "output_type": "display_data"
    },
    {
     "data": {
      "text/markdown": [
       "<span style=\"color:#33cc33\">Correct:</span> \n",
       "\n"
      ],
      "text/plain": [
       "Correct: \n"
      ]
     },
     "metadata": {},
     "output_type": "display_data"
    }
   ],
   "source": [
    "# Fill in the line below: Read the file into a variable my_data\n",
    "my_data = pd.read_csv(my_filepath,index_col=\"team\")\n",
    "\n",
    "# Check that a dataset has been uploaded into my_data\n",
    "step_3.check()"
   ]
  },
  {
   "cell_type": "markdown",
   "id": "bf1491a6",
   "metadata": {
    "papermill": {
     "duration": 0.007763,
     "end_time": "2022-11-15T11:40:53.950990",
     "exception": false,
     "start_time": "2022-11-15T11:40:53.943227",
     "status": "completed"
    },
    "tags": []
   },
   "source": [
    "**_After the code cell above is marked correct_**, run the code cell below without changes to view the first five rows of the data."
   ]
  },
  {
   "cell_type": "code",
   "execution_count": 6,
   "id": "d638f088",
   "metadata": {
    "execution": {
     "iopub.execute_input": "2022-11-15T11:40:53.969221Z",
     "iopub.status.busy": "2022-11-15T11:40:53.968453Z",
     "iopub.status.idle": "2022-11-15T11:40:54.011679Z",
     "shell.execute_reply": "2022-11-15T11:40:54.010477Z"
    },
    "papermill": {
     "duration": 0.055368,
     "end_time": "2022-11-15T11:40:54.014732",
     "exception": false,
     "start_time": "2022-11-15T11:40:53.959364",
     "status": "completed"
    },
    "tags": []
   },
   "outputs": [
    {
     "data": {
      "text/html": [
       "<div>\n",
       "<style scoped>\n",
       "    .dataframe tbody tr th:only-of-type {\n",
       "        vertical-align: middle;\n",
       "    }\n",
       "\n",
       "    .dataframe tbody tr th {\n",
       "        vertical-align: top;\n",
       "    }\n",
       "\n",
       "    .dataframe thead th {\n",
       "        text-align: right;\n",
       "    }\n",
       "</style>\n",
       "<table border=\"1\" class=\"dataframe\">\n",
       "  <thead>\n",
       "    <tr style=\"text-align: right;\">\n",
       "      <th></th>\n",
       "      <th>wins</th>\n",
       "      <th>losses</th>\n",
       "      <th>goals</th>\n",
       "      <th>total_yel_card</th>\n",
       "      <th>total_red_card</th>\n",
       "      <th>total_scoring_att</th>\n",
       "      <th>ontarget_scoring_att</th>\n",
       "      <th>hit_woodwork</th>\n",
       "      <th>att_hd_goal</th>\n",
       "      <th>att_pen_goal</th>\n",
       "      <th>...</th>\n",
       "      <th>total_cross</th>\n",
       "      <th>corner_taken</th>\n",
       "      <th>touches</th>\n",
       "      <th>big_chance_missed</th>\n",
       "      <th>clearance_off_line</th>\n",
       "      <th>dispossessed</th>\n",
       "      <th>penalty_save</th>\n",
       "      <th>total_high_claim</th>\n",
       "      <th>punches</th>\n",
       "      <th>season</th>\n",
       "    </tr>\n",
       "    <tr>\n",
       "      <th>team</th>\n",
       "      <th></th>\n",
       "      <th></th>\n",
       "      <th></th>\n",
       "      <th></th>\n",
       "      <th></th>\n",
       "      <th></th>\n",
       "      <th></th>\n",
       "      <th></th>\n",
       "      <th></th>\n",
       "      <th></th>\n",
       "      <th></th>\n",
       "      <th></th>\n",
       "      <th></th>\n",
       "      <th></th>\n",
       "      <th></th>\n",
       "      <th></th>\n",
       "      <th></th>\n",
       "      <th></th>\n",
       "      <th></th>\n",
       "      <th></th>\n",
       "      <th></th>\n",
       "    </tr>\n",
       "  </thead>\n",
       "  <tbody>\n",
       "    <tr>\n",
       "      <th>Manchester United</th>\n",
       "      <td>28.0</td>\n",
       "      <td>5.0</td>\n",
       "      <td>83.0</td>\n",
       "      <td>60.0</td>\n",
       "      <td>1.0</td>\n",
       "      <td>698.0</td>\n",
       "      <td>256.0</td>\n",
       "      <td>21.0</td>\n",
       "      <td>12.0</td>\n",
       "      <td>5.0</td>\n",
       "      <td>...</td>\n",
       "      <td>918.0</td>\n",
       "      <td>258.0</td>\n",
       "      <td>25686.0</td>\n",
       "      <td>NaN</td>\n",
       "      <td>1.0</td>\n",
       "      <td>NaN</td>\n",
       "      <td>2.0</td>\n",
       "      <td>37.0</td>\n",
       "      <td>25.0</td>\n",
       "      <td>2006-2007</td>\n",
       "    </tr>\n",
       "    <tr>\n",
       "      <th>Chelsea</th>\n",
       "      <td>24.0</td>\n",
       "      <td>3.0</td>\n",
       "      <td>64.0</td>\n",
       "      <td>62.0</td>\n",
       "      <td>4.0</td>\n",
       "      <td>636.0</td>\n",
       "      <td>216.0</td>\n",
       "      <td>14.0</td>\n",
       "      <td>16.0</td>\n",
       "      <td>3.0</td>\n",
       "      <td>...</td>\n",
       "      <td>897.0</td>\n",
       "      <td>231.0</td>\n",
       "      <td>24010.0</td>\n",
       "      <td>NaN</td>\n",
       "      <td>2.0</td>\n",
       "      <td>NaN</td>\n",
       "      <td>1.0</td>\n",
       "      <td>74.0</td>\n",
       "      <td>22.0</td>\n",
       "      <td>2006-2007</td>\n",
       "    </tr>\n",
       "    <tr>\n",
       "      <th>Liverpool</th>\n",
       "      <td>20.0</td>\n",
       "      <td>10.0</td>\n",
       "      <td>57.0</td>\n",
       "      <td>44.0</td>\n",
       "      <td>0.0</td>\n",
       "      <td>668.0</td>\n",
       "      <td>214.0</td>\n",
       "      <td>15.0</td>\n",
       "      <td>8.0</td>\n",
       "      <td>6.0</td>\n",
       "      <td>...</td>\n",
       "      <td>1107.0</td>\n",
       "      <td>282.0</td>\n",
       "      <td>24150.0</td>\n",
       "      <td>NaN</td>\n",
       "      <td>1.0</td>\n",
       "      <td>NaN</td>\n",
       "      <td>0.0</td>\n",
       "      <td>51.0</td>\n",
       "      <td>27.0</td>\n",
       "      <td>2006-2007</td>\n",
       "    </tr>\n",
       "    <tr>\n",
       "      <th>Arsenal</th>\n",
       "      <td>19.0</td>\n",
       "      <td>8.0</td>\n",
       "      <td>63.0</td>\n",
       "      <td>59.0</td>\n",
       "      <td>3.0</td>\n",
       "      <td>638.0</td>\n",
       "      <td>226.0</td>\n",
       "      <td>19.0</td>\n",
       "      <td>10.0</td>\n",
       "      <td>10.0</td>\n",
       "      <td>...</td>\n",
       "      <td>873.0</td>\n",
       "      <td>278.0</td>\n",
       "      <td>25592.0</td>\n",
       "      <td>NaN</td>\n",
       "      <td>1.0</td>\n",
       "      <td>NaN</td>\n",
       "      <td>0.0</td>\n",
       "      <td>88.0</td>\n",
       "      <td>27.0</td>\n",
       "      <td>2006-2007</td>\n",
       "    </tr>\n",
       "    <tr>\n",
       "      <th>Tottenham Hotspur</th>\n",
       "      <td>17.0</td>\n",
       "      <td>12.0</td>\n",
       "      <td>57.0</td>\n",
       "      <td>48.0</td>\n",
       "      <td>3.0</td>\n",
       "      <td>520.0</td>\n",
       "      <td>184.0</td>\n",
       "      <td>6.0</td>\n",
       "      <td>5.0</td>\n",
       "      <td>6.0</td>\n",
       "      <td>...</td>\n",
       "      <td>796.0</td>\n",
       "      <td>181.0</td>\n",
       "      <td>22200.0</td>\n",
       "      <td>NaN</td>\n",
       "      <td>2.0</td>\n",
       "      <td>NaN</td>\n",
       "      <td>0.0</td>\n",
       "      <td>51.0</td>\n",
       "      <td>24.0</td>\n",
       "      <td>2006-2007</td>\n",
       "    </tr>\n",
       "  </tbody>\n",
       "</table>\n",
       "<p>5 rows × 41 columns</p>\n",
       "</div>"
      ],
      "text/plain": [
       "                   wins  losses  goals  total_yel_card  total_red_card  \\\n",
       "team                                                                     \n",
       "Manchester United  28.0     5.0   83.0            60.0             1.0   \n",
       "Chelsea            24.0     3.0   64.0            62.0             4.0   \n",
       "Liverpool          20.0    10.0   57.0            44.0             0.0   \n",
       "Arsenal            19.0     8.0   63.0            59.0             3.0   \n",
       "Tottenham Hotspur  17.0    12.0   57.0            48.0             3.0   \n",
       "\n",
       "                   total_scoring_att  ontarget_scoring_att  hit_woodwork  \\\n",
       "team                                                                       \n",
       "Manchester United              698.0                 256.0          21.0   \n",
       "Chelsea                        636.0                 216.0          14.0   \n",
       "Liverpool                      668.0                 214.0          15.0   \n",
       "Arsenal                        638.0                 226.0          19.0   \n",
       "Tottenham Hotspur              520.0                 184.0           6.0   \n",
       "\n",
       "                   att_hd_goal  att_pen_goal  ...  total_cross  corner_taken  \\\n",
       "team                                          ...                              \n",
       "Manchester United         12.0           5.0  ...        918.0         258.0   \n",
       "Chelsea                   16.0           3.0  ...        897.0         231.0   \n",
       "Liverpool                  8.0           6.0  ...       1107.0         282.0   \n",
       "Arsenal                   10.0          10.0  ...        873.0         278.0   \n",
       "Tottenham Hotspur          5.0           6.0  ...        796.0         181.0   \n",
       "\n",
       "                   touches  big_chance_missed  clearance_off_line  \\\n",
       "team                                                                \n",
       "Manchester United  25686.0                NaN                 1.0   \n",
       "Chelsea            24010.0                NaN                 2.0   \n",
       "Liverpool          24150.0                NaN                 1.0   \n",
       "Arsenal            25592.0                NaN                 1.0   \n",
       "Tottenham Hotspur  22200.0                NaN                 2.0   \n",
       "\n",
       "                   dispossessed  penalty_save  total_high_claim  punches  \\\n",
       "team                                                                       \n",
       "Manchester United           NaN           2.0              37.0     25.0   \n",
       "Chelsea                     NaN           1.0              74.0     22.0   \n",
       "Liverpool                   NaN           0.0              51.0     27.0   \n",
       "Arsenal                     NaN           0.0              88.0     27.0   \n",
       "Tottenham Hotspur           NaN           0.0              51.0     24.0   \n",
       "\n",
       "                      season  \n",
       "team                          \n",
       "Manchester United  2006-2007  \n",
       "Chelsea            2006-2007  \n",
       "Liverpool          2006-2007  \n",
       "Arsenal            2006-2007  \n",
       "Tottenham Hotspur  2006-2007  \n",
       "\n",
       "[5 rows x 41 columns]"
      ]
     },
     "execution_count": 6,
     "metadata": {},
     "output_type": "execute_result"
    }
   ],
   "source": [
    "# Print the first five rows of the data\n",
    "my_data.head()"
   ]
  },
  {
   "cell_type": "markdown",
   "id": "9c63f9d1",
   "metadata": {
    "papermill": {
     "duration": 0.005464,
     "end_time": "2022-11-15T11:40:54.026050",
     "exception": false,
     "start_time": "2022-11-15T11:40:54.020586",
     "status": "completed"
    },
    "tags": []
   },
   "source": [
    "## Step 4: Visualize the data\n",
    "\n",
    "Use the next code cell to create a figure that tells a story behind your dataset.  You can use any chart type (_line chart, bar chart, heatmap, etc_) of your choosing!"
   ]
  },
  {
   "cell_type": "code",
   "execution_count": 7,
   "id": "bcf58043",
   "metadata": {
    "execution": {
     "iopub.execute_input": "2022-11-15T11:40:54.039375Z",
     "iopub.status.busy": "2022-11-15T11:40:54.038932Z",
     "iopub.status.idle": "2022-11-15T11:40:55.805453Z",
     "shell.execute_reply": "2022-11-15T11:40:55.804083Z"
    },
    "papermill": {
     "duration": 1.776345,
     "end_time": "2022-11-15T11:40:55.808142",
     "exception": false,
     "start_time": "2022-11-15T11:40:54.031797",
     "status": "completed"
    },
    "tags": []
   },
   "outputs": [
    {
     "data": {
      "application/javascript": [
       "parent.postMessage({\"jupyterEvent\": \"custom.exercise_interaction\", \"data\": {\"outcomeType\": 1, \"valueTowardsCompletion\": 0.25, \"interactionType\": 1, \"questionType\": 2, \"questionId\": \"4_CreatePlot\", \"learnToolsVersion\": \"0.3.4\", \"failureMessage\": \"\", \"exceptionClass\": \"\", \"trace\": \"\"}}, \"*\")"
      ],
      "text/plain": [
       "<IPython.core.display.Javascript object>"
      ]
     },
     "metadata": {},
     "output_type": "display_data"
    },
    {
     "data": {
      "text/markdown": [
       "<span style=\"color:#33cc33\">Correct:</span> \n",
       "\n"
      ],
      "text/plain": [
       "Correct: \n"
      ]
     },
     "metadata": {},
     "output_type": "display_data"
    },
    {
     "data": {
      "image/png": "[encoded data removed]",
      "text/plain": [
       "<Figure size 2880x2880 with 1 Axes>"
      ]
     },
     "metadata": {
      "needs_background": "light"
     },
     "output_type": "display_data"
    }
   ],
   "source": [
    "# Create a plot\n",
    "plt.figure(figsize=(40,40))\n",
    "sns.barplot(data=my_data,x=my_data.index,y=my_data[\"wins\"])# Your code here\n",
    "\n",
    "# Check that a figure appears below\n",
    "step_4.check()"
   ]
  },
  {
   "cell_type": "markdown",
   "id": "b776a686",
   "metadata": {
    "papermill": {
     "duration": 0.006255,
     "end_time": "2022-11-15T11:40:55.821529",
     "exception": false,
     "start_time": "2022-11-15T11:40:55.815274",
     "status": "completed"
    },
    "tags": []
   },
   "source": [
    "## Keep going\n",
    "\n",
    "Learn how to use your skills after completing the micro-course to create data visualizations in a **[final tutorial](https://www.kaggle.com/alexisbcook/creating-your-own-notebooks)**."
   ]
  },
  {
   "cell_type": "markdown",
   "id": "45ea749d",
   "metadata": {
    "papermill": {
     "duration": 0.006175,
     "end_time": "2022-11-15T11:40:55.835636",
     "exception": false,
     "start_time": "2022-11-15T11:40:55.829461",
     "status": "completed"
    },
    "tags": []
   },
   "source": [
    "---\n",
    "\n",
    "\n",
    "\n",
    "\n",
    "*Have questions or comments? Visit the [course discussion forum](https://www.kaggle.com/learn/data-visualization/discussion) to chat with other learners.*"
   ]
  }
 ],
 "metadata": {
  "kernelspec": {
   "display_name": "Python 3",
   "language": "python",
   "name": "python3"
  },
  "language_info": {
   "codemirror_mode": {
    "name": "ipython",
    "version": 3
   },
   "file_extension": ".py",
   "mimetype": "text/x-python",
   "name": "python",
   "nbconvert_exporter": "python",
   "pygments_lexer": "ipython3",
   "version": "3.7.12"
  },
  "papermill": {
   "default_parameters": {},
   "duration": 13.856293,
   "end_time": "2022-11-15T11:40:56.665406",
   "environment_variables": {},
   "exception": null,
   "input_path": "__notebook__.ipynb",
   "output_path": "__notebook__.ipynb",
   "parameters": {},
   "start_time": "2022-11-15T11:40:42.809113",
   "version": "2.3.4"
  }
 },
 "nbformat": 4,
 "nbformat_minor": 5
}
