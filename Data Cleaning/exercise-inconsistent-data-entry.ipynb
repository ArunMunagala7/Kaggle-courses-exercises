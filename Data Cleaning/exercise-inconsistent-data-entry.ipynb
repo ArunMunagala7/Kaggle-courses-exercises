{
 "cells": [
  {
   "cell_type": "markdown",
   "id": "4967fc73",
   "metadata": {
    "papermill": {
     "duration": 0.006959,
     "end_time": "2022-11-19T10:01:58.346396",
     "exception": false,
     "start_time": "2022-11-19T10:01:58.339437",
     "status": "completed"
    },
    "tags": []
   },
   "source": [
    "**This notebook is an exercise in the [Data Cleaning](https://www.kaggle.com/learn/data-cleaning) course.  You can reference the tutorial at [this link](https://www.kaggle.com/alexisbcook/inconsistent-data-entry).**\n",
    "\n",
    "---\n"
   ]
  },
  {
   "cell_type": "markdown",
   "id": "f22150a4",
   "metadata": {
    "papermill": {
     "duration": 0.004748,
     "end_time": "2022-11-19T10:01:58.356558",
     "exception": false,
     "start_time": "2022-11-19T10:01:58.351810",
     "status": "completed"
    },
    "tags": []
   },
   "source": [
    "In this exercise, you'll apply what you learned in the **Inconsistent data entry** tutorial.\n",
    "\n",
    "# Setup\n",
    "\n",
    "The questions below will give you feedback on your work. Run the following cell to set up the feedback system."
   ]
  },
  {
   "cell_type": "code",
   "execution_count": 1,
   "id": "d085c9e2",
   "metadata": {
    "execution": {
     "iopub.execute_input": "2022-11-19T10:01:58.369055Z",
     "iopub.status.busy": "2022-11-19T10:01:58.368323Z",
     "iopub.status.idle": "2022-11-19T10:01:58.586626Z",
     "shell.execute_reply": "2022-11-19T10:01:58.585504Z"
    },
    "papermill": {
     "duration": 0.227764,
     "end_time": "2022-11-19T10:01:58.589494",
     "exception": false,
     "start_time": "2022-11-19T10:01:58.361730",
     "status": "completed"
    },
    "tags": []
   },
   "outputs": [
    {
     "name": "stdout",
     "output_type": "stream",
     "text": [
      "Setup Complete\n"
     ]
    }
   ],
   "source": [
    "from learntools.core import binder\n",
    "binder.bind(globals())\n",
    "from learntools.data_cleaning.ex5 import *\n",
    "print(\"Setup Complete\")"
   ]
  },
  {
   "cell_type": "markdown",
   "id": "96e1315a",
   "metadata": {
    "papermill": {
     "duration": 0.004902,
     "end_time": "2022-11-19T10:01:58.599874",
     "exception": false,
     "start_time": "2022-11-19T10:01:58.594972",
     "status": "completed"
    },
    "tags": []
   },
   "source": [
    "# Get our environment set up\n",
    "\n",
    "The first thing we'll need to do is load in the libraries and dataset we'll be using.  We use the same dataset from the tutorial."
   ]
  },
  {
   "cell_type": "code",
   "execution_count": 2,
   "id": "271fe645",
   "metadata": {
    "execution": {
     "iopub.execute_input": "2022-11-19T10:01:58.611948Z",
     "iopub.status.busy": "2022-11-19T10:01:58.611537Z",
     "iopub.status.idle": "2022-11-19T10:01:58.629664Z",
     "shell.execute_reply": "2022-11-19T10:01:58.628690Z"
    },
    "papermill": {
     "duration": 0.028018,
     "end_time": "2022-11-19T10:01:58.632964",
     "exception": false,
     "start_time": "2022-11-19T10:01:58.604946",
     "status": "completed"
    },
    "tags": []
   },
   "outputs": [],
   "source": [
    "# modules we'll use\n",
    "import pandas as pd\n",
    "import numpy as np\n",
    "\n",
    "# helpful modules\n",
    "import fuzzywuzzy\n",
    "from fuzzywuzzy import process\n",
    "import chardet\n",
    "\n",
    "# read in all our data\n",
    "professors = pd.read_csv(\"../input/pakistan-intellectual-capital/pakistan_intellectual_capital.csv\")\n",
    "\n",
    "# set seed for reproducibility\n",
    "np.random.seed(0)"
   ]
  },
  {
   "cell_type": "markdown",
   "id": "9fc7abec",
   "metadata": {
    "papermill": {
     "duration": 0.005677,
     "end_time": "2022-11-19T10:01:58.647949",
     "exception": false,
     "start_time": "2022-11-19T10:01:58.642272",
     "status": "completed"
    },
    "tags": []
   },
   "source": [
    "Next, we'll redo all of the work that we did in the tutorial."
   ]
  },
  {
   "cell_type": "code",
   "execution_count": 3,
   "id": "52f14e0a",
   "metadata": {
    "execution": {
     "iopub.execute_input": "2022-11-19T10:01:58.662660Z",
     "iopub.status.busy": "2022-11-19T10:01:58.662205Z",
     "iopub.status.idle": "2022-11-19T10:01:58.681793Z",
     "shell.execute_reply": "2022-11-19T10:01:58.680578Z"
    },
    "papermill": {
     "duration": 0.029183,
     "end_time": "2022-11-19T10:01:58.684180",
     "exception": false,
     "start_time": "2022-11-19T10:01:58.654997",
     "status": "completed"
    },
    "tags": []
   },
   "outputs": [
    {
     "name": "stdout",
     "output_type": "stream",
     "text": [
      "All done!\n"
     ]
    }
   ],
   "source": [
    "# convert to lower case\n",
    "professors['Country'] = professors['Country'].str.lower()\n",
    "# remove trailing white spaces\n",
    "professors['Country'] = professors['Country'].str.strip()\n",
    "\n",
    "# get the top 10 closest matches to \"south korea\"\n",
    "countries = professors['Country'].unique()\n",
    "matches = fuzzywuzzy.process.extract(\"south korea\", countries, limit=10, scorer=fuzzywuzzy.fuzz.token_sort_ratio)\n",
    "\n",
    "def replace_matches_in_column(df, column, string_to_match, min_ratio = 47):\n",
    "    # get a list of unique strings\n",
    "    strings = df[column].unique()\n",
    "    \n",
    "    # get the top 10 closest matches to our input string\n",
    "    matches = fuzzywuzzy.process.extract(string_to_match, strings, \n",
    "                                         limit=10, scorer=fuzzywuzzy.fuzz.token_sort_ratio)\n",
    "\n",
    "    # only get matches with a ratio > 90\n",
    "    close_matches = [matches[0] for matches in matches if matches[1] >= min_ratio]\n",
    "\n",
    "    # get the rows of all the close matches in our dataframe\n",
    "    rows_with_matches = df[column].isin(close_matches)\n",
    "\n",
    "    # replace all rows with close matches with the input matches \n",
    "    df.loc[rows_with_matches, column] = string_to_match\n",
    "    \n",
    "    # let us know the function's done\n",
    "    print(\"All done!\")\n",
    "    \n",
    "replace_matches_in_column(df=professors, column='Country', string_to_match=\"south korea\")\n",
    "countries = professors['Country'].unique()"
   ]
  },
  {
   "cell_type": "markdown",
   "id": "da7739b0",
   "metadata": {
    "papermill": {
     "duration": 0.005308,
     "end_time": "2022-11-19T10:01:58.695125",
     "exception": false,
     "start_time": "2022-11-19T10:01:58.689817",
     "status": "completed"
    },
    "tags": []
   },
   "source": [
    "# 1) Examine another column\n",
    "\n",
    "Write code below to take a look at all the unique values in the \"Graduated from\" column."
   ]
  },
  {
   "cell_type": "code",
   "execution_count": 4,
   "id": "81b0eaaa",
   "metadata": {
    "execution": {
     "iopub.execute_input": "2022-11-19T10:01:58.709799Z",
     "iopub.status.busy": "2022-11-19T10:01:58.708951Z",
     "iopub.status.idle": "2022-11-19T10:01:58.715355Z",
     "shell.execute_reply": "2022-11-19T10:01:58.714412Z"
    },
    "papermill": {
     "duration": 0.017525,
     "end_time": "2022-11-19T10:01:58.718139",
     "exception": false,
     "start_time": "2022-11-19T10:01:58.700614",
     "status": "completed"
    },
    "tags": []
   },
   "outputs": [],
   "source": [
    "# TODO: Your code here\n",
    "unis = professors['Graduated from'].unique()"
   ]
  },
  {
   "cell_type": "markdown",
   "id": "93767dab",
   "metadata": {
    "papermill": {
     "duration": 0.007279,
     "end_time": "2022-11-19T10:01:58.731335",
     "exception": false,
     "start_time": "2022-11-19T10:01:58.724056",
     "status": "completed"
    },
    "tags": []
   },
   "source": [
    "Do you notice any inconsistencies in the data?  Can any of the inconsistencies in the data be fixed by removing white spaces at the beginning and end of cells?\n",
    "\n",
    "Once you have answered these questions, run the code cell below to get credit for your work."
   ]
  },
  {
   "cell_type": "code",
   "execution_count": 5,
   "id": "57545810",
   "metadata": {
    "execution": {
     "iopub.execute_input": "2022-11-19T10:01:58.744611Z",
     "iopub.status.busy": "2022-11-19T10:01:58.743856Z",
     "iopub.status.idle": "2022-11-19T10:01:58.758110Z",
     "shell.execute_reply": "2022-11-19T10:01:58.756971Z"
    },
    "papermill": {
     "duration": 0.024112,
     "end_time": "2022-11-19T10:01:58.760945",
     "exception": false,
     "start_time": "2022-11-19T10:01:58.736833",
     "status": "completed"
    },
    "tags": []
   },
   "outputs": [
    {
     "data": {
      "application/javascript": [
       "parent.postMessage({\"jupyterEvent\": \"custom.exercise_interaction\", \"data\": {\"outcomeType\": 1, \"valueTowardsCompletion\": 0.3333333333333333, \"interactionType\": 1, \"questionType\": 4, \"questionId\": \"1_ExamineProvince\", \"learnToolsVersion\": \"0.3.4\", \"failureMessage\": \"\", \"exceptionClass\": \"\", \"trace\": \"\"}}, \"*\")"
      ],
      "text/plain": [
       "<IPython.core.display.Javascript object>"
      ]
     },
     "metadata": {},
     "output_type": "display_data"
    },
    {
     "data": {
      "text/markdown": [
       "<span style=\"color:#33cc33\">Correct:</span> \n",
       "\n",
       "There are inconsistencies that can be fixed by removing white spaces at the beginning and end of cells.  For instance, \"University of Central Florida\" and \" University of Central Florida\" both appear in the column."
      ],
      "text/plain": [
       "Correct: \n",
       "\n",
       "There are inconsistencies that can be fixed by removing white spaces at the beginning and end of cells.  For instance, \"University of Central Florida\" and \" University of Central Florida\" both appear in the column."
      ]
     },
     "metadata": {},
     "output_type": "display_data"
    }
   ],
   "source": [
    "# Check your answer (Run this code cell to receive credit!)\n",
    "q1.check()"
   ]
  },
  {
   "cell_type": "code",
   "execution_count": 6,
   "id": "58eda124",
   "metadata": {
    "execution": {
     "iopub.execute_input": "2022-11-19T10:01:58.774569Z",
     "iopub.status.busy": "2022-11-19T10:01:58.774185Z",
     "iopub.status.idle": "2022-11-19T10:01:58.782731Z",
     "shell.execute_reply": "2022-11-19T10:01:58.781752Z"
    },
    "papermill": {
     "duration": 0.018071,
     "end_time": "2022-11-19T10:01:58.784810",
     "exception": false,
     "start_time": "2022-11-19T10:01:58.766739",
     "status": "completed"
    },
    "tags": []
   },
   "outputs": [
    {
     "data": {
      "application/javascript": [
       "parent.postMessage({\"jupyterEvent\": \"custom.exercise_interaction\", \"data\": {\"interactionType\": 2, \"questionType\": 4, \"questionId\": \"1_ExamineProvince\", \"learnToolsVersion\": \"0.3.4\", \"valueTowardsCompletion\": 0.0, \"failureMessage\": \"\", \"exceptionClass\": \"\", \"trace\": \"\", \"outcomeType\": 4}}, \"*\")"
      ],
      "text/plain": [
       "<IPython.core.display.Javascript object>"
      ]
     },
     "metadata": {},
     "output_type": "display_data"
    },
    {
     "data": {
      "text/markdown": [
       "<span style=\"color:#3366cc\">Hint:</span> Use `unis = professors['Graduated from'].unique()` to take a look at the unique values in the 'Graduated from' column. You may find it useful to sort the data before printing it."
      ],
      "text/plain": [
       "Hint: Use `unis = professors['Graduated from'].unique()` to take a look at the unique values in the 'Graduated from' column. You may find it useful to sort the data before printing it."
      ]
     },
     "metadata": {},
     "output_type": "display_data"
    }
   ],
   "source": [
    "# Line below will give you a hint\n",
    "q1.hint()"
   ]
  },
  {
   "cell_type": "markdown",
   "id": "3c9c687b",
   "metadata": {
    "papermill": {
     "duration": 0.005474,
     "end_time": "2022-11-19T10:01:58.796198",
     "exception": false,
     "start_time": "2022-11-19T10:01:58.790724",
     "status": "completed"
    },
    "tags": []
   },
   "source": [
    "# 2) Do some text pre-processing\n",
    "\n",
    "Convert every entry in the \"Graduated from\" column in the `professors` DataFrame to remove white spaces at the beginning and end of cells."
   ]
  },
  {
   "cell_type": "code",
   "execution_count": 7,
   "id": "1135a897",
   "metadata": {
    "execution": {
     "iopub.execute_input": "2022-11-19T10:01:58.810016Z",
     "iopub.status.busy": "2022-11-19T10:01:58.809194Z",
     "iopub.status.idle": "2022-11-19T10:01:58.822928Z",
     "shell.execute_reply": "2022-11-19T10:01:58.821747Z"
    },
    "papermill": {
     "duration": 0.023657,
     "end_time": "2022-11-19T10:01:58.825562",
     "exception": false,
     "start_time": "2022-11-19T10:01:58.801905",
     "status": "completed"
    },
    "tags": []
   },
   "outputs": [
    {
     "data": {
      "application/javascript": [
       "parent.postMessage({\"jupyterEvent\": \"custom.exercise_interaction\", \"data\": {\"outcomeType\": 1, \"valueTowardsCompletion\": 0.3333333333333333, \"interactionType\": 1, \"questionType\": 1, \"questionId\": \"2_TextProcessing\", \"learnToolsVersion\": \"0.3.4\", \"failureMessage\": \"\", \"exceptionClass\": \"\", \"trace\": \"\"}}, \"*\")"
      ],
      "text/plain": [
       "<IPython.core.display.Javascript object>"
      ]
     },
     "metadata": {},
     "output_type": "display_data"
    },
    {
     "data": {
      "text/markdown": [
       "<span style=\"color:#33cc33\">Correct</span>"
      ],
      "text/plain": [
       "Correct"
      ]
     },
     "metadata": {},
     "output_type": "display_data"
    }
   ],
   "source": [
    "# TODO: Your code here\n",
    "professors['Graduated from'] = professors['Graduated from'].str.strip()\n",
    "\n",
    "# Check your answer\n",
    "q2.check()"
   ]
  },
  {
   "cell_type": "code",
   "execution_count": 8,
   "id": "f3efa4fd",
   "metadata": {
    "execution": {
     "iopub.execute_input": "2022-11-19T10:01:58.845118Z",
     "iopub.status.busy": "2022-11-19T10:01:58.843804Z",
     "iopub.status.idle": "2022-11-19T10:01:58.859401Z",
     "shell.execute_reply": "2022-11-19T10:01:58.858296Z"
    },
    "papermill": {
     "duration": 0.029672,
     "end_time": "2022-11-19T10:01:58.862803",
     "exception": false,
     "start_time": "2022-11-19T10:01:58.833131",
     "status": "completed"
    },
    "tags": []
   },
   "outputs": [
    {
     "data": {
      "application/javascript": [
       "parent.postMessage({\"jupyterEvent\": \"custom.exercise_interaction\", \"data\": {\"interactionType\": 2, \"questionType\": 1, \"questionId\": \"2_TextProcessing\", \"learnToolsVersion\": \"0.3.4\", \"valueTowardsCompletion\": 0.0, \"failureMessage\": \"\", \"exceptionClass\": \"\", \"trace\": \"\", \"outcomeType\": 4}}, \"*\")"
      ],
      "text/plain": [
       "<IPython.core.display.Javascript object>"
      ]
     },
     "metadata": {},
     "output_type": "display_data"
    },
    {
     "data": {
      "text/markdown": [
       "<span style=\"color:#3366cc\">Hint:</span> In the tutorial, you did the same operation on a different column."
      ],
      "text/plain": [
       "Hint: In the tutorial, you did the same operation on a different column."
      ]
     },
     "metadata": {},
     "output_type": "display_data"
    },
    {
     "data": {
      "application/javascript": [
       "parent.postMessage({\"jupyterEvent\": \"custom.exercise_interaction\", \"data\": {\"interactionType\": 3, \"questionType\": 1, \"questionId\": \"2_TextProcessing\", \"learnToolsVersion\": \"0.3.4\", \"valueTowardsCompletion\": 0.0, \"failureMessage\": \"\", \"exceptionClass\": \"\", \"trace\": \"\", \"outcomeType\": 4}}, \"*\")"
      ],
      "text/plain": [
       "<IPython.core.display.Javascript object>"
      ]
     },
     "metadata": {},
     "output_type": "display_data"
    },
    {
     "data": {
      "text/markdown": [
       "<span style=\"color:#33cc99\">Solution:</span> \n",
       "```python\n",
       "professors['Graduated from'] = professors['Graduated from'].str.strip()\n",
       "\n",
       "```"
      ],
      "text/plain": [
       "Solution: \n",
       "```python\n",
       "professors['Graduated from'] = professors['Graduated from'].str.strip()\n",
       "\n",
       "```"
      ]
     },
     "metadata": {},
     "output_type": "display_data"
    }
   ],
   "source": [
    "# Lines below will give you a hint or solution code\n",
    "q2.hint()\n",
    "q2.solution()"
   ]
  },
  {
   "cell_type": "markdown",
   "id": "94279512",
   "metadata": {
    "papermill": {
     "duration": 0.010041,
     "end_time": "2022-11-19T10:01:58.883542",
     "exception": false,
     "start_time": "2022-11-19T10:01:58.873501",
     "status": "completed"
    },
    "tags": []
   },
   "source": [
    "# 3) Continue working with countries\n",
    "\n",
    "In the tutorial, we focused on cleaning up inconsistencies in the \"Country\" column.  Run the code cell below to view the list of unique values that we ended with."
   ]
  },
  {
   "cell_type": "code",
   "execution_count": 9,
   "id": "3056cbd9",
   "metadata": {
    "execution": {
     "iopub.execute_input": "2022-11-19T10:01:58.905291Z",
     "iopub.status.busy": "2022-11-19T10:01:58.904886Z",
     "iopub.status.idle": "2022-11-19T10:01:58.913055Z",
     "shell.execute_reply": "2022-11-19T10:01:58.911886Z"
    },
    "papermill": {
     "duration": 0.02239,
     "end_time": "2022-11-19T10:01:58.915796",
     "exception": false,
     "start_time": "2022-11-19T10:01:58.893406",
     "status": "completed"
    },
    "tags": []
   },
   "outputs": [
    {
     "data": {
      "text/plain": [
       "array(['australia', 'austria', 'canada', 'china', 'finland', 'france',\n",
       "       'germany', 'greece', 'hongkong', 'ireland', 'italy', 'japan',\n",
       "       'macau', 'malaysia', 'mauritius', 'netherland', 'new zealand',\n",
       "       'norway', 'pakistan', 'portugal', 'russian federation',\n",
       "       'saudi arabia', 'scotland', 'singapore', 'south korea', 'spain',\n",
       "       'sweden', 'thailand', 'turkey', 'uk', 'urbana', 'usa', 'usofa'],\n",
       "      dtype=object)"
      ]
     },
     "execution_count": 9,
     "metadata": {},
     "output_type": "execute_result"
    }
   ],
   "source": [
    "# get all the unique values in the 'City' column\n",
    "countries = professors['Country'].unique()\n",
    "\n",
    "# sort them alphabetically and then take a closer look\n",
    "countries.sort()\n",
    "countries"
   ]
  },
  {
   "cell_type": "markdown",
   "id": "283c89c1",
   "metadata": {
    "papermill": {
     "duration": 0.008366,
     "end_time": "2022-11-19T10:01:58.934391",
     "exception": false,
     "start_time": "2022-11-19T10:01:58.926025",
     "status": "completed"
    },
    "tags": []
   },
   "source": [
    "Take another look at the \"Country\" column and see if there's any more data cleaning we need to do.\n",
    "\n",
    "It looks like 'usa' and 'usofa' should be the same country.  Correct the \"Country\" column in the dataframe to replace 'usofa' with 'usa'.\n",
    "\n",
    "**Use the most recent version of the DataFrame (with the whitespaces at the beginning and end of cells removed) from question 2.**"
   ]
  },
  {
   "cell_type": "code",
   "execution_count": 10,
   "id": "0db6254f",
   "metadata": {
    "execution": {
     "iopub.execute_input": "2022-11-19T10:01:58.950225Z",
     "iopub.status.busy": "2022-11-19T10:01:58.949802Z",
     "iopub.status.idle": "2022-11-19T10:01:58.964778Z",
     "shell.execute_reply": "2022-11-19T10:01:58.963098Z"
    },
    "papermill": {
     "duration": 0.026376,
     "end_time": "2022-11-19T10:01:58.967356",
     "exception": false,
     "start_time": "2022-11-19T10:01:58.940980",
     "status": "completed"
    },
    "tags": []
   },
   "outputs": [
    {
     "name": "stdout",
     "output_type": "stream",
     "text": [
      "All done!\n"
     ]
    },
    {
     "data": {
      "application/javascript": [
       "parent.postMessage({\"jupyterEvent\": \"custom.exercise_interaction\", \"data\": {\"outcomeType\": 1, \"valueTowardsCompletion\": 0.3333333333333333, \"interactionType\": 1, \"questionType\": 1, \"questionId\": \"3_WorkingWithCities\", \"learnToolsVersion\": \"0.3.4\", \"failureMessage\": \"\", \"exceptionClass\": \"\", \"trace\": \"\"}}, \"*\")"
      ],
      "text/plain": [
       "<IPython.core.display.Javascript object>"
      ]
     },
     "metadata": {},
     "output_type": "display_data"
    },
    {
     "data": {
      "text/markdown": [
       "<span style=\"color:#33cc33\">Correct</span>"
      ],
      "text/plain": [
       "Correct"
      ]
     },
     "metadata": {},
     "output_type": "display_data"
    }
   ],
   "source": [
    "# TODO: Your code here!\n",
    "matches = fuzzywuzzy.process.extract(\"usa\", countries, limit=10, scorer=fuzzywuzzy.fuzz.token_sort_ratio)\n",
    "replace_matches_in_column(df=professors, column='Country', string_to_match=\"usa\", min_ratio=74)\n",
    "\n",
    "# Check your answer\n",
    "q3.check()"
   ]
  },
  {
   "cell_type": "code",
   "execution_count": 11,
   "id": "6b633efc",
   "metadata": {
    "execution": {
     "iopub.execute_input": "2022-11-19T10:01:58.982832Z",
     "iopub.status.busy": "2022-11-19T10:01:58.982400Z",
     "iopub.status.idle": "2022-11-19T10:01:58.994521Z",
     "shell.execute_reply": "2022-11-19T10:01:58.993534Z"
    },
    "papermill": {
     "duration": 0.022413,
     "end_time": "2022-11-19T10:01:58.996533",
     "exception": false,
     "start_time": "2022-11-19T10:01:58.974120",
     "status": "completed"
    },
    "tags": []
   },
   "outputs": [
    {
     "data": {
      "application/javascript": [
       "parent.postMessage({\"jupyterEvent\": \"custom.exercise_interaction\", \"data\": {\"interactionType\": 2, \"questionType\": 1, \"questionId\": \"3_WorkingWithCities\", \"learnToolsVersion\": \"0.3.4\", \"valueTowardsCompletion\": 0.0, \"failureMessage\": \"\", \"exceptionClass\": \"\", \"trace\": \"\", \"outcomeType\": 4}}, \"*\")"
      ],
      "text/plain": [
       "<IPython.core.display.Javascript object>"
      ]
     },
     "metadata": {},
     "output_type": "display_data"
    },
    {
     "data": {
      "text/markdown": [
       "<span style=\"color:#3366cc\">Hint:</span> Use the `replace_matches_in_column()` function defined above."
      ],
      "text/plain": [
       "Hint: Use the `replace_matches_in_column()` function defined above."
      ]
     },
     "metadata": {},
     "output_type": "display_data"
    },
    {
     "data": {
      "application/javascript": [
       "parent.postMessage({\"jupyterEvent\": \"custom.exercise_interaction\", \"data\": {\"interactionType\": 3, \"questionType\": 1, \"questionId\": \"3_WorkingWithCities\", \"learnToolsVersion\": \"0.3.4\", \"valueTowardsCompletion\": 0.0, \"failureMessage\": \"\", \"exceptionClass\": \"\", \"trace\": \"\", \"outcomeType\": 4}}, \"*\")"
      ],
      "text/plain": [
       "<IPython.core.display.Javascript object>"
      ]
     },
     "metadata": {},
     "output_type": "display_data"
    },
    {
     "data": {
      "text/markdown": [
       "<span style=\"color:#33cc99\">Solution:</span> \n",
       "```python\n",
       "matches = fuzzywuzzy.process.extract(\"usa\", countries, limit=10, scorer=fuzzywuzzy.fuzz.token_sort_ratio)\n",
       "replace_matches_in_column(df=professors, column='Country', string_to_match=\"usa\", min_ratio=70)\n",
       "\n",
       "```"
      ],
      "text/plain": [
       "Solution: \n",
       "```python\n",
       "matches = fuzzywuzzy.process.extract(\"usa\", countries, limit=10, scorer=fuzzywuzzy.fuzz.token_sort_ratio)\n",
       "replace_matches_in_column(df=professors, column='Country', string_to_match=\"usa\", min_ratio=70)\n",
       "\n",
       "```"
      ]
     },
     "metadata": {},
     "output_type": "display_data"
    }
   ],
   "source": [
    "# Lines below will give you a hint or solution code\n",
    "q3.hint()\n",
    "q3.solution()"
   ]
  },
  {
   "cell_type": "markdown",
   "id": "2ecb1486",
   "metadata": {
    "papermill": {
     "duration": 0.006982,
     "end_time": "2022-11-19T10:01:59.010584",
     "exception": false,
     "start_time": "2022-11-19T10:01:59.003602",
     "status": "completed"
    },
    "tags": []
   },
   "source": [
    "# Congratulations!\n",
    "\n",
    "Congratulations for completing the **Data Cleaning** course on Kaggle Learn!\n",
    "\n",
    "To practice your new skills, you're encouraged to download and investigate some of [Kaggle's Datasets](https://www.kaggle.com/datasets)."
   ]
  },
  {
   "cell_type": "markdown",
   "id": "a0ec8acf",
   "metadata": {
    "papermill": {
     "duration": 0.007015,
     "end_time": "2022-11-19T10:01:59.024801",
     "exception": false,
     "start_time": "2022-11-19T10:01:59.017786",
     "status": "completed"
    },
    "tags": []
   },
   "source": [
    "---\n",
    "\n",
    "\n",
    "\n",
    "\n",
    "*Have questions or comments? Visit the [course discussion forum](https://www.kaggle.com/learn/data-cleaning/discussion) to chat with other learners.*"
   ]
  }
 ],
 "metadata": {
  "kernelspec": {
   "display_name": "Python 3",
   "language": "python",
   "name": "python3"
  },
  "language_info": {
   "codemirror_mode": {
    "name": "ipython",
    "version": 3
   },
   "file_extension": ".py",
   "mimetype": "text/x-python",
   "name": "python",
   "nbconvert_exporter": "python",
   "pygments_lexer": "ipython3",
   "version": "3.7.12"
  },
  "papermill": {
   "default_parameters": {},
   "duration": 10.11885,
   "end_time": "2022-11-19T10:01:59.654652",
   "environment_variables": {},
   "exception": null,
   "input_path": "__notebook__.ipynb",
   "output_path": "__notebook__.ipynb",
   "parameters": {},
   "start_time": "2022-11-19T10:01:49.535802",
   "version": "2.3.4"
  }
 },
 "nbformat": 4,
 "nbformat_minor": 5
}
