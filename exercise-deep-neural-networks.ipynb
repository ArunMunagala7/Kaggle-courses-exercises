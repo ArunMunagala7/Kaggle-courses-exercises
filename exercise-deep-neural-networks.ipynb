{
 "cells": [
  {
   "cell_type": "markdown",
   "id": "d134507e",
   "metadata": {
    "papermill": {
     "duration": 0.005741,
     "end_time": "2022-12-30T09:26:20.911776",
     "exception": false,
     "start_time": "2022-12-30T09:26:20.906035",
     "status": "completed"
    },
    "tags": []
   },
   "source": [
    "**This notebook is an exercise in the [Intro to Deep Learning](https://www.kaggle.com/learn/intro-to-deep-learning) course.  You can reference the tutorial at [this link](https://www.kaggle.com/ryanholbrook/deep-neural-networks).**\n",
    "\n",
    "---\n"
   ]
  },
  {
   "cell_type": "markdown",
   "id": "38758216",
   "metadata": {
    "papermill": {
     "duration": 0.004393,
     "end_time": "2022-12-30T09:26:20.921129",
     "exception": false,
     "start_time": "2022-12-30T09:26:20.916736",
     "status": "completed"
    },
    "tags": []
   },
   "source": [
    "# Introduction #\n",
    "\n",
    "In the tutorial, we saw how to build deep neural networks by stacking layers inside a `Sequential` model. By adding an *activation function* after the hidden layers, we gave the network the ability to learn more complex (non-linear) relationships in the data.\n",
    "\n",
    "In these exercises, you'll build a neural network with several hidden layers and then explore some activation functions beyond ReLU. Run this next cell to set everything up!"
   ]
  },
  {
   "cell_type": "code",
   "execution_count": 1,
   "id": "2a6a8c50",
   "metadata": {
    "execution": {
     "iopub.execute_input": "2022-12-30T09:26:20.933238Z",
     "iopub.status.busy": "2022-12-30T09:26:20.931889Z",
     "iopub.status.idle": "2022-12-30T09:26:26.679548Z",
     "shell.execute_reply": "2022-12-30T09:26:26.678024Z"
    },
    "papermill": {
     "duration": 5.757262,
     "end_time": "2022-12-30T09:26:26.683063",
     "exception": false,
     "start_time": "2022-12-30T09:26:20.925801",
     "status": "completed"
    },
    "tags": []
   },
   "outputs": [],
   "source": [
    "import tensorflow as tf\n",
    "\n",
    "# Setup plotting\n",
    "import matplotlib.pyplot as plt\n",
    "\n",
    "plt.style.use('seaborn-whitegrid')\n",
    "# Set Matplotlib defaults\n",
    "plt.rc('figure', autolayout=True)\n",
    "plt.rc('axes', labelweight='bold', labelsize='large',\n",
    "       titleweight='bold', titlesize=18, titlepad=10)\n",
    "\n",
    "# Setup feedback system\n",
    "from learntools.core import binder\n",
    "binder.bind(globals())\n",
    "from learntools.deep_learning_intro.ex2 import *"
   ]
  },
  {
   "cell_type": "markdown",
   "id": "1ca4bb53",
   "metadata": {
    "papermill": {
     "duration": 0.004536,
     "end_time": "2022-12-30T09:26:26.692767",
     "exception": false,
     "start_time": "2022-12-30T09:26:26.688231",
     "status": "completed"
    },
    "tags": []
   },
   "source": [
    "In the *Concrete* dataset, your task is to predict the compressive strength of concrete manufactured according to various recipes.\n",
    "\n",
    "Run the next code cell without changes to load the dataset."
   ]
  },
  {
   "cell_type": "code",
   "execution_count": 2,
   "id": "3895c725",
   "metadata": {
    "execution": {
     "iopub.execute_input": "2022-12-30T09:26:26.705500Z",
     "iopub.status.busy": "2022-12-30T09:26:26.704309Z",
     "iopub.status.idle": "2022-12-30T09:26:26.750119Z",
     "shell.execute_reply": "2022-12-30T09:26:26.748617Z"
    },
    "papermill": {
     "duration": 0.056413,
     "end_time": "2022-12-30T09:26:26.754034",
     "exception": false,
     "start_time": "2022-12-30T09:26:26.697621",
     "status": "completed"
    },
    "tags": []
   },
   "outputs": [
    {
     "data": {
      "text/html": [
       "<div>\n",
       "<style scoped>\n",
       "    .dataframe tbody tr th:only-of-type {\n",
       "        vertical-align: middle;\n",
       "    }\n",
       "\n",
       "    .dataframe tbody tr th {\n",
       "        vertical-align: top;\n",
       "    }\n",
       "\n",
       "    .dataframe thead th {\n",
       "        text-align: right;\n",
       "    }\n",
       "</style>\n",
       "<table border=\"1\" class=\"dataframe\">\n",
       "  <thead>\n",
       "    <tr style=\"text-align: right;\">\n",
       "      <th></th>\n",
       "      <th>Cement</th>\n",
       "      <th>BlastFurnaceSlag</th>\n",
       "      <th>FlyAsh</th>\n",
       "      <th>Water</th>\n",
       "      <th>Superplasticizer</th>\n",
       "      <th>CoarseAggregate</th>\n",
       "      <th>FineAggregate</th>\n",
       "      <th>Age</th>\n",
       "      <th>CompressiveStrength</th>\n",
       "    </tr>\n",
       "  </thead>\n",
       "  <tbody>\n",
       "    <tr>\n",
       "      <th>0</th>\n",
       "      <td>540.0</td>\n",
       "      <td>0.0</td>\n",
       "      <td>0.0</td>\n",
       "      <td>162.0</td>\n",
       "      <td>2.5</td>\n",
       "      <td>1040.0</td>\n",
       "      <td>676.0</td>\n",
       "      <td>28</td>\n",
       "      <td>79.99</td>\n",
       "    </tr>\n",
       "    <tr>\n",
       "      <th>1</th>\n",
       "      <td>540.0</td>\n",
       "      <td>0.0</td>\n",
       "      <td>0.0</td>\n",
       "      <td>162.0</td>\n",
       "      <td>2.5</td>\n",
       "      <td>1055.0</td>\n",
       "      <td>676.0</td>\n",
       "      <td>28</td>\n",
       "      <td>61.89</td>\n",
       "    </tr>\n",
       "    <tr>\n",
       "      <th>2</th>\n",
       "      <td>332.5</td>\n",
       "      <td>142.5</td>\n",
       "      <td>0.0</td>\n",
       "      <td>228.0</td>\n",
       "      <td>0.0</td>\n",
       "      <td>932.0</td>\n",
       "      <td>594.0</td>\n",
       "      <td>270</td>\n",
       "      <td>40.27</td>\n",
       "    </tr>\n",
       "    <tr>\n",
       "      <th>3</th>\n",
       "      <td>332.5</td>\n",
       "      <td>142.5</td>\n",
       "      <td>0.0</td>\n",
       "      <td>228.0</td>\n",
       "      <td>0.0</td>\n",
       "      <td>932.0</td>\n",
       "      <td>594.0</td>\n",
       "      <td>365</td>\n",
       "      <td>41.05</td>\n",
       "    </tr>\n",
       "    <tr>\n",
       "      <th>4</th>\n",
       "      <td>198.6</td>\n",
       "      <td>132.4</td>\n",
       "      <td>0.0</td>\n",
       "      <td>192.0</td>\n",
       "      <td>0.0</td>\n",
       "      <td>978.4</td>\n",
       "      <td>825.5</td>\n",
       "      <td>360</td>\n",
       "      <td>44.30</td>\n",
       "    </tr>\n",
       "  </tbody>\n",
       "</table>\n",
       "</div>"
      ],
      "text/plain": [
       "   Cement  BlastFurnaceSlag  FlyAsh  Water  Superplasticizer  CoarseAggregate  \\\n",
       "0   540.0               0.0     0.0  162.0               2.5           1040.0   \n",
       "1   540.0               0.0     0.0  162.0               2.5           1055.0   \n",
       "2   332.5             142.5     0.0  228.0               0.0            932.0   \n",
       "3   332.5             142.5     0.0  228.0               0.0            932.0   \n",
       "4   198.6             132.4     0.0  192.0               0.0            978.4   \n",
       "\n",
       "   FineAggregate  Age  CompressiveStrength  \n",
       "0          676.0   28                79.99  \n",
       "1          676.0   28                61.89  \n",
       "2          594.0  270                40.27  \n",
       "3          594.0  365                41.05  \n",
       "4          825.5  360                44.30  "
      ]
     },
     "execution_count": 2,
     "metadata": {},
     "output_type": "execute_result"
    }
   ],
   "source": [
    "import pandas as pd\n",
    "\n",
    "concrete = pd.read_csv('../input/dl-course-data/concrete.csv')\n",
    "concrete.head()"
   ]
  },
  {
   "cell_type": "code",
   "execution_count": 3,
   "id": "d097588e",
   "metadata": {
    "execution": {
     "iopub.execute_input": "2022-12-30T09:26:26.766573Z",
     "iopub.status.busy": "2022-12-30T09:26:26.766150Z",
     "iopub.status.idle": "2022-12-30T09:26:26.773034Z",
     "shell.execute_reply": "2022-12-30T09:26:26.772186Z"
    },
    "papermill": {
     "duration": 0.015999,
     "end_time": "2022-12-30T09:26:26.775517",
     "exception": false,
     "start_time": "2022-12-30T09:26:26.759518",
     "status": "completed"
    },
    "tags": []
   },
   "outputs": [
    {
     "data": {
      "text/plain": [
       "(1030, 9)"
      ]
     },
     "execution_count": 3,
     "metadata": {},
     "output_type": "execute_result"
    }
   ],
   "source": [
    "concrete.shape"
   ]
  },
  {
   "cell_type": "markdown",
   "id": "fdaca5fc",
   "metadata": {
    "papermill": {
     "duration": 0.004815,
     "end_time": "2022-12-30T09:26:26.785502",
     "exception": false,
     "start_time": "2022-12-30T09:26:26.780687",
     "status": "completed"
    },
    "tags": []
   },
   "source": [
    "# 1) Input Shape #\n",
    "\n",
    "The target for this task is the column `'CompressiveStrength'`. The remaining columns are the features we'll use as inputs.\n",
    "\n",
    "What would be the input shape for this dataset?"
   ]
  },
  {
   "cell_type": "code",
   "execution_count": 4,
   "id": "19401af4",
   "metadata": {
    "execution": {
     "iopub.execute_input": "2022-12-30T09:26:26.798369Z",
     "iopub.status.busy": "2022-12-30T09:26:26.797451Z",
     "iopub.status.idle": "2022-12-30T09:26:26.806245Z",
     "shell.execute_reply": "2022-12-30T09:26:26.805127Z"
    },
    "lines_to_next_cell": 2,
    "papermill": {
     "duration": 0.018122,
     "end_time": "2022-12-30T09:26:26.808625",
     "exception": false,
     "start_time": "2022-12-30T09:26:26.790503",
     "status": "completed"
    },
    "tags": []
   },
   "outputs": [
    {
     "data": {
      "application/javascript": [
       "parent.postMessage({\"jupyterEvent\": \"custom.exercise_interaction\", \"data\": {\"outcomeType\": 1, \"valueTowardsCompletion\": 0.3333333333333333, \"interactionType\": 1, \"questionType\": 2, \"questionId\": \"1_Q1\", \"learnToolsVersion\": \"0.3.4\", \"failureMessage\": \"\", \"exceptionClass\": \"\", \"trace\": \"\"}}, \"*\")"
      ],
      "text/plain": [
       "<IPython.core.display.Javascript object>"
      ]
     },
     "metadata": {},
     "output_type": "display_data"
    },
    {
     "data": {
      "text/markdown": [
       "<span style=\"color:#33cc33\">Correct</span>"
      ],
      "text/plain": [
       "Correct"
      ]
     },
     "metadata": {},
     "output_type": "display_data"
    }
   ],
   "source": [
    "# YOUR CODE HERE\n",
    "input_shape = [8]\n",
    "\n",
    "# Check your answer\n",
    "q_1.check()"
   ]
  },
  {
   "cell_type": "code",
   "execution_count": 5,
   "id": "6ce949c4",
   "metadata": {
    "execution": {
     "iopub.execute_input": "2022-12-30T09:26:26.821485Z",
     "iopub.status.busy": "2022-12-30T09:26:26.820992Z",
     "iopub.status.idle": "2022-12-30T09:26:26.835488Z",
     "shell.execute_reply": "2022-12-30T09:26:26.834038Z"
    },
    "papermill": {
     "duration": 0.024209,
     "end_time": "2022-12-30T09:26:26.838090",
     "exception": false,
     "start_time": "2022-12-30T09:26:26.813881",
     "status": "completed"
    },
    "tags": []
   },
   "outputs": [
    {
     "data": {
      "application/javascript": [
       "parent.postMessage({\"jupyterEvent\": \"custom.exercise_interaction\", \"data\": {\"interactionType\": 2, \"questionType\": 2, \"questionId\": \"1_Q1\", \"learnToolsVersion\": \"0.3.4\", \"valueTowardsCompletion\": 0.0, \"failureMessage\": \"\", \"exceptionClass\": \"\", \"trace\": \"\", \"outcomeType\": 4}}, \"*\")"
      ],
      "text/plain": [
       "<IPython.core.display.Javascript object>"
      ]
     },
     "metadata": {},
     "output_type": "display_data"
    },
    {
     "data": {
      "text/markdown": [
       "<span style=\"color:#3366cc\">Hint:</span> Remember to *only* count the input features when determining `input_shape`. You should not count the target (the `CompressiveStrength` column)."
      ],
      "text/plain": [
       "Hint: Remember to *only* count the input features when determining `input_shape`. You should not count the target (the `CompressiveStrength` column)."
      ]
     },
     "metadata": {},
     "output_type": "display_data"
    },
    {
     "data": {
      "application/javascript": [
       "parent.postMessage({\"jupyterEvent\": \"custom.exercise_interaction\", \"data\": {\"interactionType\": 3, \"questionType\": 2, \"questionId\": \"1_Q1\", \"learnToolsVersion\": \"0.3.4\", \"valueTowardsCompletion\": 0.0, \"failureMessage\": \"\", \"exceptionClass\": \"\", \"trace\": \"\", \"outcomeType\": 4}}, \"*\")"
      ],
      "text/plain": [
       "<IPython.core.display.Javascript object>"
      ]
     },
     "metadata": {},
     "output_type": "display_data"
    },
    {
     "data": {
      "text/markdown": [
       "<span style=\"color:#33cc99\">Solution:</span> \n",
       "```python\n",
       "\n",
       "input_shape = [8]\n",
       "# you could also use a 1-tuple, like input_shape = (8,)\n",
       "\n",
       "```"
      ],
      "text/plain": [
       "Solution: \n",
       "```python\n",
       "\n",
       "input_shape = [8]\n",
       "# you could also use a 1-tuple, like input_shape = (8,)\n",
       "\n",
       "```"
      ]
     },
     "metadata": {},
     "output_type": "display_data"
    }
   ],
   "source": [
    "# Lines below will give you a hint or solution code\n",
    "q_1.hint()\n",
    "q_1.solution()"
   ]
  },
  {
   "cell_type": "markdown",
   "id": "fed1ae8f",
   "metadata": {
    "papermill": {
     "duration": 0.005416,
     "end_time": "2022-12-30T09:26:26.849402",
     "exception": false,
     "start_time": "2022-12-30T09:26:26.843986",
     "status": "completed"
    },
    "tags": []
   },
   "source": [
    "# 2) Define a Model with Hidden Layers #\n",
    "\n",
    "Now create a model with three hidden layers, each having 512 units and the ReLU activation.  Be sure to include an output layer of one unit and no activation, and also `input_shape` as an argument to the first layer."
   ]
  },
  {
   "cell_type": "code",
   "execution_count": 6,
   "id": "b9e69442",
   "metadata": {
    "execution": {
     "iopub.execute_input": "2022-12-30T09:26:26.864655Z",
     "iopub.status.busy": "2022-12-30T09:26:26.863600Z",
     "iopub.status.idle": "2022-12-30T09:26:28.102198Z",
     "shell.execute_reply": "2022-12-30T09:26:28.100725Z"
    },
    "lines_to_next_cell": 0,
    "papermill": {
     "duration": 1.250133,
     "end_time": "2022-12-30T09:26:28.105134",
     "exception": false,
     "start_time": "2022-12-30T09:26:26.855001",
     "status": "completed"
    },
    "tags": []
   },
   "outputs": [
    {
     "name": "stderr",
     "output_type": "stream",
     "text": [
      "2022-12-30 09:26:28.003397: I tensorflow/core/common_runtime/process_util.cc:146] Creating new thread pool with default inter op setting: 2. Tune using inter_op_parallelism_threads for best performance.\n"
     ]
    },
    {
     "data": {
      "application/javascript": [
       "parent.postMessage({\"jupyterEvent\": \"custom.exercise_interaction\", \"data\": {\"outcomeType\": 1, \"valueTowardsCompletion\": 0.3333333333333333, \"interactionType\": 1, \"questionType\": 2, \"questionId\": \"2_Q2\", \"learnToolsVersion\": \"0.3.4\", \"failureMessage\": \"\", \"exceptionClass\": \"\", \"trace\": \"\"}}, \"*\")"
      ],
      "text/plain": [
       "<IPython.core.display.Javascript object>"
      ]
     },
     "metadata": {},
     "output_type": "display_data"
    },
    {
     "data": {
      "text/markdown": [
       "<span style=\"color:#33cc33\">Correct</span>"
      ],
      "text/plain": [
       "Correct"
      ]
     },
     "metadata": {},
     "output_type": "display_data"
    }
   ],
   "source": [
    "from tensorflow import keras\n",
    "from tensorflow.keras import layers\n",
    "\n",
    "# YOUR CODE HERE\n",
    "model = keras.Sequential([\n",
    "    layers.Dense(units=512,activation=\"relu\",input_shape=[8]),\n",
    "    layers.Dense(units=512,activation=\"relu\"),\n",
    "    layers.Dense(units=512,activation=\"relu\"),\n",
    "    layers.Dense(units=1)\n",
    "])\n",
    "\n",
    "# Check your answer\n",
    "q_2.check()"
   ]
  },
  {
   "cell_type": "code",
   "execution_count": 7,
   "id": "0e44f6c8",
   "metadata": {
    "execution": {
     "iopub.execute_input": "2022-12-30T09:26:28.119064Z",
     "iopub.status.busy": "2022-12-30T09:26:28.118623Z",
     "iopub.status.idle": "2022-12-30T09:26:28.131357Z",
     "shell.execute_reply": "2022-12-30T09:26:28.130213Z"
    },
    "papermill": {
     "duration": 0.022613,
     "end_time": "2022-12-30T09:26:28.133850",
     "exception": false,
     "start_time": "2022-12-30T09:26:28.111237",
     "status": "completed"
    },
    "tags": []
   },
   "outputs": [
    {
     "data": {
      "application/javascript": [
       "parent.postMessage({\"jupyterEvent\": \"custom.exercise_interaction\", \"data\": {\"interactionType\": 2, \"questionType\": 2, \"questionId\": \"2_Q2\", \"learnToolsVersion\": \"0.3.4\", \"valueTowardsCompletion\": 0.0, \"failureMessage\": \"\", \"exceptionClass\": \"\", \"trace\": \"\", \"outcomeType\": 4}}, \"*\")"
      ],
      "text/plain": [
       "<IPython.core.display.Javascript object>"
      ]
     },
     "metadata": {},
     "output_type": "display_data"
    },
    {
     "data": {
      "text/markdown": [
       "<span style=\"color:#3366cc\">Hint:</span> Your answer should look something like:\n",
       "```python\n",
       "model = keras.Sequential([\n",
       "    ____\n",
       "])\n",
       "```\n"
      ],
      "text/plain": [
       "Hint: Your answer should look something like:\n",
       "```python\n",
       "model = keras.Sequential([\n",
       "    ____\n",
       "])\n",
       "```"
      ]
     },
     "metadata": {},
     "output_type": "display_data"
    },
    {
     "data": {
      "application/javascript": [
       "parent.postMessage({\"jupyterEvent\": \"custom.exercise_interaction\", \"data\": {\"interactionType\": 3, \"questionType\": 2, \"questionId\": \"2_Q2\", \"learnToolsVersion\": \"0.3.4\", \"valueTowardsCompletion\": 0.0, \"failureMessage\": \"\", \"exceptionClass\": \"\", \"trace\": \"\", \"outcomeType\": 4}}, \"*\")"
      ],
      "text/plain": [
       "<IPython.core.display.Javascript object>"
      ]
     },
     "metadata": {},
     "output_type": "display_data"
    },
    {
     "data": {
      "text/markdown": [
       "<span style=\"color:#33cc99\">Solution:</span> \n",
       "```python\n",
       "\n",
       "from tensorflow import keras\n",
       "from tensorflow.keras import layers\n",
       "\n",
       "model = keras.Sequential([\n",
       "    layers.Dense(512, activation='relu', input_shape=input_shape),\n",
       "    layers.Dense(512, activation='relu'),\n",
       "    layers.Dense(512, activation='relu'),    \n",
       "    layers.Dense(1),\n",
       "])\n",
       "\n",
       "```"
      ],
      "text/plain": [
       "Solution: \n",
       "```python\n",
       "\n",
       "from tensorflow import keras\n",
       "from tensorflow.keras import layers\n",
       "\n",
       "model = keras.Sequential([\n",
       "    layers.Dense(512, activation='relu', input_shape=input_shape),\n",
       "    layers.Dense(512, activation='relu'),\n",
       "    layers.Dense(512, activation='relu'),    \n",
       "    layers.Dense(1),\n",
       "])\n",
       "\n",
       "```"
      ]
     },
     "metadata": {},
     "output_type": "display_data"
    }
   ],
   "source": [
    "# Lines below will give you a hint or solution code\n",
    "q_2.hint()\n",
    "q_2.solution()"
   ]
  },
  {
   "cell_type": "markdown",
   "id": "4a640f1d",
   "metadata": {
    "papermill": {
     "duration": 0.006168,
     "end_time": "2022-12-30T09:26:28.146610",
     "exception": false,
     "start_time": "2022-12-30T09:26:28.140442",
     "status": "completed"
    },
    "tags": []
   },
   "source": [
    "# 3) Activation Layers #\n",
    "\n",
    "Let's explore activations functions some.\n",
    "\n",
    "The usual way of attaching an activation function to a `Dense` layer is to include it as part of the definition with the `activation` argument. Sometimes though you'll want to put some other layer between the `Dense` layer and its activation function. (We'll see an example of this in Lesson 5 with *batch normalization*.) In this case, we can define the activation in its own `Activation` layer, like so:\n",
    "\n",
    "```\n",
    "layers.Dense(units=8),\n",
    "layers.Activation('relu')\n",
    "```\n",
    "\n",
    "This is completely equivalent to the ordinary way: `layers.Dense(units=8, activation='relu')`.\n",
    "\n",
    "Rewrite the following model so that each activation is in its own `Activation` layer."
   ]
  },
  {
   "cell_type": "code",
   "execution_count": 8,
   "id": "cd502e99",
   "metadata": {
    "execution": {
     "iopub.execute_input": "2022-12-30T09:26:28.161271Z",
     "iopub.status.busy": "2022-12-30T09:26:28.160860Z",
     "iopub.status.idle": "2022-12-30T09:26:28.371011Z",
     "shell.execute_reply": "2022-12-30T09:26:28.370110Z"
    },
    "lines_to_next_cell": 0,
    "papermill": {
     "duration": 0.220089,
     "end_time": "2022-12-30T09:26:28.373171",
     "exception": false,
     "start_time": "2022-12-30T09:26:28.153082",
     "status": "completed"
    },
    "tags": []
   },
   "outputs": [
    {
     "data": {
      "application/javascript": [
       "parent.postMessage({\"jupyterEvent\": \"custom.exercise_interaction\", \"data\": {\"outcomeType\": 1, \"valueTowardsCompletion\": 0.3333333333333333, \"interactionType\": 1, \"questionType\": 2, \"questionId\": \"3_Q3\", \"learnToolsVersion\": \"0.3.4\", \"failureMessage\": \"\", \"exceptionClass\": \"\", \"trace\": \"\"}}, \"*\")"
      ],
      "text/plain": [
       "<IPython.core.display.Javascript object>"
      ]
     },
     "metadata": {},
     "output_type": "display_data"
    },
    {
     "data": {
      "text/markdown": [
       "<span style=\"color:#33cc33\">Correct</span>"
      ],
      "text/plain": [
       "Correct"
      ]
     },
     "metadata": {},
     "output_type": "display_data"
    }
   ],
   "source": [
    "### YOUR CODE HERE: rewrite this to use activation layers\n",
    "model = keras.Sequential([\n",
    "    layers.Dense(32, input_shape=[8]),\n",
    "    layers.Activation('relu'),\n",
    "    layers.Dense(32),\n",
    "    layers.Activation('relu'),\n",
    "    layers.Dense(1),\n",
    "])\n",
    "\n",
    "# Check your answer\n",
    "q_3.check()"
   ]
  },
  {
   "cell_type": "code",
   "execution_count": 9,
   "id": "27f2c2e7",
   "metadata": {
    "execution": {
     "iopub.execute_input": "2022-12-30T09:26:28.389969Z",
     "iopub.status.busy": "2022-12-30T09:26:28.388725Z",
     "iopub.status.idle": "2022-12-30T09:26:28.403554Z",
     "shell.execute_reply": "2022-12-30T09:26:28.402446Z"
    },
    "papermill": {
     "duration": 0.025862,
     "end_time": "2022-12-30T09:26:28.405838",
     "exception": false,
     "start_time": "2022-12-30T09:26:28.379976",
     "status": "completed"
    },
    "tags": []
   },
   "outputs": [
    {
     "data": {
      "application/javascript": [
       "parent.postMessage({\"jupyterEvent\": \"custom.exercise_interaction\", \"data\": {\"interactionType\": 2, \"questionType\": 2, \"questionId\": \"3_Q3\", \"learnToolsVersion\": \"0.3.4\", \"valueTowardsCompletion\": 0.0, \"failureMessage\": \"\", \"exceptionClass\": \"\", \"trace\": \"\", \"outcomeType\": 4}}, \"*\")"
      ],
      "text/plain": [
       "<IPython.core.display.Javascript object>"
      ]
     },
     "metadata": {},
     "output_type": "display_data"
    },
    {
     "data": {
      "text/markdown": [
       "<span style=\"color:#3366cc\">Hint:</span> Your model should look something like:\n",
       "```python\n",
       "model = keras.Sequential([\n",
       "    layers.Dense(____),\n",
       "    layers.Activation(____),\n",
       "    layers.Dense(____),\n",
       "    layers.Activation(____),\n",
       "    layers.Dense(1),\n",
       "])\n",
       "```\n"
      ],
      "text/plain": [
       "Hint: Your model should look something like:\n",
       "```python\n",
       "model = keras.Sequential([\n",
       "    layers.Dense(____),\n",
       "    layers.Activation(____),\n",
       "    layers.Dense(____),\n",
       "    layers.Activation(____),\n",
       "    layers.Dense(1),\n",
       "])\n",
       "```"
      ]
     },
     "metadata": {},
     "output_type": "display_data"
    },
    {
     "data": {
      "application/javascript": [
       "parent.postMessage({\"jupyterEvent\": \"custom.exercise_interaction\", \"data\": {\"interactionType\": 3, \"questionType\": 2, \"questionId\": \"3_Q3\", \"learnToolsVersion\": \"0.3.4\", \"valueTowardsCompletion\": 0.0, \"failureMessage\": \"\", \"exceptionClass\": \"\", \"trace\": \"\", \"outcomeType\": 4}}, \"*\")"
      ],
      "text/plain": [
       "<IPython.core.display.Javascript object>"
      ]
     },
     "metadata": {},
     "output_type": "display_data"
    },
    {
     "data": {
      "text/markdown": [
       "<span style=\"color:#33cc99\">Solution:</span> \n",
       "```python\n",
       "\n",
       "model = keras.Sequential([\n",
       "    layers.Dense(32, input_shape=[8]),\n",
       "    layers.Activation('relu'),\n",
       "    layers.Dense(32),\n",
       "    layers.Activation('relu'),\n",
       "    layers.Dense(1),\n",
       "])\n",
       "\n",
       "```"
      ],
      "text/plain": [
       "Solution: \n",
       "```python\n",
       "\n",
       "model = keras.Sequential([\n",
       "    layers.Dense(32, input_shape=[8]),\n",
       "    layers.Activation('relu'),\n",
       "    layers.Dense(32),\n",
       "    layers.Activation('relu'),\n",
       "    layers.Dense(1),\n",
       "])\n",
       "\n",
       "```"
      ]
     },
     "metadata": {},
     "output_type": "display_data"
    }
   ],
   "source": [
    "# Lines below will give you a hint or solution code\n",
    "q_3.hint()\n",
    "q_3.solution()"
   ]
  },
  {
   "cell_type": "markdown",
   "id": "249cdbed",
   "metadata": {
    "papermill": {
     "duration": 0.007372,
     "end_time": "2022-12-30T09:26:28.420528",
     "exception": false,
     "start_time": "2022-12-30T09:26:28.413156",
     "status": "completed"
    },
    "tags": []
   },
   "source": [
    "# Optional: Alternatives to ReLU #\n",
    "\n",
    "There is a whole family of variants of the `'relu'` activation -- `'elu'`, `'selu'`, and `'swish'`, among others -- all of which you can use in Keras. Sometimes one activation will perform better than another on a given task, so you could consider experimenting with activations as you develop a model. The ReLU activation tends to do well on most problems, so it's a good one to start with.\n",
    "\n",
    "Let's look at the graphs of some of these. Change the activation from `'relu'` to one of the others named above. Then run the cell to see the graph. (Check out the [documentation](https://www.tensorflow.org/api_docs/python/tf/keras/activations) for more ideas.)"
   ]
  },
  {
   "cell_type": "code",
   "execution_count": 10,
   "id": "e1488c9f",
   "metadata": {
    "execution": {
     "iopub.execute_input": "2022-12-30T09:26:28.436986Z",
     "iopub.status.busy": "2022-12-30T09:26:28.436532Z",
     "iopub.status.idle": "2022-12-30T09:26:28.815081Z",
     "shell.execute_reply": "2022-12-30T09:26:28.814256Z"
    },
    "lines_to_next_cell": 0,
    "papermill": {
     "duration": 0.389439,
     "end_time": "2022-12-30T09:26:28.817462",
     "exception": false,
     "start_time": "2022-12-30T09:26:28.428023",
     "status": "completed"
    },
    "tags": []
   },
   "outputs": [
    {
     "data": {
      "image/png": "[encoded data removed]",
      "text/plain": [
       "<Figure size 600x400 with 1 Axes>"
      ]
     },
     "metadata": {},
     "output_type": "display_data"
    }
   ],
   "source": [
    "# YOUR CODE HERE: Change 'relu' to 'elu', 'selu', 'swish'... or something else\n",
    "activation_layer = layers.Activation('selu')\n",
    "\n",
    "x = tf.linspace(-3.0, 3.0, 100)\n",
    "y = activation_layer(x) # once created, a layer is callable just like a function\n",
    "\n",
    "plt.figure(dpi=100)\n",
    "plt.plot(x, y)\n",
    "plt.xlim(-3, 3)\n",
    "plt.xlabel(\"Input\")\n",
    "plt.ylabel(\"Output\")\n",
    "plt.show()"
   ]
  },
  {
   "cell_type": "markdown",
   "id": "8026b95a",
   "metadata": {
    "papermill": {
     "duration": 0.007295,
     "end_time": "2022-12-30T09:26:28.832435",
     "exception": false,
     "start_time": "2022-12-30T09:26:28.825140",
     "status": "completed"
    },
    "tags": []
   },
   "source": [
    "# Keep Going #\n",
    "\n",
    "Now move on to Lesson 3 and [**learn how to train neural networks**](https://www.kaggle.com/ryanholbrook/stochastic-gradient-descent) with stochastic gradient descent."
   ]
  },
  {
   "cell_type": "markdown",
   "id": "eab5c37a",
   "metadata": {
    "papermill": {
     "duration": 0.007303,
     "end_time": "2022-12-30T09:26:28.847443",
     "exception": false,
     "start_time": "2022-12-30T09:26:28.840140",
     "status": "completed"
    },
    "tags": []
   },
   "source": [
    "---\n",
    "\n",
    "\n",
    "\n",
    "\n",
    "*Have questions or comments? Visit the [course discussion forum](https://www.kaggle.com/learn/intro-to-deep-learning/discussion) to chat with other learners.*"
   ]
  }
 ],
 "metadata": {
  "kernelspec": {
   "display_name": "Python 3",
   "language": "python",
   "name": "python3"
  },
  "language_info": {
   "codemirror_mode": {
    "name": "ipython",
    "version": 3
   },
   "file_extension": ".py",
   "mimetype": "text/x-python",
   "name": "python",
   "nbconvert_exporter": "python",
   "pygments_lexer": "ipython3",
   "version": "3.7.12"
  },
  "papermill": {
   "default_parameters": {},
   "duration": 20.204352,
   "end_time": "2022-12-30T09:26:32.389689",
   "environment_variables": {},
   "exception": null,
   "input_path": "__notebook__.ipynb",
   "output_path": "__notebook__.ipynb",
   "parameters": {},
   "start_time": "2022-12-30T09:26:12.185337",
   "version": "2.3.4"
  }
 },
 "nbformat": 4,
 "nbformat_minor": 5
}
